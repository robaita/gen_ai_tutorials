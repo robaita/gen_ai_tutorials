{
 "cells": [
  {
   "cell_type": "code",
   "execution_count": null,
   "id": "c39c3a23",
   "metadata": {},
   "outputs": [],
   "source": []
  },
  {
   "cell_type": "code",
   "execution_count": 30,
   "id": "d54233e2",
   "metadata": {},
   "outputs": [],
   "source": [
    "from langchain.vectorstores import FAISS\n",
    "from langchain.embeddings import HuggingFaceEmbeddings\n",
    "from langchain.schema import Document\n",
    "from langchain.retrievers import BM25Retriever\n",
    "from langchain.retrievers import EnsembleRetriever\n",
    "from langchain.text_splitter import RecursiveCharacterTextSplitter\n",
    "from langchain.document_loaders import PyMuPDFLoader\n",
    "from langchain.schema import Document\n",
    "\n",
    "# Load all pages\n",
    "loader = PyMuPDFLoader(\"data/RAMAYANA.pdf\")\n",
    "documents = loader.load()\n",
    "\n",
    "# Example: define chapters by page ranges (you can adjust this)\n",
    "chapter_map = {\n",
    "    \"THE BIRTH OF RAMA\": range(3, 4),\n",
    "    \"The Valiant Princes\": range(4, 7),\n",
    "    \"SITA'S SWAYAMVAR\": range(6, 9),\n",
    "    \"KAIKEYI AND HER WISHES\": range(8, 22),\n",
    "    \"The demons in the forests\": range(21, 25),\n",
    "    \"The Kidnapping of Sita\": range(24, 27),\n",
    "    \"Rama searches for Sita\": range(28, 30),\n",
    "    \"The land of the monkeys\": range(29, 34),\n",
    "    \"Hanuman meets Sita - Lanka is destroyed\": range(34, 38),\n",
    "    \"The War\": range(37, 44),  # Extend to end of document or actual page if known\n",
    "}\n",
    "\n",
    "# Assign chapter metadata\n",
    "tagged_documents = []\n",
    "for i, doc in enumerate(documents):\n",
    "    # print(f\"Processing page {i + 1} of {doc.page_content[0:50]}\")\n",
    "    for chapter, pages in chapter_map.items():\n",
    "        pages = list(pages)\n",
    "        # print(\"Pages:\",pages)\n",
    "        if i in pages:\n",
    "            chapter_name = chapter\n",
    "            break\n",
    "        else:\n",
    "            chapter_name = \"Unknown Chapter\"\n",
    "    \n",
    "    # print(f\"Chapter: {chapter_name} for page {i + 1}\")\n",
    "    new_doc = Document(page_content=doc.page_content, metadata={\"chapter\": chapter_name, **doc.metadata})\n",
    "    tagged_documents.append(new_doc)"
   ]
  },
  {
   "cell_type": "code",
   "execution_count": 31,
   "id": "c458d700",
   "metadata": {},
   "outputs": [
    {
     "name": "stdout",
     "output_type": "stream",
     "text": [
      "Chapter: THE BIRTH OF RAMA, Content: 3 \n",
      " \n",
      "1.2 The Valiant Princes \n",
      " \n",
      "The four princes grew up to be strong and handsome. Under sage \n",
      "Vash...\n",
      "Chapter: The Valiant Princes, Content: 4 \n",
      " \n",
      "because he himself is very powerful. He wants to take Rama with \n",
      "him so that your son can learn...\n",
      "Chapter: The Valiant Princes, Content: 5 \n",
      " \n",
      "needed to lug it. Sage Vishwamitra knew about this bow and had \n",
      "purposely taken the young princ...\n",
      "Chapter: The Valiant Princes, Content: 6 \n",
      " \n",
      "for Rama, Lakshmana and Vishwamitra, everybody else turned pale. \n",
      "Ram, a lifted the entire bow ...\n",
      "Chapter: SITA'S SWAYAMVAR, Content: 7 \n",
      " \n",
      "it”. Dasahratha who was watching Parushurama, came running to \n",
      "him and prayed to him \"Parushura...\n",
      "Chapter: SITA'S SWAYAMVAR, Content: 8 \n",
      " \n",
      "invited to the city to provide entertainment to the people. The chiefs \n",
      "of the city were instru...\n",
      "Chapter: KAIKEYI AND HER WISHES, Content: 9 \n",
      " \n",
      "Provoked by Manthara, Kaikeyi thought about what she said. No, she \n",
      "did not mind Rama being the...\n"
     ]
    }
   ],
   "source": [
    "for doc in tagged_documents[3:10]:\n",
    "    print(f\"Chapter: {doc.metadata['chapter']}, Content: {doc.page_content[:100]}...\")  # Print first 100 chars of each document\n"
   ]
  },
  {
   "cell_type": "code",
   "execution_count": 32,
   "id": "bb76c891",
   "metadata": {},
   "outputs": [],
   "source": [
    "from langchain.text_splitter import RecursiveCharacterTextSplitter\n",
    "\n",
    "splitter = RecursiveCharacterTextSplitter(chunk_size=300, chunk_overlap=50)\n",
    "chunks = splitter.split_documents(tagged_documents)\n"
   ]
  },
  {
   "cell_type": "code",
   "execution_count": 33,
   "id": "b4321182",
   "metadata": {},
   "outputs": [],
   "source": [
    "# 3. Embedding and vector store creation\n",
    "embedding_model = HuggingFaceEmbeddings(model_name=\"all-MiniLM-L6-v2\",\n",
    "                                        model_kwargs={\"device\": \"cpu\"})\n",
    "vectorstore = FAISS.from_documents(chunks, embedding_model)\n"
   ]
  },
  {
   "cell_type": "code",
   "execution_count": null,
   "id": "0f45e406",
   "metadata": {},
   "outputs": [
    {
     "name": "stdout",
     "output_type": "stream",
     "text": [
      "\n",
      "--- Result 1 ---\n",
      "Content: me when I die. Kaikeyi has destroyed even this. She is my true \n",
      "enemy. Kaushalya! Sumitra! I do not want to live longer. My eyes are \n",
      "falling. Rama, my son! Rama, my son!” The king died. \n",
      "Ayodhya which was still grieving over Rama’s exile was plunged into\n",
      "Metadata: {'chapter': 'KAIKEYI AND HER WISHES', 'producer': 'Microsoft® Word 2010', 'creator': 'Microsoft® Word 2010', 'creationdate': '2013-04-14T19:39:50-07:00', 'source': 'data/RAMAYANA.pdf', 'file_path': 'data/RAMAYANA.pdf', 'total_pages': 45, 'format': 'PDF 1.5', 'title': 'RAMAYANA FOR CHILDREN', 'author': 'Sony', 'subject': 'Compiled by', 'keywords': '', 'moddate': '2013-04-14T19:39:50-07:00', 'trapped': '', 'modDate': \"D:20130414193950-07'00'\", 'creationDate': \"D:20130414193950-07'00'\", 'page': 16}\n",
      "\n",
      "--- Result 2 ---\n",
      "Content: 11 \n",
      " \n",
      "told that the king was in Kaikeyi chamber, reached the room, only to \n",
      "find the king in a sad state. Kaikeyi stopped him from talking to the \n",
      "king and ordered him “Sumatra, go and fetch Rama here. I want to \n",
      "talk to him.” \n",
      "Sumnathara conveyed this message to Rama and Rama reached\n",
      "Metadata: {'chapter': 'KAIKEYI AND HER WISHES', 'producer': 'Microsoft® Word 2010', 'creator': 'Microsoft® Word 2010', 'creationdate': '2013-04-14T19:39:50-07:00', 'source': 'data/RAMAYANA.pdf', 'file_path': 'data/RAMAYANA.pdf', 'total_pages': 45, 'format': 'PDF 1.5', 'title': 'RAMAYANA FOR CHILDREN', 'author': 'Sony', 'subject': 'Compiled by', 'keywords': '', 'moddate': '2013-04-14T19:39:50-07:00', 'trapped': '', 'modDate': \"D:20130414193950-07'00'\", 'creationDate': \"D:20130414193950-07'00'\", 'page': 11}\n",
      "\n",
      "--- Result 3 ---\n",
      "Content: time. How could Dasahratha betray such a precious son? Why was \n",
      "Kaikeyi behaving in such a wicked manner? Who provoked her into \n",
      "this? \n",
      "Tormented with these thoughts, the king again tries to change \n",
      "Kaikeyi mind “Kaika, are you angry that I decided on Rama’s\n",
      "Metadata: {'chapter': 'KAIKEYI AND HER WISHES', 'producer': 'Microsoft® Word 2010', 'creator': 'Microsoft® Word 2010', 'creationdate': '2013-04-14T19:39:50-07:00', 'source': 'data/RAMAYANA.pdf', 'file_path': 'data/RAMAYANA.pdf', 'total_pages': 45, 'format': 'PDF 1.5', 'title': 'RAMAYANA FOR CHILDREN', 'author': 'Sony', 'subject': 'Compiled by', 'keywords': '', 'moddate': '2013-04-14T19:39:50-07:00', 'trapped': '', 'modDate': \"D:20130414193950-07'00'\", 'creationDate': \"D:20130414193950-07'00'\", 'page': 10}\n",
      "\n",
      "--- Result 4 ---\n",
      "Content: caused him any anguish?” asked Rama politely. \n",
      "Kaikeyi told him about her two wishes and about the king’s \n",
      "reluctance to agree to them. \n",
      "Without any hesitation Rama at once agreed to carry out her wishes \n",
      "“Mother, you want me to live in the forest like a hermit. Is that all? I\n",
      "Metadata: {'chapter': 'KAIKEYI AND HER WISHES', 'producer': 'Microsoft® Word 2010', 'creator': 'Microsoft® Word 2010', 'creationdate': '2013-04-14T19:39:50-07:00', 'source': 'data/RAMAYANA.pdf', 'file_path': 'data/RAMAYANA.pdf', 'total_pages': 45, 'format': 'PDF 1.5', 'title': 'RAMAYANA FOR CHILDREN', 'author': 'Sony', 'subject': 'Compiled by', 'keywords': '', 'moddate': '2013-04-14T19:39:50-07:00', 'trapped': '', 'modDate': \"D:20130414193950-07'00'\", 'creationDate': \"D:20130414193950-07'00'\", 'page': 11}\n",
      "\n",
      "--- Result 5 ---\n",
      "Content: Rama in Ayodhya? Where has he gone? \n",
      "Kaikeyi then had to tell him everything. Placing her hand over his \n",
      "head, she said, “Bharatha, your brother Rama along with Sita and \n",
      "Lakshmana are now living in a forest. I have got you the kingdom of \n",
      "Ayodhya.”\n",
      "Metadata: {'chapter': 'KAIKEYI AND HER WISHES', 'producer': 'Microsoft® Word 2010', 'creator': 'Microsoft® Word 2010', 'creationdate': '2013-04-14T19:39:50-07:00', 'source': 'data/RAMAYANA.pdf', 'file_path': 'data/RAMAYANA.pdf', 'total_pages': 45, 'format': 'PDF 1.5', 'title': 'RAMAYANA FOR CHILDREN', 'author': 'Sony', 'subject': 'Compiled by', 'keywords': '', 'moddate': '2013-04-14T19:39:50-07:00', 'trapped': '', 'modDate': \"D:20130414193950-07'00'\", 'creationDate': \"D:20130414193950-07'00'\", 'page': 17}\n"
     ]
    }
   ],
   "source": [
    "retriever = vectorstore.as_retriever(\n",
    "    search_kwargs={\n",
    "        \"k\": 5,\n",
    "        \"filter\": {\"chapter\": \"KAIKEYI AND HER WISHES\"}  # Filter for specific chapter\n",
    "    }\n",
    ")\n",
    "\n",
    "query = \"Tell me the whishes of Kaikeyi in the Ramayana\"\n",
    "filtered_results = retriever.get_relevant_documents(query)\n",
    "\n",
    "for i, doc in enumerate(filtered_results):\n",
    "    print(f\"\\n--- Result {i+1} ---\")\n",
    "    print(\"Content:\", doc.page_content)\n",
    "    print(\"Metadata:\", doc.metadata)"
   ]
  },
  {
   "cell_type": "code",
   "execution_count": 36,
   "id": "90fff857",
   "metadata": {},
   "outputs": [
    {
     "name": "stdout",
     "output_type": "stream",
     "text": [
      "{'chapter': 'Unknown Chapter', 'producer': 'Microsoft® Word 2010', 'creator': 'Microsoft® Word 2010', 'creationdate': '2013-04-14T19:39:50-07:00', 'source': 'data/RAMAYANA.pdf', 'file_path': 'data/RAMAYANA.pdf', 'total_pages': 45, 'format': 'PDF 1.5', 'title': 'RAMAYANA FOR CHILDREN', 'author': 'Sony', 'subject': 'Compiled by', 'keywords': '', 'moddate': '2013-04-14T19:39:50-07:00', 'trapped': '', 'modDate': \"D:20130414193950-07'00'\", 'creationDate': \"D:20130414193950-07'00'\", 'page': 1}\n",
      "{'chapter': 'KAIKEYI AND HER WISHES', 'producer': 'Microsoft® Word 2010', 'creator': 'Microsoft® Word 2010', 'creationdate': '2013-04-14T19:39:50-07:00', 'source': 'data/RAMAYANA.pdf', 'file_path': 'data/RAMAYANA.pdf', 'total_pages': 45, 'format': 'PDF 1.5', 'title': 'RAMAYANA FOR CHILDREN', 'author': 'Sony', 'subject': 'Compiled by', 'keywords': '', 'moddate': '2013-04-14T19:39:50-07:00', 'trapped': '', 'modDate': \"D:20130414193950-07'00'\", 'creationDate': \"D:20130414193950-07'00'\", 'page': 16}\n",
      "{'chapter': 'KAIKEYI AND HER WISHES', 'producer': 'Microsoft® Word 2010', 'creator': 'Microsoft® Word 2010', 'creationdate': '2013-04-14T19:39:50-07:00', 'source': 'data/RAMAYANA.pdf', 'file_path': 'data/RAMAYANA.pdf', 'total_pages': 45, 'format': 'PDF 1.5', 'title': 'RAMAYANA FOR CHILDREN', 'author': 'Sony', 'subject': 'Compiled by', 'keywords': '', 'moddate': '2013-04-14T19:39:50-07:00', 'trapped': '', 'modDate': \"D:20130414193950-07'00'\", 'creationDate': \"D:20130414193950-07'00'\", 'page': 11}\n",
      "{'chapter': 'The War', 'producer': 'Microsoft® Word 2010', 'creator': 'Microsoft® Word 2010', 'creationdate': '2013-04-14T19:39:50-07:00', 'source': 'data/RAMAYANA.pdf', 'file_path': 'data/RAMAYANA.pdf', 'total_pages': 45, 'format': 'PDF 1.5', 'title': 'RAMAYANA FOR CHILDREN', 'author': 'Sony', 'subject': 'Compiled by', 'keywords': '', 'moddate': '2013-04-14T19:39:50-07:00', 'trapped': '', 'modDate': \"D:20130414193950-07'00'\", 'creationDate': \"D:20130414193950-07'00'\", 'page': 43}\n",
      "{'chapter': 'KAIKEYI AND HER WISHES', 'producer': 'Microsoft® Word 2010', 'creator': 'Microsoft® Word 2010', 'creationdate': '2013-04-14T19:39:50-07:00', 'source': 'data/RAMAYANA.pdf', 'file_path': 'data/RAMAYANA.pdf', 'total_pages': 45, 'format': 'PDF 1.5', 'title': 'RAMAYANA FOR CHILDREN', 'author': 'Sony', 'subject': 'Compiled by', 'keywords': '', 'moddate': '2013-04-14T19:39:50-07:00', 'trapped': '', 'modDate': \"D:20130414193950-07'00'\", 'creationDate': \"D:20130414193950-07'00'\", 'page': 10}\n"
     ]
    }
   ],
   "source": [
    "retriever = vectorstore.as_retriever(search_kwargs={\"k\": 5})\n",
    "results = retriever.get_relevant_documents(\"Tell me the whishes of Kaikeyi in the Ramayana\")\n",
    "for doc in results:\n",
    "    print(doc.metadata)\n"
   ]
  },
  {
   "cell_type": "code",
   "execution_count": null,
   "id": "26b35dfa",
   "metadata": {},
   "outputs": [],
   "source": []
  }
 ],
 "metadata": {
  "kernelspec": {
   "display_name": "torch",
   "language": "python",
   "name": "python3"
  },
  "language_info": {
   "codemirror_mode": {
    "name": "ipython",
    "version": 3
   },
   "file_extension": ".py",
   "mimetype": "text/x-python",
   "name": "python",
   "nbconvert_exporter": "python",
   "pygments_lexer": "ipython3",
   "version": "3.12.3"
  }
 },
 "nbformat": 4,
 "nbformat_minor": 5
}
