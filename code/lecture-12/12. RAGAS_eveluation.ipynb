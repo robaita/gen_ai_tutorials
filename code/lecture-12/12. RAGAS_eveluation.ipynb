{
 "cells": [
  {
   "cell_type": "code",
   "execution_count": 13,
   "id": "a6ed514e",
   "metadata": {},
   "outputs": [],
   "source": [
    "from langchain.document_loaders import PyMuPDFLoader\n",
    "from langchain.embeddings import HuggingFaceEmbeddings\n",
    "from langchain.vectorstores import Chroma\n",
    "from langchain.chat_models import ChatOpenAI\n",
    "from langchain.chains import RetrievalQA\n",
    "from ragas.metrics import (\n",
    "    answer_relevancy,\n",
    "    context_precision,\n",
    "    context_recall,\n",
    "    faithfulness\n",
    ")\n",
    "from ragas import evaluate\n",
    "from ragas import SingleTurnSample\n",
    "\n",
    "from datasets import Dataset\n",
    "import json\n",
    "import os"
   ]
  },
  {
   "cell_type": "code",
   "execution_count": 14,
   "id": "161bf909",
   "metadata": {},
   "outputs": [],
   "source": [
    "file = open('data/key.txt', 'r')\n",
    "# Read the API key from the file\n",
    "api_key = file.read().strip()\n",
    "# Close the file\n",
    "file.close()\n",
    "# 🧠 Set your OpenAI API key\n",
    "os.environ[\"OPENAI_API_KEY\"] = api_key\n",
    "\n",
    "# 2️⃣ Load the Ramayana PDF\n",
    "loader = PyMuPDFLoader(\"data/RAMAYANA.pdf\")\n",
    "docs = loader.load()\n",
    "\n",
    "# 3️⃣ Embed and store in vector DB\n",
    "embedding = HuggingFaceEmbeddings(model_name=\"all-MiniLM-L6-v2\",\n",
    "                                        model_kwargs={\"device\": \"cpu\"})\n",
    "vectorstore = Chroma.from_documents(docs, embedding=embedding)\n",
    "\n",
    "# 4️⃣ Set up QA Chain\n",
    "retriever = vectorstore.as_retriever()\n",
    "llm = ChatOpenAI(model_name=\"gpt-4\", temperature=0.2)\n",
    "\n",
    "qa_chain = RetrievalQA.from_chain_type(\n",
    "    llm=llm,\n",
    "    retriever=retriever,\n",
    "    return_source_documents=True\n",
    ")\n"
   ]
  },
  {
   "cell_type": "code",
   "execution_count": 15,
   "id": "056508fa",
   "metadata": {},
   "outputs": [],
   "source": [
    "# 4️⃣ Load Evaluation Questions\n",
    "queries = [\n",
    "  {\n",
    "    \"question\": \"Who was the father of Lord Rama?\",\n",
    "    \"ground_truth\": \"King Dasharatha was the father of Lord Rama.\"\n",
    "  },\n",
    "  {\n",
    "    \"question\": \"Why did Rama go to the forest?\",\n",
    "    \"ground_truth\": \"Rama went to the forest to honor his father's promise to Kaikeyi.\"\n",
    "  }\n",
    "]\n",
    "\n"
   ]
  },
  {
   "cell_type": "code",
   "execution_count": null,
   "id": "cc46b541",
   "metadata": {},
   "outputs": [
    {
     "name": "stdout",
     "output_type": "stream",
     "text": [
      "🔍 Query: Who was the father of Lord Rama?\n",
      "💬 Answer: The father of Lord Rama was King Dasharatha.\n",
      "📄 Contexts: ['16 \\n \\nthe time he took him to the blind parents, the boy was already dead. \\nThe grief-stricken father of Sravanakumar cursed Dasahratha “O \\nKing! You have killed my son and thus separated me from him. This \\ngrief will be the cause of my death. You shall also die, pining for \\nyour son. \\nDasahratha told Kaushalya about this incident and holding her \\nhands, said “The sage’s curse had come true now. Please forgive me \\nfor all my sins”.  \\nThe king recalled each and every feature of the handsome Rama and \\nwith tears blurring his eyes cried out “I wanted my son to be near \\nme when I die. Kaikeyi has destroyed even this. She is my true \\nenemy. Kaushalya! Sumitra! I do not want to live longer. My eyes are \\nfalling. Rama, my son! Rama, my son!” The king died. \\nAyodhya which was still grieving over Rama’s exile was plunged into \\nsorrow as the news of the king’s death spread. “But what a tragedy? \\nThe king who had four mighty sons died when none of them were \\nnear him. Who will perform his funeral rites” debated the people. \\nSage Vashishta therefore made arrangements for the body to be \\npreserved for a long time. \\nDasharatha’s ministers hurriedly called a meeting and on Vashistha’s \\nadvice, sent word to Bharatha who was visiting his maternal \\nrelatives. But the messengers were instructed not to disclose to \\nBharatha about Rama’s exile and king’s death. \\nOn reaching the message, Bharatha immediately hurried to Ayodhya. \\nJust the previous night, he had some evil omens and he was anxious \\nto return home at the earliest. \\nOn reaching Ayodhya, Bharatha was shocked to see people huddled \\nin corners and weeping. No prayers were offered. No chanting of \\nVedas could be heard. Even one child could not found playing in the \\npark. There was a deathly silence everywhere. The worried Bharatha \\nfirst went to his father’s chambers but found empty. So he went to \\nKaikeyi’s chambers hoping to find his father there, but only Kaikeyi \\nwas there. “Mother, where is my father? What has happened in my \\nabsence” he asked. \\n', '16 \\n \\nthe time he took him to the blind parents, the boy was already dead. \\nThe grief-stricken father of Sravanakumar cursed Dasahratha “O \\nKing! You have killed my son and thus separated me from him. This \\ngrief will be the cause of my death. You shall also die, pining for \\nyour son. \\nDasahratha told Kaushalya about this incident and holding her \\nhands, said “The sage’s curse had come true now. Please forgive me \\nfor all my sins”.  \\nThe king recalled each and every feature of the handsome Rama and \\nwith tears blurring his eyes cried out “I wanted my son to be near \\nme when I die. Kaikeyi has destroyed even this. She is my true \\nenemy. Kaushalya! Sumitra! I do not want to live longer. My eyes are \\nfalling. Rama, my son! Rama, my son!” The king died. \\nAyodhya which was still grieving over Rama’s exile was plunged into \\nsorrow as the news of the king’s death spread. “But what a tragedy? \\nThe king who had four mighty sons died when none of them were \\nnear him. Who will perform his funeral rites” debated the people. \\nSage Vashishta therefore made arrangements for the body to be \\npreserved for a long time. \\nDasharatha’s ministers hurriedly called a meeting and on Vashistha’s \\nadvice, sent word to Bharatha who was visiting his maternal \\nrelatives. But the messengers were instructed not to disclose to \\nBharatha about Rama’s exile and king’s death. \\nOn reaching the message, Bharatha immediately hurried to Ayodhya. \\nJust the previous night, he had some evil omens and he was anxious \\nto return home at the earliest. \\nOn reaching Ayodhya, Bharatha was shocked to see people huddled \\nin corners and weeping. No prayers were offered. No chanting of \\nVedas could be heard. Even one child could not found playing in the \\npark. There was a deathly silence everywhere. The worried Bharatha \\nfirst went to his father’s chambers but found empty. So he went to \\nKaikeyi’s chambers hoping to find his father there, but only Kaikeyi \\nwas there. “Mother, where is my father? What has happened in my \\nabsence” he asked. \\n', '19 \\n \\nRama listened to Lakshmana calmly and said “Lakshmana, you have \\nmisunderstood Bharatha. He also has a lot of love towards him. He \\nprobably b has come here to ask me to return to Ayodhya. Don’t talk \\nhastily. And don’t talk ill of Bharatha.” \\nLakshmana never disobeyed his brother. So he kept quiet. As soon \\nas Bharatha saw Rama, he ran towards him and fell at his feet. \\nShatrugna also offered his salutations to Rama. \\nRama embraced his brothers and was concerned to see agony on \\ntheir faces. So he asked Bharatha “How is father? Have you taken \\nover the affairs of kingdom?” Bharatha could not himself any longer \\nand sobbing he said “Our father died heart –broken. He could not \\nbear the grief of your exile.” \\nOn hearing this news, tears welled up Rama’s eyes. “Bharatha, how \\nunfortunate I am! I could not look after my father at his death bed. \\nNeither did I have the opportunity to perform my father’s last rites.” \\nSita and Lakshmana were also shocked to hear about king \\nDasharatha death. \\nBharatha who had come dressed in the clothes of a hermit told his \\nbrother. “Rama, please return to Ayodhya and rule over it, instead of \\nyou, I will stay back in the forest. Rama was deeply moved by \\nBharatha love for him. But he said in a firm voice. No, Bharatha, I am \\nhere to fulfill my father’s promise. You should also respect his \\nwishes. We should not disobey our father. I will rule over Ayodhya \\nonly after completing my exile in the forest.” \\nBharatha tried his level best to make Rama change his mind. The \\nsages also tried to influence Rama but in vain. \\nRama’s only answer was “It is my duty to carry out the wishes of my \\nparents.” \\nBharatha made one more attempt to persuade Rama. “I do not have \\nthe capability to rule over the kingdom. Come back to Ayodhya at \\nleast for my sake.” Rama smiled gently at this and said “Bharatha, \\nyou are very intelligent and capable person. You have the expert \\n', '19 \\n \\nRama listened to Lakshmana calmly and said “Lakshmana, you have \\nmisunderstood Bharatha. He also has a lot of love towards him. He \\nprobably b has come here to ask me to return to Ayodhya. Don’t talk \\nhastily. And don’t talk ill of Bharatha.” \\nLakshmana never disobeyed his brother. So he kept quiet. As soon \\nas Bharatha saw Rama, he ran towards him and fell at his feet. \\nShatrugna also offered his salutations to Rama. \\nRama embraced his brothers and was concerned to see agony on \\ntheir faces. So he asked Bharatha “How is father? Have you taken \\nover the affairs of kingdom?” Bharatha could not himself any longer \\nand sobbing he said “Our father died heart –broken. He could not \\nbear the grief of your exile.” \\nOn hearing this news, tears welled up Rama’s eyes. “Bharatha, how \\nunfortunate I am! I could not look after my father at his death bed. \\nNeither did I have the opportunity to perform my father’s last rites.” \\nSita and Lakshmana were also shocked to hear about king \\nDasharatha death. \\nBharatha who had come dressed in the clothes of a hermit told his \\nbrother. “Rama, please return to Ayodhya and rule over it, instead of \\nyou, I will stay back in the forest. Rama was deeply moved by \\nBharatha love for him. But he said in a firm voice. No, Bharatha, I am \\nhere to fulfill my father’s promise. You should also respect his \\nwishes. We should not disobey our father. I will rule over Ayodhya \\nonly after completing my exile in the forest.” \\nBharatha tried his level best to make Rama change his mind. The \\nsages also tried to influence Rama but in vain. \\nRama’s only answer was “It is my duty to carry out the wishes of my \\nparents.” \\nBharatha made one more attempt to persuade Rama. “I do not have \\nthe capability to rule over the kingdom. Come back to Ayodhya at \\nleast for my sake.” Rama smiled gently at this and said “Bharatha, \\nyou are very intelligent and capable person. You have the expert \\n']\n",
      "\n",
      "✅ Ground Truth: King Dasharatha was the father of Lord Rama.\n",
      "\n",
      "{'user_input': 'Who was the father of Lord Rama?', 'retrieved_contexts': ['16 \\n \\nthe time he took him to the blind parents, the boy was already dead. \\nThe grief-stricken father of Sravanakumar cursed Dasahratha “O \\nKing! You have killed my son and thus separated me from him. This \\ngrief will be the cause of my death. You shall also die, pining for \\nyour son. \\nDasahratha told Kaushalya about this incident and holding her \\nhands, said “The sage’s curse had come true now. Please forgive me \\nfor all my sins”.  \\nThe king recalled each and every feature of the handsome Rama and \\nwith tears blurring his eyes cried out “I wanted my son to be near \\nme when I die. Kaikeyi has destroyed even this. She is my true \\nenemy. Kaushalya! Sumitra! I do not want to live longer. My eyes are \\nfalling. Rama, my son! Rama, my son!” The king died. \\nAyodhya which was still grieving over Rama’s exile was plunged into \\nsorrow as the news of the king’s death spread. “But what a tragedy? \\nThe king who had four mighty sons died when none of them were \\nnear him. Who will perform his funeral rites” debated the people. \\nSage Vashishta therefore made arrangements for the body to be \\npreserved for a long time. \\nDasharatha’s ministers hurriedly called a meeting and on Vashistha’s \\nadvice, sent word to Bharatha who was visiting his maternal \\nrelatives. But the messengers were instructed not to disclose to \\nBharatha about Rama’s exile and king’s death. \\nOn reaching the message, Bharatha immediately hurried to Ayodhya. \\nJust the previous night, he had some evil omens and he was anxious \\nto return home at the earliest. \\nOn reaching Ayodhya, Bharatha was shocked to see people huddled \\nin corners and weeping. No prayers were offered. No chanting of \\nVedas could be heard. Even one child could not found playing in the \\npark. There was a deathly silence everywhere. The worried Bharatha \\nfirst went to his father’s chambers but found empty. So he went to \\nKaikeyi’s chambers hoping to find his father there, but only Kaikeyi \\nwas there. “Mother, where is my father? What has happened in my \\nabsence” he asked. \\n', '16 \\n \\nthe time he took him to the blind parents, the boy was already dead. \\nThe grief-stricken father of Sravanakumar cursed Dasahratha “O \\nKing! You have killed my son and thus separated me from him. This \\ngrief will be the cause of my death. You shall also die, pining for \\nyour son. \\nDasahratha told Kaushalya about this incident and holding her \\nhands, said “The sage’s curse had come true now. Please forgive me \\nfor all my sins”.  \\nThe king recalled each and every feature of the handsome Rama and \\nwith tears blurring his eyes cried out “I wanted my son to be near \\nme when I die. Kaikeyi has destroyed even this. She is my true \\nenemy. Kaushalya! Sumitra! I do not want to live longer. My eyes are \\nfalling. Rama, my son! Rama, my son!” The king died. \\nAyodhya which was still grieving over Rama’s exile was plunged into \\nsorrow as the news of the king’s death spread. “But what a tragedy? \\nThe king who had four mighty sons died when none of them were \\nnear him. Who will perform his funeral rites” debated the people. \\nSage Vashishta therefore made arrangements for the body to be \\npreserved for a long time. \\nDasharatha’s ministers hurriedly called a meeting and on Vashistha’s \\nadvice, sent word to Bharatha who was visiting his maternal \\nrelatives. But the messengers were instructed not to disclose to \\nBharatha about Rama’s exile and king’s death. \\nOn reaching the message, Bharatha immediately hurried to Ayodhya. \\nJust the previous night, he had some evil omens and he was anxious \\nto return home at the earliest. \\nOn reaching Ayodhya, Bharatha was shocked to see people huddled \\nin corners and weeping. No prayers were offered. No chanting of \\nVedas could be heard. Even one child could not found playing in the \\npark. There was a deathly silence everywhere. The worried Bharatha \\nfirst went to his father’s chambers but found empty. So he went to \\nKaikeyi’s chambers hoping to find his father there, but only Kaikeyi \\nwas there. “Mother, where is my father? What has happened in my \\nabsence” he asked. \\n', '19 \\n \\nRama listened to Lakshmana calmly and said “Lakshmana, you have \\nmisunderstood Bharatha. He also has a lot of love towards him. He \\nprobably b has come here to ask me to return to Ayodhya. Don’t talk \\nhastily. And don’t talk ill of Bharatha.” \\nLakshmana never disobeyed his brother. So he kept quiet. As soon \\nas Bharatha saw Rama, he ran towards him and fell at his feet. \\nShatrugna also offered his salutations to Rama. \\nRama embraced his brothers and was concerned to see agony on \\ntheir faces. So he asked Bharatha “How is father? Have you taken \\nover the affairs of kingdom?” Bharatha could not himself any longer \\nand sobbing he said “Our father died heart –broken. He could not \\nbear the grief of your exile.” \\nOn hearing this news, tears welled up Rama’s eyes. “Bharatha, how \\nunfortunate I am! I could not look after my father at his death bed. \\nNeither did I have the opportunity to perform my father’s last rites.” \\nSita and Lakshmana were also shocked to hear about king \\nDasharatha death. \\nBharatha who had come dressed in the clothes of a hermit told his \\nbrother. “Rama, please return to Ayodhya and rule over it, instead of \\nyou, I will stay back in the forest. Rama was deeply moved by \\nBharatha love for him. But he said in a firm voice. No, Bharatha, I am \\nhere to fulfill my father’s promise. You should also respect his \\nwishes. We should not disobey our father. I will rule over Ayodhya \\nonly after completing my exile in the forest.” \\nBharatha tried his level best to make Rama change his mind. The \\nsages also tried to influence Rama but in vain. \\nRama’s only answer was “It is my duty to carry out the wishes of my \\nparents.” \\nBharatha made one more attempt to persuade Rama. “I do not have \\nthe capability to rule over the kingdom. Come back to Ayodhya at \\nleast for my sake.” Rama smiled gently at this and said “Bharatha, \\nyou are very intelligent and capable person. You have the expert \\n', '19 \\n \\nRama listened to Lakshmana calmly and said “Lakshmana, you have \\nmisunderstood Bharatha. He also has a lot of love towards him. He \\nprobably b has come here to ask me to return to Ayodhya. Don’t talk \\nhastily. And don’t talk ill of Bharatha.” \\nLakshmana never disobeyed his brother. So he kept quiet. As soon \\nas Bharatha saw Rama, he ran towards him and fell at his feet. \\nShatrugna also offered his salutations to Rama. \\nRama embraced his brothers and was concerned to see agony on \\ntheir faces. So he asked Bharatha “How is father? Have you taken \\nover the affairs of kingdom?” Bharatha could not himself any longer \\nand sobbing he said “Our father died heart –broken. He could not \\nbear the grief of your exile.” \\nOn hearing this news, tears welled up Rama’s eyes. “Bharatha, how \\nunfortunate I am! I could not look after my father at his death bed. \\nNeither did I have the opportunity to perform my father’s last rites.” \\nSita and Lakshmana were also shocked to hear about king \\nDasharatha death. \\nBharatha who had come dressed in the clothes of a hermit told his \\nbrother. “Rama, please return to Ayodhya and rule over it, instead of \\nyou, I will stay back in the forest. Rama was deeply moved by \\nBharatha love for him. But he said in a firm voice. No, Bharatha, I am \\nhere to fulfill my father’s promise. You should also respect his \\nwishes. We should not disobey our father. I will rule over Ayodhya \\nonly after completing my exile in the forest.” \\nBharatha tried his level best to make Rama change his mind. The \\nsages also tried to influence Rama but in vain. \\nRama’s only answer was “It is my duty to carry out the wishes of my \\nparents.” \\nBharatha made one more attempt to persuade Rama. “I do not have \\nthe capability to rule over the kingdom. Come back to Ayodhya at \\nleast for my sake.” Rama smiled gently at this and said “Bharatha, \\nyou are very intelligent and capable person. You have the expert \\n'], 'response': 'The father of Lord Rama was King Dasharatha.', 'reference': 'King Dasharatha was the father of Lord Rama.'}\n",
      "🔍 Query: Why did Rama go to the forest?\n",
      "💬 Answer: Rama went to the forest to carry out his father's promises. It was his duty as a prince.\n",
      "📄 Contexts: ['12 \\n \\nRama to the forest? Is she afraid of Bharatha? In that case, I will \\nwipe out Bharatha and his supporters. “he shouted in anger. But \\nRama Spoke in a calm and firm voice that it was his duty to carry out \\nhis father’s promises. Kaushalya felt very sad. Should a prince like \\nRama live in a forest eating simple food and sleeping on a rough –\\nstraw mat? But Rama would not hear of any such argument and so, \\nwith a heavy heart, she bid farewell to her dearest son. \\nAfter taking leave of his mother, Rama went to talk to Sita. As soon \\nas she heard that Bharatha was to be the king and that Rama was to \\nlive in the forest, she decided to go with her husband. Rama tried to \\nprevent her by saying “Janaki, don’t worry about me. Please stay \\nback in the palace and take care of my mothers. Treat my brothers \\nwell. At the end of the fourteen year of period, I will return safely to \\nAyodhya. No harm will come to me”. \\nSita replied “Lord, I will follow you like a shadow. I do not want the \\ncomforts of the palace without you. Nothing can give me greater \\nhappiness than being with you”. Rama tried his utmost to dissuade \\nher “Wild beasts roam around in the forest. You will not have a soft \\nbed to sleep on. Nor will there be good food to eat. Your tender feet \\nwill hurt when you walk on the thorny paths”.  \\nSita did not lose courage “Aryaputra, How can the beasts attack me \\nwhen you are there? Without you, even the softest bed will be like a \\nbed of thorns. It is my duty to be with you. Please let me come with \\nyou” pleaded Sita softly. So Rama agreed to Sita’s request. \\nLakshmana, who heard about Rama and Sita’s decision, came \\nrunning to him, fell at his brother’s feet and begged of him “Please \\ndo not leave me behind. I will also come with you to the forest; \\nAyodhya will be like hell to me without you.” Rama hesitated, for, \\nthere was a very strong bond of love and affection between the two \\nof them. But at the same time, why should Lakshmana undergo such \\nexile for the sake of brotherly love, thought of Rama. So he said, \\n“Sowmitri, if you come away with me, who will protect and look \\nafter our parents? But Lakshmana refused to stay back “Bharatha \\nwill look after our parents, whereas, you will have none with you in \\nthe forest. \\n', '12 \\n \\nRama to the forest? Is she afraid of Bharatha? In that case, I will \\nwipe out Bharatha and his supporters. “he shouted in anger. But \\nRama Spoke in a calm and firm voice that it was his duty to carry out \\nhis father’s promises. Kaushalya felt very sad. Should a prince like \\nRama live in a forest eating simple food and sleeping on a rough –\\nstraw mat? But Rama would not hear of any such argument and so, \\nwith a heavy heart, she bid farewell to her dearest son. \\nAfter taking leave of his mother, Rama went to talk to Sita. As soon \\nas she heard that Bharatha was to be the king and that Rama was to \\nlive in the forest, she decided to go with her husband. Rama tried to \\nprevent her by saying “Janaki, don’t worry about me. Please stay \\nback in the palace and take care of my mothers. Treat my brothers \\nwell. At the end of the fourteen year of period, I will return safely to \\nAyodhya. No harm will come to me”. \\nSita replied “Lord, I will follow you like a shadow. I do not want the \\ncomforts of the palace without you. Nothing can give me greater \\nhappiness than being with you”. Rama tried his utmost to dissuade \\nher “Wild beasts roam around in the forest. You will not have a soft \\nbed to sleep on. Nor will there be good food to eat. Your tender feet \\nwill hurt when you walk on the thorny paths”.  \\nSita did not lose courage “Aryaputra, How can the beasts attack me \\nwhen you are there? Without you, even the softest bed will be like a \\nbed of thorns. It is my duty to be with you. Please let me come with \\nyou” pleaded Sita softly. So Rama agreed to Sita’s request. \\nLakshmana, who heard about Rama and Sita’s decision, came \\nrunning to him, fell at his brother’s feet and begged of him “Please \\ndo not leave me behind. I will also come with you to the forest; \\nAyodhya will be like hell to me without you.” Rama hesitated, for, \\nthere was a very strong bond of love and affection between the two \\nof them. But at the same time, why should Lakshmana undergo such \\nexile for the sake of brotherly love, thought of Rama. So he said, \\n“Sowmitri, if you come away with me, who will protect and look \\nafter our parents? But Lakshmana refused to stay back “Bharatha \\nwill look after our parents, whereas, you will have none with you in \\nthe forest. \\n', '15 \\n \\nhuge trees grew, how the insects collected the food. In the night, \\nthey slept on the grassy slopes of a tree and at dawn, started their \\njourney again. On the way, they halted at hermitage of Bharadwaj. \\nSage Bharadwaj was delighted with his guests and extended a warm \\nhospitality to them. He then suggested that they live in Chitrakut \\nregion, which was full of enchanting scenery. \\nRama, Sita and Lakshmana, followed his advice and reached \\nChitrakut by crossing the river Yamuna. \\nRama liked the area very much. So, he decided to live there and \\nasked Lakshmana to set up Parnakuti, a thatched hut. Rama \\nperformed rituals and offered prayers to his elders and entered his \\nhome. Malyavati River followed nearby. Flowering trees, fruit trees \\nwere found to be in plenty. There were so much beautiful butterflies \\naround. The sweet singing of the birds lent an enchantment to the \\narea. Sita loved the place. \\nIn the meantime, Sumanthara had returned to Ayodhya. By then, he \\nhad received news about Rama, Sita and Lakshmana having reached \\nChitrkut. Without Rama’s presence, the entire Ayodhya looked like a \\nghost city. People seemed Disinterested in everything. And when \\nthey saw Sumanthara return in an empty chariot, they wept. \\nSumanthara return to Ayodhya kindled a small hope in Dasharatha. \\n“May be Rama was persuaded to give up his word and return to the \\nkingdom” he thought. “I do not want to live without my Rama’s \\nbirth, his childhood and his marriage to Sita.” I have lost such a \\nwonderful son. I do not know what sin I committed.” \\nThen, he suddenly remembered an incident which occurred when he \\nwas young. \\nDasharatha had once gone hunting and had reached Sarayu River. It \\nwas a dark night and he heard a sound of splashing in water. He \\nthought that a wild beast had come to drink water and aimed his \\narrow in the direction from which the sound emanated. When \\nDasahratha tried to trace his victim, he found that his arrow had hit \\na young lad by name Sravanakumar. This boy was fetching water for \\nhis blind parents. Dasahratha at once picked him in his arms, but by \\n', '15 \\n \\nhuge trees grew, how the insects collected the food. In the night, \\nthey slept on the grassy slopes of a tree and at dawn, started their \\njourney again. On the way, they halted at hermitage of Bharadwaj. \\nSage Bharadwaj was delighted with his guests and extended a warm \\nhospitality to them. He then suggested that they live in Chitrakut \\nregion, which was full of enchanting scenery. \\nRama, Sita and Lakshmana, followed his advice and reached \\nChitrakut by crossing the river Yamuna. \\nRama liked the area very much. So, he decided to live there and \\nasked Lakshmana to set up Parnakuti, a thatched hut. Rama \\nperformed rituals and offered prayers to his elders and entered his \\nhome. Malyavati River followed nearby. Flowering trees, fruit trees \\nwere found to be in plenty. There were so much beautiful butterflies \\naround. The sweet singing of the birds lent an enchantment to the \\narea. Sita loved the place. \\nIn the meantime, Sumanthara had returned to Ayodhya. By then, he \\nhad received news about Rama, Sita and Lakshmana having reached \\nChitrkut. Without Rama’s presence, the entire Ayodhya looked like a \\nghost city. People seemed Disinterested in everything. And when \\nthey saw Sumanthara return in an empty chariot, they wept. \\nSumanthara return to Ayodhya kindled a small hope in Dasharatha. \\n“May be Rama was persuaded to give up his word and return to the \\nkingdom” he thought. “I do not want to live without my Rama’s \\nbirth, his childhood and his marriage to Sita.” I have lost such a \\nwonderful son. I do not know what sin I committed.” \\nThen, he suddenly remembered an incident which occurred when he \\nwas young. \\nDasharatha had once gone hunting and had reached Sarayu River. It \\nwas a dark night and he heard a sound of splashing in water. He \\nthought that a wild beast had come to drink water and aimed his \\narrow in the direction from which the sound emanated. When \\nDasahratha tried to trace his victim, he found that his arrow had hit \\na young lad by name Sravanakumar. This boy was fetching water for \\nhis blind parents. Dasahratha at once picked him in his arms, but by \\n']\n",
      "\n",
      "✅ Ground Truth: Rama went to the forest to honor his father's promise to Kaikeyi.\n",
      "\n",
      "{'user_input': 'Why did Rama go to the forest?', 'retrieved_contexts': ['12 \\n \\nRama to the forest? Is she afraid of Bharatha? In that case, I will \\nwipe out Bharatha and his supporters. “he shouted in anger. But \\nRama Spoke in a calm and firm voice that it was his duty to carry out \\nhis father’s promises. Kaushalya felt very sad. Should a prince like \\nRama live in a forest eating simple food and sleeping on a rough –\\nstraw mat? But Rama would not hear of any such argument and so, \\nwith a heavy heart, she bid farewell to her dearest son. \\nAfter taking leave of his mother, Rama went to talk to Sita. As soon \\nas she heard that Bharatha was to be the king and that Rama was to \\nlive in the forest, she decided to go with her husband. Rama tried to \\nprevent her by saying “Janaki, don’t worry about me. Please stay \\nback in the palace and take care of my mothers. Treat my brothers \\nwell. At the end of the fourteen year of period, I will return safely to \\nAyodhya. No harm will come to me”. \\nSita replied “Lord, I will follow you like a shadow. I do not want the \\ncomforts of the palace without you. Nothing can give me greater \\nhappiness than being with you”. Rama tried his utmost to dissuade \\nher “Wild beasts roam around in the forest. You will not have a soft \\nbed to sleep on. Nor will there be good food to eat. Your tender feet \\nwill hurt when you walk on the thorny paths”.  \\nSita did not lose courage “Aryaputra, How can the beasts attack me \\nwhen you are there? Without you, even the softest bed will be like a \\nbed of thorns. It is my duty to be with you. Please let me come with \\nyou” pleaded Sita softly. So Rama agreed to Sita’s request. \\nLakshmana, who heard about Rama and Sita’s decision, came \\nrunning to him, fell at his brother’s feet and begged of him “Please \\ndo not leave me behind. I will also come with you to the forest; \\nAyodhya will be like hell to me without you.” Rama hesitated, for, \\nthere was a very strong bond of love and affection between the two \\nof them. But at the same time, why should Lakshmana undergo such \\nexile for the sake of brotherly love, thought of Rama. So he said, \\n“Sowmitri, if you come away with me, who will protect and look \\nafter our parents? But Lakshmana refused to stay back “Bharatha \\nwill look after our parents, whereas, you will have none with you in \\nthe forest. \\n', '12 \\n \\nRama to the forest? Is she afraid of Bharatha? In that case, I will \\nwipe out Bharatha and his supporters. “he shouted in anger. But \\nRama Spoke in a calm and firm voice that it was his duty to carry out \\nhis father’s promises. Kaushalya felt very sad. Should a prince like \\nRama live in a forest eating simple food and sleeping on a rough –\\nstraw mat? But Rama would not hear of any such argument and so, \\nwith a heavy heart, she bid farewell to her dearest son. \\nAfter taking leave of his mother, Rama went to talk to Sita. As soon \\nas she heard that Bharatha was to be the king and that Rama was to \\nlive in the forest, she decided to go with her husband. Rama tried to \\nprevent her by saying “Janaki, don’t worry about me. Please stay \\nback in the palace and take care of my mothers. Treat my brothers \\nwell. At the end of the fourteen year of period, I will return safely to \\nAyodhya. No harm will come to me”. \\nSita replied “Lord, I will follow you like a shadow. I do not want the \\ncomforts of the palace without you. Nothing can give me greater \\nhappiness than being with you”. Rama tried his utmost to dissuade \\nher “Wild beasts roam around in the forest. You will not have a soft \\nbed to sleep on. Nor will there be good food to eat. Your tender feet \\nwill hurt when you walk on the thorny paths”.  \\nSita did not lose courage “Aryaputra, How can the beasts attack me \\nwhen you are there? Without you, even the softest bed will be like a \\nbed of thorns. It is my duty to be with you. Please let me come with \\nyou” pleaded Sita softly. So Rama agreed to Sita’s request. \\nLakshmana, who heard about Rama and Sita’s decision, came \\nrunning to him, fell at his brother’s feet and begged of him “Please \\ndo not leave me behind. I will also come with you to the forest; \\nAyodhya will be like hell to me without you.” Rama hesitated, for, \\nthere was a very strong bond of love and affection between the two \\nof them. But at the same time, why should Lakshmana undergo such \\nexile for the sake of brotherly love, thought of Rama. So he said, \\n“Sowmitri, if you come away with me, who will protect and look \\nafter our parents? But Lakshmana refused to stay back “Bharatha \\nwill look after our parents, whereas, you will have none with you in \\nthe forest. \\n', '15 \\n \\nhuge trees grew, how the insects collected the food. In the night, \\nthey slept on the grassy slopes of a tree and at dawn, started their \\njourney again. On the way, they halted at hermitage of Bharadwaj. \\nSage Bharadwaj was delighted with his guests and extended a warm \\nhospitality to them. He then suggested that they live in Chitrakut \\nregion, which was full of enchanting scenery. \\nRama, Sita and Lakshmana, followed his advice and reached \\nChitrakut by crossing the river Yamuna. \\nRama liked the area very much. So, he decided to live there and \\nasked Lakshmana to set up Parnakuti, a thatched hut. Rama \\nperformed rituals and offered prayers to his elders and entered his \\nhome. Malyavati River followed nearby. Flowering trees, fruit trees \\nwere found to be in plenty. There were so much beautiful butterflies \\naround. The sweet singing of the birds lent an enchantment to the \\narea. Sita loved the place. \\nIn the meantime, Sumanthara had returned to Ayodhya. By then, he \\nhad received news about Rama, Sita and Lakshmana having reached \\nChitrkut. Without Rama’s presence, the entire Ayodhya looked like a \\nghost city. People seemed Disinterested in everything. And when \\nthey saw Sumanthara return in an empty chariot, they wept. \\nSumanthara return to Ayodhya kindled a small hope in Dasharatha. \\n“May be Rama was persuaded to give up his word and return to the \\nkingdom” he thought. “I do not want to live without my Rama’s \\nbirth, his childhood and his marriage to Sita.” I have lost such a \\nwonderful son. I do not know what sin I committed.” \\nThen, he suddenly remembered an incident which occurred when he \\nwas young. \\nDasharatha had once gone hunting and had reached Sarayu River. It \\nwas a dark night and he heard a sound of splashing in water. He \\nthought that a wild beast had come to drink water and aimed his \\narrow in the direction from which the sound emanated. When \\nDasahratha tried to trace his victim, he found that his arrow had hit \\na young lad by name Sravanakumar. This boy was fetching water for \\nhis blind parents. Dasahratha at once picked him in his arms, but by \\n', '15 \\n \\nhuge trees grew, how the insects collected the food. In the night, \\nthey slept on the grassy slopes of a tree and at dawn, started their \\njourney again. On the way, they halted at hermitage of Bharadwaj. \\nSage Bharadwaj was delighted with his guests and extended a warm \\nhospitality to them. He then suggested that they live in Chitrakut \\nregion, which was full of enchanting scenery. \\nRama, Sita and Lakshmana, followed his advice and reached \\nChitrakut by crossing the river Yamuna. \\nRama liked the area very much. So, he decided to live there and \\nasked Lakshmana to set up Parnakuti, a thatched hut. Rama \\nperformed rituals and offered prayers to his elders and entered his \\nhome. Malyavati River followed nearby. Flowering trees, fruit trees \\nwere found to be in plenty. There were so much beautiful butterflies \\naround. The sweet singing of the birds lent an enchantment to the \\narea. Sita loved the place. \\nIn the meantime, Sumanthara had returned to Ayodhya. By then, he \\nhad received news about Rama, Sita and Lakshmana having reached \\nChitrkut. Without Rama’s presence, the entire Ayodhya looked like a \\nghost city. People seemed Disinterested in everything. And when \\nthey saw Sumanthara return in an empty chariot, they wept. \\nSumanthara return to Ayodhya kindled a small hope in Dasharatha. \\n“May be Rama was persuaded to give up his word and return to the \\nkingdom” he thought. “I do not want to live without my Rama’s \\nbirth, his childhood and his marriage to Sita.” I have lost such a \\nwonderful son. I do not know what sin I committed.” \\nThen, he suddenly remembered an incident which occurred when he \\nwas young. \\nDasharatha had once gone hunting and had reached Sarayu River. It \\nwas a dark night and he heard a sound of splashing in water. He \\nthought that a wild beast had come to drink water and aimed his \\narrow in the direction from which the sound emanated. When \\nDasahratha tried to trace his victim, he found that his arrow had hit \\na young lad by name Sravanakumar. This boy was fetching water for \\nhis blind parents. Dasahratha at once picked him in his arms, but by \\n'], 'response': \"Rama went to the forest to carry out his father's promises. It was his duty as a prince.\", 'reference': \"Rama went to the forest to honor his father's promise to Kaikeyi.\"}\n"
     ]
    }
   ],
   "source": [
    "# 6️⃣ Run RAG and create Samples\n",
    "samples = []\n",
    "\n",
    "for item in queries:\n",
    "    query = item[\"question\"]\n",
    "    ground_truth = item[\"ground_truth\"]\n",
    "\n",
    "    \n",
    "    result = qa_chain(query)\n",
    "    answer = result[\"result\"]\n",
    "    contexts = [doc.page_content for doc in result[\"source_documents\"]]\n",
    "\n",
    "    print(f\"🔍 Query: {query}\")\n",
    "    print(f\"💬 Answer: {answer}\")\n",
    "    print(f\"📄 Contexts: {contexts}\\n\")\n",
    "    print(f\"✅ Ground Truth: {ground_truth}\\n\")\n",
    "\n",
    "    # Evaluation rubric\n",
    "    rubric = {\n",
    "        \"accuracy\": \"Correct\",\n",
    "        \"completeness\": \"High\",\n",
    "        \"fluency\": \"Excellent\"\n",
    "    }\n",
    "\n",
    "    # Create the SingleTurnSample instance\n",
    "    sample = SingleTurnSample(\n",
    "        user_input=query,\n",
    "        retrieved_contexts=contexts,\n",
    "        response=answer,\n",
    "        reference=ground_truth,\n",
    "        rubric=rubric\n",
    "    )\n",
    "    samples.append(sample)\n",
    "    print(sample.to_dict())\n"
   ]
  },
  {
   "cell_type": "code",
   "execution_count": 20,
   "id": "a913b273",
   "metadata": {},
   "outputs": [
    {
     "name": "stdout",
     "output_type": "stream",
     "text": [
      "📦 RAGAS Dataset Created with 2 samples.\n"
     ]
    },
    {
     "name": "stderr",
     "output_type": "stream",
     "text": [
      "Evaluating: 100%|██████████| 8/8 [00:13<00:00,  1.69s/it]\n"
     ]
    },
    {
     "name": "stdout",
     "output_type": "stream",
     "text": [
      "🔍 Evaluation Results:\n",
      "\n",
      "                         user_input  \\\n",
      "0  Who was the father of Lord Rama?   \n",
      "1    Why did Rama go to the forest?   \n",
      "\n",
      "                                  retrieved_contexts  \\\n",
      "0  [16 \\n \\nthe time he took him to the blind par...   \n",
      "1  [12 \\n \\nRama to the forest? Is she afraid of ...   \n",
      "\n",
      "                                            response  \\\n",
      "0       The father of Lord Rama was King Dasharatha.   \n",
      "1  Rama went to the forest to carry out his fathe...   \n",
      "\n",
      "                                           reference  answer_relevancy  \\\n",
      "0       King Dasharatha was the father of Lord Rama.               1.0   \n",
      "1  Rama went to the forest to honor his father's ...               1.0   \n",
      "\n",
      "   context_precision  context_recall  faithfulness  \n",
      "0                1.0             1.0      1.000000  \n",
      "1                1.0             1.0      0.666667  \n"
     ]
    }
   ],
   "source": [
    "# 7️⃣ Convert to RAGAS-compatible HuggingFace Dataset\n",
    "ragas_dataset = Dataset.from_list([sample.to_dict() for sample in samples])\n",
    "print(\"📦 RAGAS Dataset Created with {} samples.\".format(len(ragas_dataset)))\n",
    "\n",
    "# 8️⃣ Evaluate with RAGAS\n",
    "result = evaluate(\n",
    "    ragas_dataset,\n",
    "    metrics=[\n",
    "        answer_relevancy,\n",
    "        context_precision,\n",
    "        context_recall,\n",
    "        faithfulness\n",
    "    ]\n",
    ")\n",
    "\n",
    "# 9️⃣ Display Results\n",
    "print(\"🔍 Evaluation Results:\\n\")\n",
    "print(result.to_pandas())"
   ]
  }
 ],
 "metadata": {
  "kernelspec": {
   "display_name": "torch",
   "language": "python",
   "name": "python3"
  },
  "language_info": {
   "codemirror_mode": {
    "name": "ipython",
    "version": 3
   },
   "file_extension": ".py",
   "mimetype": "text/x-python",
   "name": "python",
   "nbconvert_exporter": "python",
   "pygments_lexer": "ipython3",
   "version": "3.12.3"
  }
 },
 "nbformat": 4,
 "nbformat_minor": 5
}
