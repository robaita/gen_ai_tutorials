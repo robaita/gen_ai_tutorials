{
 "cells": [
  {
   "cell_type": "code",
   "execution_count": 1,
   "id": "e6a00938",
   "metadata": {},
   "outputs": [],
   "source": [
    "from langchain.document_loaders import PyMuPDFLoader\n",
    "from langchain.text_splitter import RecursiveCharacterTextSplitter\n",
    "\n",
    "loader = PyMuPDFLoader(\"data/RAMAYANA.pdf\")\n",
    "docs = loader.load()\n",
    "\n",
    "text_splitter = RecursiveCharacterTextSplitter(chunk_size=500, chunk_overlap=100)\n",
    "chunks = text_splitter.split_documents(docs)\n"
   ]
  },
  {
   "cell_type": "code",
   "execution_count": 6,
   "id": "e70e017b",
   "metadata": {},
   "outputs": [],
   "source": [
    "from langchain.vectorstores import FAISS\n",
    "from langchain.embeddings import HuggingFaceEmbeddings\n",
    "import os\n",
    "\n",
    "file = open('data/key.txt', 'r')\n",
    "# Read the API key from the file\n",
    "api_key = file.read().strip()\n",
    "# Close the file\n",
    "file.close()\n",
    "# 🧠 Set your OpenAI API key\n",
    "os.environ[\"OPENAI_API_KEY\"] = api_key\n",
    "\n",
    "embedding = HuggingFaceEmbeddings(model_name=\"all-MiniLM-L6-v2\",\n",
    "                                        model_kwargs={\"device\": \"cpu\"})\n",
    "vectorstore = FAISS.from_documents(chunks, embedding)\n",
    "retriever = vectorstore.as_retriever()\n"
   ]
  },
  {
   "cell_type": "code",
   "execution_count": 7,
   "id": "c013fb1a",
   "metadata": {},
   "outputs": [],
   "source": [
    "from langchain.chains import RetrievalQA\n",
    "from langchain.chat_models import ChatOpenAI\n",
    "\n",
    "llm = ChatOpenAI(temperature=0)\n",
    "qa_chain = RetrievalQA.from_chain_type(\n",
    "    llm=llm,\n",
    "    chain_type=\"stuff\",\n",
    "    retriever=retriever,\n",
    "    return_source_documents=True\n",
    ")\n"
   ]
  },
  {
   "cell_type": "code",
   "execution_count": null,
   "id": "5eabd16f",
   "metadata": {},
   "outputs": [],
   "source": [
    "def hitl_query(question):\n",
    "    result = qa_chain(question)\n",
    "    answer = result['result']\n",
    "    sources = result['source_documents']\n",
    "\n",
    "    print(f\"\\n🧠 AI Answer: {answer}\\n\")\n",
    "    print(\"📄 Source Chunks Used:\")\n",
    "    for i, doc in enumerate(sources):\n",
    "        print(f\"  {i+1}. Page {doc.metadata.get('page', 'unknown')} — {doc.page_content[:150]}...\\n\")\n",
    "\n",
    "    feedback = input(\"✅ Is the answer correct? (yes/no): \").strip().lower()\n",
    "\n",
    "    if feedback == 'no':\n",
    "        correct_answer = input(\"❓ What is the correct answer?: \")\n",
    "        with open(\"hitl_feedback_log.txt\", \"a\", encoding=\"utf-8\") as f:\n",
    "            f.write(f\"Question: {question}\\n\")\n",
    "            f.write(f\"AI Answer: {answer}\\n\")\n",
    "            f.write(f\"Correct Answer (by Human): {correct_answer}\\n\")\n",
    "            f.write(f\"{'-'*40}\\n\")\n",
    "        print(\"💾 Feedback saved for review.\")\n",
    "    else:\n",
    "        print(\"✅ Thank you! Marked as correct.\")\n"
   ]
  },
  {
   "cell_type": "code",
   "execution_count": 9,
   "id": "1a305986",
   "metadata": {},
   "outputs": [
    {
     "name": "stdout",
     "output_type": "stream",
     "text": [
      "\n",
      "🧠 AI Answer: The father of Lord Rama was King Dasharatha.\n",
      "\n",
      "📄 Source Chunks Used:\n",
      "  1. Page 19 — Rama embraced his brothers and was concerned to see agony on \n",
      "their faces. So he asked Bharatha “How is father? Have you taken \n",
      "over the affairs of ki...\n",
      "\n",
      "  2. Page 11 — Rama!” \n",
      "“Mother, why is father looking so pale and grief-stricken? Have I \n",
      "caused him any anguish?” asked Rama politely. \n",
      "Kaikeyi told him about her t...\n",
      "\n",
      "  3. Page 17 — Hadn’t you loved him more than you loved me? Alas! You have killed \n",
      "my father, just to make me the king. And do you expect me to wear \n",
      "the crown that ...\n",
      "\n",
      "  4. Page 4 — 4 \n",
      " \n",
      "because he himself is very powerful. He wants to take Rama with \n",
      "him so that your son can learn to fight the Rakshasas even at this \n",
      "young age. S...\n",
      "\n",
      "✅ Thank you! Marked as correct.\n"
     ]
    }
   ],
   "source": [
    "hitl_query(\"Who was the father of Lord Rama?\")\n"
   ]
  }
 ],
 "metadata": {
  "kernelspec": {
   "display_name": "torch",
   "language": "python",
   "name": "python3"
  },
  "language_info": {
   "codemirror_mode": {
    "name": "ipython",
    "version": 3
   },
   "file_extension": ".py",
   "mimetype": "text/x-python",
   "name": "python",
   "nbconvert_exporter": "python",
   "pygments_lexer": "ipython3",
   "version": "3.12.3"
  }
 },
 "nbformat": 4,
 "nbformat_minor": 5
}
