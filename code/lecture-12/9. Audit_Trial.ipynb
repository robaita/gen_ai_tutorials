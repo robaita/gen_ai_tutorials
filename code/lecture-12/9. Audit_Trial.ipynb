{
 "cells": [
  {
   "cell_type": "code",
   "execution_count": null,
   "id": "61272c10",
   "metadata": {},
   "outputs": [],
   "source": [
    "from langchain.document_loaders import PyMuPDFLoader\n",
    "from langchain.text_splitter import RecursiveCharacterTextSplitter\n",
    "from langchain.embeddings import HuggingFaceEmbeddings\n",
    "from langchain.vectorstores import FAISS\n",
    "from langchain.chains import RetrievalQA\n",
    "from langchain.prompts import PromptTemplate\n",
    "from langchain.chat_models import ChatOpenAI\n",
    "\n"
   ]
  },
  {
   "cell_type": "code",
   "execution_count": 2,
   "id": "09f69118",
   "metadata": {},
   "outputs": [],
   "source": [
    "# 1. Load Ramayana PDF\n",
    "loader = PyMuPDFLoader(\"data/RAMAYANA.pdf\")\n",
    "raw_docs = loader.load()\n",
    "\n",
    "# 2. Define Chapter Mapping by Page Range\n",
    "chapter_map = {\n",
    "    \"1.1 THE BIRTH OF RAMA\": range(2, 3),\n",
    "    \"1.2 The Valiant Princes\": range(3, 5),\n",
    "    \"1.3 SITA'S SWAYAMVAR\": range(5, 7),\n",
    "    \"1.4 KAIKEYI AND HER WISHES\": range(7, 20),\n",
    "    \"1.5 The demons in the forests\": range(20, 23),\n",
    "    \"1.6 The Kidnapping of Sita\": range(23, 26),\n",
    "    \"1.7 Rama searches for Sita\": range(26, 30)\n",
    "}\n",
    "\n"
   ]
  },
  {
   "cell_type": "code",
   "execution_count": 3,
   "id": "2f402bcc",
   "metadata": {},
   "outputs": [],
   "source": [
    "# 3. Add Chapter Info to Metadata\n",
    "for doc in raw_docs:\n",
    "    page = doc.metadata[\"page\"]\n",
    "    for chapter, pages in chapter_map.items():\n",
    "        if page in pages:\n",
    "            doc.metadata[\"chapter\"] = chapter\n",
    "            break\n",
    "\n",
    "# 4. Split Documents\n",
    "splitter = RecursiveCharacterTextSplitter(chunk_size=500, chunk_overlap=50)\n",
    "docs = splitter.split_documents(raw_docs)\n",
    "\n"
   ]
  },
  {
   "cell_type": "code",
   "execution_count": null,
   "id": "64a69fe5",
   "metadata": {},
   "outputs": [
    {
     "name": "stderr",
     "output_type": "stream",
     "text": [
      "/tmp/ipykernel_30293/3305182451.py:2: LangChainDeprecationWarning: The class `OpenAIEmbeddings` was deprecated in LangChain 0.0.9 and will be removed in 1.0. An updated version of the class exists in the :class:`~langchain-openai package and should be used instead. To use it run `pip install -U :class:`~langchain-openai` and import as `from :class:`~langchain_openai import OpenAIEmbeddings``.\n",
      "  embeddings = OpenAIEmbeddings()\n"
     ]
    }
   ],
   "source": [
    "# Embedder and vectorstore\n",
    "embedding_model = HuggingFaceEmbeddings(model_name=\"all-MiniLM-L6-v2\",\n",
    "                                        model_kwargs={\"device\": \"cpu\"})\n",
    "\n",
    "vectorstore = FAISS.from_documents(docs, embedding=embedding_model)\n",
    "\n",
    "# 6. Setup Retriever with Metadata Tracing\n",
    "retriever = vectorstore.as_retriever(search_kwargs={\"k\": 3})\n",
    "\n"
   ]
  },
  {
   "cell_type": "code",
   "execution_count": 5,
   "id": "3c935366",
   "metadata": {},
   "outputs": [],
   "source": [
    "# 7. Define Prompt for Story-style Answering\n",
    "prompt_template = PromptTemplate.from_template(\"\"\"\n",
    "You are a storyteller known for answering questions based on Indian epics.\n",
    "Use the context below to answer as a story. \n",
    "Also, cite the page number and chapter in brackets like this: [Page 2, Chapter: THE BIRTH OF RAMA].\n",
    "\n",
    "### Context:\n",
    "{context}\n",
    "\n",
    "### Question:\n",
    "{question}\n",
    "\n",
    "### Answer:\n",
    "\"\"\")\n",
    "\n"
   ]
  },
  {
   "cell_type": "code",
   "execution_count": 6,
   "id": "805150f7",
   "metadata": {},
   "outputs": [
    {
     "name": "stderr",
     "output_type": "stream",
     "text": [
      "/tmp/ipykernel_30293/3430665803.py:3: LangChainDeprecationWarning: The class `ChatOpenAI` was deprecated in LangChain 0.0.10 and will be removed in 1.0. An updated version of the class exists in the :class:`~langchain-openai package and should be used instead. To use it run `pip install -U :class:`~langchain-openai` and import as `from :class:`~langchain_openai import ChatOpenAI``.\n",
      "  llm=ChatOpenAI(model_name=\"gpt-4\"),\n",
      "/tmp/ipykernel_30293/3430665803.py:12: LangChainDeprecationWarning: The method `Chain.__call__` was deprecated in langchain 0.1.0 and will be removed in 1.0. Use :meth:`~invoke` instead.\n",
      "  result = qa_chain(query)\n"
     ]
    }
   ],
   "source": [
    "# 8. Setup QA Chain with Audit Trail Enabled\n",
    "qa_chain = RetrievalQA.from_chain_type(\n",
    "    llm=ChatOpenAI(model_name=\"gpt-4\"),\n",
    "    chain_type=\"stuff\",\n",
    "    retriever=retriever,\n",
    "    return_source_documents=True,\n",
    "    chain_type_kwargs={\"prompt\": prompt_template}\n",
    ")\n",
    "\n",
    "# 9. Ask a Question with Full Traceability\n",
    "query = \"How was Lord Rama born and what was his family background?\"\n",
    "result = qa_chain(query)\n",
    "\n"
   ]
  },
  {
   "cell_type": "code",
   "execution_count": 7,
   "id": "847676c8",
   "metadata": {},
   "outputs": [
    {
     "name": "stdout",
     "output_type": "stream",
     "text": [
      "\n",
      "🧾 Answer:\n",
      "\n",
      "Lord Rama was born in the magnificent city of Ayodhya, which was situated on the banks of the river Sarayu in Kosala Country. The city was known for its wide roads, massive structures, stunning parks, and radiant shops. The people living there enjoyed a joyful and satisfied life, thanks to their benevolent ruler, King Dasharatha.\n",
      "\n",
      "King Dasharatha, a man deeply caring for his subjects, had three wives - Kaushalya, Sumitra, and Kaikeyi. It was in this royal household that Lord Rama was born, destined to become the king of Ayodhya.\n",
      "\n",
      "Rama was not an only child. He had three brothers Lakshmana, Bharatha and Shatrugna. Together, they grew up in Ayodhya, learning the ways of royalty and the world.\n",
      "\n",
      "In due time, circumstances led to Rama being crowned as the king of Ayodhya, with his wife Sita by his side on the throne. His brothers, Lakshmana, Bharatha, and Shatrugna, stood behind them, supporting their reign. The people of Ayodhya rejoiced at this event, and their happiness knew no bounds as the celebrations continued for an entire week. Rama ruled over Ayodhya for many years, ensuring peace and prosperity for his people. [Page 2, Chapter: THE BIRTH OF RAMA]\n",
      "\n",
      "📚 Audit Trail:\n",
      "\n",
      "📄 Page: 2\n",
      "📘 Chapter: 1.1 THE BIRTH OF RAMA\n",
      "📂 Source: data/RAMAYANA.pdf\n",
      "📝 Snippet: 2 \n",
      " \n",
      "1 RAMAYANA FOR CHILDREN \n",
      " \n",
      "1.1 THE BIRTH OF RAMA \n",
      " \n",
      "Ayodhya was a magnificent city on the banks of the river Sarayu in \n",
      "Kosala Country .It had wide roads, huge buildings, beautiful parks \n",
      "and gli...\n",
      "\n",
      "📄 Page: 18\n",
      "📘 Chapter: 1.4 KAIKEYI AND HER WISHES\n",
      "📂 Source: data/RAMAYANA.pdf\n",
      "📝 Snippet: Guha that he would take Rama back to Ayodhya and crown him the \n",
      "king. Guha was very happy to hear this. So he helped Bharatha, his \n",
      "army and his retinue to cross the Ganga. \n",
      "As Bharatha and his army a...\n",
      "\n",
      "📄 Page: 44\n",
      "📘 Chapter: N/A\n",
      "📂 Source: data/RAMAYANA.pdf\n",
      "📝 Snippet: 44 \n",
      " \n",
      "Vashishta blessed Rama and with their consent, Rama agreed to \n",
      "become the king. \n",
      "Soon Rama was crowned the king of Ayodhya. The coronation was \n",
      "conducted on a grand scale, Rama and Sita were sea...\n",
      "\n"
     ]
    }
   ],
   "source": [
    "# 10. Print Final Answer\n",
    "print(\"\\n🧾 Answer:\\n\")\n",
    "print(result[\"result\"])\n",
    "\n",
    "# 11. Print Audit Trail\n",
    "print(\"\\n📚 Audit Trail:\\n\")\n",
    "for doc in result[\"source_documents\"]:\n",
    "    print(f\"📄 Page: {doc.metadata.get('page')}\")\n",
    "    print(f\"📘 Chapter: {doc.metadata.get('chapter', 'N/A')}\")\n",
    "    print(f\"📂 Source: {doc.metadata.get('source')}\")\n",
    "    print(f\"📝 Snippet: {doc.page_content[:200]}...\\n\")"
   ]
  }
 ],
 "metadata": {
  "kernelspec": {
   "display_name": "torch",
   "language": "python",
   "name": "python3"
  },
  "language_info": {
   "codemirror_mode": {
    "name": "ipython",
    "version": 3
   },
   "file_extension": ".py",
   "mimetype": "text/x-python",
   "name": "python",
   "nbconvert_exporter": "python",
   "pygments_lexer": "ipython3",
   "version": "3.12.3"
  }
 },
 "nbformat": 4,
 "nbformat_minor": 5
}
