{
 "cells": [
  {
   "cell_type": "code",
   "execution_count": null,
   "id": "c0f2eaae",
   "metadata": {},
   "outputs": [],
   "source": []
  },
  {
   "cell_type": "code",
   "execution_count": 1,
   "id": "e3c365a4",
   "metadata": {},
   "outputs": [],
   "source": [
    "from langchain.document_loaders import PyMuPDFLoader\n",
    "from langchain.schema import Document\n",
    "from langchain.text_splitter import RecursiveCharacterTextSplitter\n",
    "from langchain.vectorstores import FAISS\n",
    "from langchain.embeddings import HuggingFaceEmbeddings"
   ]
  },
  {
   "cell_type": "code",
   "execution_count": 2,
   "id": "c03ca874",
   "metadata": {},
   "outputs": [],
   "source": [
    "\n",
    "# === Step 1: Load the PDF ===\n",
    "loader = PyMuPDFLoader(\"data/RAMAYANA.pdf\")\n",
    "pages = loader.load()\n"
   ]
  },
  {
   "cell_type": "code",
   "execution_count": 3,
   "id": "7d2853cf",
   "metadata": {},
   "outputs": [],
   "source": [
    "# === Step 2: Tag each page with facet metadata ===\n",
    "chapter_map = {\n",
    "    \"THE BIRTH OF RAMA\": range(3, 4),\n",
    "    \"The Valiant Princes\": range(4, 7),\n",
    "    \"SITA'S SWAYAMVAR\": range(6, 9),\n",
    "    \"KAIKEYI AND HER WISHES\": range(8, 22),\n",
    "    \"The demons in the forests\": range(21, 25),\n",
    "    \"The Kidnapping of Sita\": range(24, 27),\n",
    "    \"Rama searches for Sita\": range(28, 30),\n",
    "    \"The land of the monkeys\": range(29, 34),\n",
    "    \"Hanuman meets Sita - Lanka is destroyed\": range(34, 38),\n",
    "    \"The War\": range(37, 44),  # Extend to end of document or actual page if known\n",
    "}\n"
   ]
  },
  {
   "cell_type": "code",
   "execution_count": 4,
   "id": "e94b5619",
   "metadata": {},
   "outputs": [],
   "source": [
    "# Create documents with facets\n",
    "tagged_documents = []\n",
    "for i, page in enumerate(pages):\n",
    "    chapter = next((name for name, pages in chapter_map.items() if i in pages), \"Unknown Chapter\")\n",
    "\n",
    "    # Simulated facet tagging\n",
    "    if \"Sita\" in page.page_content:\n",
    "        characters = [\"Sita\"]\n",
    "    elif \"Rama\" in page.page_content:\n",
    "        characters = [\"Rama\"]\n",
    "    else:\n",
    "        characters = []\n",
    "\n",
    "    theme = \"War\" if \"battle\" in page.page_content.lower() or \"Ravana\" in page.page_content else \"Journey\"\n",
    "\n",
    "    doc = Document(\n",
    "        page_content=page.page_content,\n",
    "        metadata={\n",
    "            \"chapter\": chapter,\n",
    "            \"page_number\": i,\n",
    "            \"theme\": theme,\n",
    "            \"characters\": characters\n",
    "        }\n",
    "    )\n",
    "    tagged_documents.append(doc)\n",
    "\n",
    "\n"
   ]
  },
  {
   "cell_type": "code",
   "execution_count": 6,
   "id": "7325ce5b",
   "metadata": {},
   "outputs": [
    {
     "name": "stderr",
     "output_type": "stream",
     "text": [
      "/tmp/ipykernel_28923/2335215686.py:6: LangChainDeprecationWarning: The class `HuggingFaceEmbeddings` was deprecated in LangChain 0.2.2 and will be removed in 1.0. An updated version of the class exists in the :class:`~langchain-huggingface package and should be used instead. To use it run `pip install -U :class:`~langchain-huggingface` and import as `from :class:`~langchain_huggingface import HuggingFaceEmbeddings``.\n",
      "  embedding_model = HuggingFaceEmbeddings(model_name=\"all-MiniLM-L6-v2\",\n",
      "/home/avinash/Desktop/dr_avinash/generative_ai/lecture-8/torch/lib/python3.12/site-packages/tqdm/auto.py:21: TqdmWarning: IProgress not found. Please update jupyter and ipywidgets. See https://ipywidgets.readthedocs.io/en/stable/user_install.html\n",
      "  from .autonotebook import tqdm as notebook_tqdm\n"
     ]
    }
   ],
   "source": [
    "# === Step 3: Chunk the documents ===\n",
    "splitter = RecursiveCharacterTextSplitter(chunk_size=300, chunk_overlap=30)\n",
    "chunks = splitter.split_documents(tagged_documents)\n",
    "\n",
    "# === Step 4: Create vector store with facets ===\n",
    "embedding_model = HuggingFaceEmbeddings(model_name=\"all-MiniLM-L6-v2\",\n",
    "                                        model_kwargs={\"device\": \"cpu\"})\n",
    "vectorstore = FAISS.from_documents(chunks, embedding_model)"
   ]
  },
  {
   "cell_type": "code",
   "execution_count": 7,
   "id": "7ee94a62",
   "metadata": {},
   "outputs": [
    {
     "name": "stdout",
     "output_type": "stream",
     "text": [
      "\n",
      "--- Result 1 ---\n",
      "Chapter: THE BIRTH OF RAMA\n",
      "Theme: Journey\n",
      "Characters: ['Rama']\n",
      "Content: elders and gained the love and affection of people of Ayodhya. \n",
      "The brothers loved each other very much too. Lakshmana was a very \n",
      "close companion to Rama.Bharatha and Shatrugna were the other \n",
      "two inseparables. \n",
      " \n",
      "King Dasharatha felt very proud of his sons. One day he was \n",
      "...\n"
     ]
    },
    {
     "name": "stderr",
     "output_type": "stream",
     "text": [
      "/tmp/ipykernel_28923/1747417390.py:3: LangChainDeprecationWarning: The method `BaseRetriever.get_relevant_documents` was deprecated in langchain-core 0.1.46 and will be removed in 1.0. Use :meth:`~invoke` instead.\n",
      "  results = retriever.get_relevant_documents(query)\n"
     ]
    }
   ],
   "source": [
    "query = \"Tell me about Rama's early life.\"\n",
    "retriever = vectorstore.as_retriever(search_kwargs={\"k\": 50})\n",
    "results = retriever.get_relevant_documents(query)\n",
    "\n",
    "# Apply facet filter manually (e.g., filter by chapter or character)\n",
    "filtered = [doc for doc in results if \"Rama\" in doc.metadata.get(\"characters\", [])\n",
    "             and doc.metadata.get(\"chapter\") == \"THE BIRTH OF RAMA\"]\n",
    "\n",
    "# Display results\n",
    "for i, doc in enumerate(filtered):\n",
    "    print(f\"\\n--- Result {i+1} ---\")\n",
    "    print(\"Chapter:\", doc.metadata.get(\"chapter\"))\n",
    "    print(\"Theme:\", doc.metadata.get(\"theme\"))\n",
    "    print(\"Characters:\", doc.metadata.get(\"characters\"))\n",
    "    print(\"Content:\", doc.page_content[:300], \"\\n...\")\n"
   ]
  },
  {
   "cell_type": "code",
   "execution_count": 8,
   "id": "c95e6b73",
   "metadata": {},
   "outputs": [],
   "source": [
    "def query_with_constraints(query_text: str, chapter_filter: str = None, k: int = 5):\n",
    "    retriever = vectorstore.as_retriever(search_kwargs={\"k\": 50})  # get more to filter\n",
    "    results = retriever.get_relevant_documents(query_text)\n",
    "\n",
    "    # Apply user-defined filter\n",
    "    if chapter_filter:\n",
    "        results = [doc for doc in results if doc.metadata.get(\"chapter\") == chapter_filter]\n",
    "\n",
    "    return results[:k]  # return top-k after filtering"
   ]
  },
  {
   "cell_type": "code",
   "execution_count": 10,
   "id": "b13a5072",
   "metadata": {},
   "outputs": [
    {
     "name": "stdout",
     "output_type": "stream",
     "text": [
      "\n",
      "--- Result 1 ---\n",
      "Chapter: Hanuman meets Sita - Lanka is destroyed\n",
      "Page: 37\n",
      "Hanuman had burnt down Lanka; Ravana had the city rebuilt \n",
      "immediately. Anjaneya who was aware of this told Rama “Lord! Once \n",
      "we cross the ocean, Lanka will be ours. Have no doubt about it. I \n",
      "shall summon Angada, Neela, Jabavanta and many more valiant \n",
      "Vanaras and bears and be ready to leave.” ...\n",
      "\n",
      "--- Result 2 ---\n",
      "Chapter: Hanuman meets Sita - Lanka is destroyed\n",
      "Page: 35\n",
      "defeated Devendra. He used one of his powerful weapons on \n",
      "Hanuman, imprisoned him and dragged him to Ravenna’s court. \n",
      "When Hanuman was brought before the king, he was very impressed \n",
      "with the ten-headed Ravana. His court was very grand and dazzling. ...\n",
      "\n",
      "--- Result 3 ---\n",
      "Chapter: Hanuman meets Sita - Lanka is destroyed\n",
      "Page: 35\n",
      "garden” asked Ravana. \n",
      "“Sir” replied Hanuman “I am Rama’s messenger. I came to Lanka in \n",
      "search of Sita. You have committed a great mistake by abducting \n",
      "Sita. If you want to live, you return Sita to Rama gracefully and seek \n",
      "refuge in him. Otherwise you are sure to die”. ...\n",
      "\n",
      "--- Result 4 ---\n",
      "Chapter: Hanuman meets Sita - Lanka is destroyed\n",
      "Page: 36\n",
      "able to accomplish his mission. Sugriva hugged Hanuman and \n",
      "congratulated him. \n",
      "1.10 The War \n",
      "Rama too was very happy that Hanuman was successful in finding \n",
      "Sita. Sugriva had kept up his word and Rama now had to plan about \n",
      "reaching Lanka, kill Ravana and rescue Sita. He therefore talked to ...\n",
      "\n",
      "--- Result 5 ---\n",
      "Chapter: Hanuman meets Sita - Lanka is destroyed\n",
      "Page: 36\n",
      "a powerful thrust, flew off. \n",
      "Hanuman reached Kishkinda and told Rama all about Sita’s safety. \n",
      "He conveyed her message also. He then handed over the ornament \n",
      "Sita had sent as a momento. \n",
      "Sugriva and the entire Vanara army felt proud that Hanuman was ...\n"
     ]
    }
   ],
   "source": [
    "user_query = \"What did Hanuman do in Lanka?\"\n",
    "user_chapter_constraint = \"Hanuman meets Sita - Lanka is destroyed\"\n",
    "\n",
    "filtered_results = query_with_constraints(user_query, user_chapter_constraint)\n",
    "\n",
    "# Step 7: Print results\n",
    "for i, doc in enumerate(filtered_results):\n",
    "    print(f\"\\n--- Result {i+1} ---\")\n",
    "    print(f\"Chapter: {doc.metadata.get('chapter')}\")\n",
    "    print(f\"Page: {doc.metadata.get('page_number')}\")\n",
    "    print(doc.page_content[:300], \"...\")"
   ]
  }
 ],
 "metadata": {
  "kernelspec": {
   "display_name": "torch",
   "language": "python",
   "name": "python3"
  },
  "language_info": {
   "codemirror_mode": {
    "name": "ipython",
    "version": 3
   },
   "file_extension": ".py",
   "mimetype": "text/x-python",
   "name": "python",
   "nbconvert_exporter": "python",
   "pygments_lexer": "ipython3",
   "version": "3.12.3"
  }
 },
 "nbformat": 4,
 "nbformat_minor": 5
}
