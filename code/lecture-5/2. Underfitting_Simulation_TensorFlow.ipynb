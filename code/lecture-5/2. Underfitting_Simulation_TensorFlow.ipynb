{
 "cells": [
  {
   "cell_type": "markdown",
   "id": "cfd7a817",
   "metadata": {},
   "source": [
    "\n",
    "# 🧠 Demonstrating Underfitting in Neural Networks with TensorFlow\n",
    "\n",
    "In this notebook, we will simulate **underfitting**, which occurs when a model is too simple to capture the underlying structure of the data.\n",
    "\n",
    "---\n",
    "\n",
    "## ✅ Key Characteristics of Underfitting\n",
    "- Model is too simple (not enough capacity)\n",
    "- Poor training and validation accuracy\n",
    "- High loss values\n",
    "\n",
    "---\n"
   ]
  },
  {
   "cell_type": "code",
   "execution_count": 1,
   "id": "80af23ed",
   "metadata": {},
   "outputs": [],
   "source": [
    "\n",
    "import tensorflow as tf\n",
    "from tensorflow.keras import layers, models\n",
    "import matplotlib.pyplot as plt\n",
    "from sklearn.metrics import classification_report\n",
    "import numpy as np\n",
    "import random"
   ]
  },
  {
   "cell_type": "markdown",
   "id": "aadd76be",
   "metadata": {},
   "source": [
    "## 📥 Load and Preprocess MNIST Dataset"
   ]
  },
  {
   "cell_type": "code",
   "execution_count": 2,
   "id": "2b056068",
   "metadata": {},
   "outputs": [],
   "source": [
    "\n",
    "# Load MNIST dataset\n",
    "(x_train, y_train), (x_test, y_test) = tf.keras.datasets.mnist.load_data()\n",
    "\n",
    "# Normalize\n",
    "x_train = x_train / 255.0\n",
    "x_test = x_test / 255.0\n",
    "\n",
    "# Split validation set\n",
    "x_val = x_train[-10000:]\n",
    "y_val = y_train[-10000:]\n",
    "x_train = x_train[:-10000]\n",
    "y_train = y_train[:-10000]\n",
    "\n",
    "# Flatten images\n",
    "x_train = x_train.reshape((-1, 28 * 28))\n",
    "x_val = x_val.reshape((-1, 28 * 28))\n",
    "x_test = x_test.reshape((-1, 28 * 28))\n"
   ]
  },
  {
   "cell_type": "code",
   "execution_count": 3,
   "id": "1ceccba1",
   "metadata": {},
   "outputs": [
    {
     "name": "stdout",
     "output_type": "stream",
     "text": [
      "[0 1 2 3 4 5 6 7 8 9] [4932 5678 4968 5101 4859 4506 4951 5175 4842 4988]\n"
     ]
    },
    {
     "data": {
      "image/png": "[encoded data removed]",
      "text/plain": [
       "<Figure size 576x360 with 1 Axes>"
      ]
     },
     "metadata": {
      "needs_background": "light"
     },
     "output_type": "display_data"
    }
   ],
   "source": [
    "# Plot the bar chart\n",
    "classes, counts = np.unique(y_train, return_counts=True)\n",
    "print(classes, counts)\n",
    "plt.figure(figsize=(8, 5))\n",
    "plt.bar(classes, counts, tick_label=[str(c) for c in classes], color='skyblue')\n",
    "plt.title(\"Class Distribution (MNIST)\")\n",
    "plt.xlabel(\"Class Label\")\n",
    "plt.ylabel(\"Number of Samples\")\n",
    "plt.grid(axis='y')\n",
    "plt.show()"
   ]
  },
  {
   "cell_type": "markdown",
   "id": "6ab6de55",
   "metadata": {},
   "source": [
    "## 🧠 Define a Simple Model Architecture"
   ]
  },
  {
   "cell_type": "code",
   "execution_count": 15,
   "id": "54089a9a",
   "metadata": {},
   "outputs": [],
   "source": [
    "\n",
    "def underfitting_model():\n",
    "    model = models.Sequential()\n",
    "    model.add(layers.Input(shape=(784,)))\n",
    "    model.add(layers.Dense(1, activation='relu'))\n",
    "    model.add(layers.Dense(10, activation='softmax'))\n",
    "\n",
    "    model.compile(optimizer='adam',\n",
    "                  loss='sparse_categorical_crossentropy',\n",
    "                  metrics=['accuracy'])\n",
    "    return model\n"
   ]
  },
  {
   "cell_type": "markdown",
   "id": "1eb457ea",
   "metadata": {},
   "source": [
    "## 🚂 Train the Model (Expect Underfitting)"
   ]
  },
  {
   "cell_type": "code",
   "execution_count": 16,
   "id": "f8afffa8",
   "metadata": {},
   "outputs": [
    {
     "name": "stdout",
     "output_type": "stream",
     "text": [
      "Epoch 1/20\n",
      "WARNING:tensorflow:AutoGraph could not transform <function Model.make_train_function.<locals>.train_function at 0x000001E0E4D5DA68> and will run it as-is.\n",
      "Please report this to the TensorFlow team. When filing the bug, set the verbosity to 10 (on Linux, `export AUTOGRAPH_VERBOSITY=10`) and attach the full output.\n",
      "Cause: 'arguments' object has no attribute 'posonlyargs'\n",
      "To silence this warning, decorate the function with @tf.autograph.experimental.do_not_convert\n",
      "WARNING: AutoGraph could not transform <function Model.make_train_function.<locals>.train_function at 0x000001E0E4D5DA68> and will run it as-is.\n",
      "Please report this to the TensorFlow team. When filing the bug, set the verbosity to 10 (on Linux, `export AUTOGRAPH_VERBOSITY=10`) and attach the full output.\n",
      "Cause: 'arguments' object has no attribute 'posonlyargs'\n",
      "To silence this warning, decorate the function with @tf.autograph.experimental.do_not_convert\n",
      "WARNING:tensorflow:AutoGraph could not transform <function Model.make_test_function.<locals>.test_function at 0x000001E0EB0BB0D8> and will run it as-is.\n",
      "Please report this to the TensorFlow team. When filing the bug, set the verbosity to 10 (on Linux, `export AUTOGRAPH_VERBOSITY=10`) and attach the full output.\n",
      "Cause: 'arguments' object has no attribute 'posonlyargs'\n",
      "To silence this warning, decorate the function with @tf.autograph.experimental.do_not_convert\n",
      "WARNING: AutoGraph could not transform <function Model.make_test_function.<locals>.test_function at 0x000001E0EB0BB0D8> and will run it as-is.\n",
      "Please report this to the TensorFlow team. When filing the bug, set the verbosity to 10 (on Linux, `export AUTOGRAPH_VERBOSITY=10`) and attach the full output.\n",
      "Cause: 'arguments' object has no attribute 'posonlyargs'\n",
      "To silence this warning, decorate the function with @tf.autograph.experimental.do_not_convert\n",
      "782/782 - 3s - loss: 2.0382 - accuracy: 0.1742 - val_loss: 1.9457 - val_accuracy: 0.1953\n",
      "Epoch 2/20\n",
      "782/782 - 2s - loss: 1.9061 - accuracy: 0.2428 - val_loss: 1.8529 - val_accuracy: 0.2755\n",
      "Epoch 3/20\n",
      "782/782 - 2s - loss: 1.8267 - accuracy: 0.2900 - val_loss: 1.8004 - val_accuracy: 0.2913\n",
      "Epoch 4/20\n",
      "782/782 - 2s - loss: 1.7890 - accuracy: 0.3034 - val_loss: 1.7728 - val_accuracy: 0.3087\n",
      "Epoch 5/20\n",
      "782/782 - 2s - loss: 1.7680 - accuracy: 0.3171 - val_loss: 1.7531 - val_accuracy: 0.3164\n",
      "Epoch 6/20\n",
      "782/782 - 2s - loss: 1.7507 - accuracy: 0.3248 - val_loss: 1.7365 - val_accuracy: 0.3318\n",
      "Epoch 7/20\n",
      "782/782 - 2s - loss: 1.7363 - accuracy: 0.3309 - val_loss: 1.7253 - val_accuracy: 0.3363\n",
      "Epoch 8/20\n",
      "782/782 - 2s - loss: 1.7262 - accuracy: 0.3357 - val_loss: 1.7189 - val_accuracy: 0.3413\n",
      "Epoch 9/20\n",
      "782/782 - 2s - loss: 1.7178 - accuracy: 0.3407 - val_loss: 1.7104 - val_accuracy: 0.3436\n",
      "Epoch 10/20\n",
      "782/782 - 2s - loss: 1.7120 - accuracy: 0.3418 - val_loss: 1.7118 - val_accuracy: 0.3454\n",
      "Epoch 11/20\n",
      "782/782 - 2s - loss: 1.7065 - accuracy: 0.3451 - val_loss: 1.7002 - val_accuracy: 0.3500\n",
      "Epoch 12/20\n",
      "782/782 - 2s - loss: 1.7013 - accuracy: 0.3458 - val_loss: 1.6970 - val_accuracy: 0.3549\n",
      "Epoch 13/20\n",
      "782/782 - 2s - loss: 1.6971 - accuracy: 0.3469 - val_loss: 1.6928 - val_accuracy: 0.3566\n",
      "Epoch 14/20\n",
      "782/782 - 2s - loss: 1.6932 - accuracy: 0.3489 - val_loss: 1.6890 - val_accuracy: 0.3521\n",
      "Epoch 15/20\n",
      "782/782 - 2s - loss: 1.6899 - accuracy: 0.3486 - val_loss: 1.6875 - val_accuracy: 0.3558\n",
      "Epoch 16/20\n",
      "782/782 - 2s - loss: 1.6871 - accuracy: 0.3510 - val_loss: 1.6879 - val_accuracy: 0.3544\n",
      "Epoch 17/20\n",
      "782/782 - 2s - loss: 1.6841 - accuracy: 0.3528 - val_loss: 1.6823 - val_accuracy: 0.3545\n",
      "Epoch 18/20\n",
      "782/782 - 3s - loss: 1.6811 - accuracy: 0.3536 - val_loss: 1.6790 - val_accuracy: 0.3618\n",
      "Epoch 19/20\n",
      "782/782 - 2s - loss: 1.6785 - accuracy: 0.3527 - val_loss: 1.6765 - val_accuracy: 0.3606\n",
      "Epoch 20/20\n",
      "782/782 - 3s - loss: 1.6757 - accuracy: 0.3552 - val_loss: 1.6754 - val_accuracy: 0.3507\n"
     ]
    }
   ],
   "source": [
    "\n",
    "model = underfitting_model()\n",
    "history = model.fit(\n",
    "    x_train, y_train,\n",
    "    epochs=20,\n",
    "    batch_size=64,\n",
    "    validation_data=(x_val, y_val),\n",
    "    verbose=2\n",
    ")\n"
   ]
  },
  {
   "cell_type": "markdown",
   "id": "5e3f0b98",
   "metadata": {},
   "source": [
    "## 📊 Plot Training vs Validation Performance"
   ]
  },
  {
   "cell_type": "code",
   "execution_count": 11,
   "id": "fb21026e",
   "metadata": {},
   "outputs": [
    {
     "data": {
      "image/png": "[encoded data removed]",
      "text/plain": [
       "<Figure size 1008x360 with 2 Axes>"
      ]
     },
     "metadata": {
      "needs_background": "light"
     },
     "output_type": "display_data"
    }
   ],
   "source": [
    "\n",
    "def plot_history(history):\n",
    "    plt.figure(figsize=(14, 5))\n",
    "    \n",
    "    # Loss Plot\n",
    "    plt.subplot(1, 2, 1)\n",
    "    plt.plot(history.history['loss'], label='Train Loss')\n",
    "    plt.plot(history.history['val_loss'], label='Val Loss')\n",
    "    plt.title('Loss Curve')\n",
    "    plt.xlabel('Epochs')\n",
    "    plt.ylabel('Loss')\n",
    "    plt.legend()\n",
    "\n",
    "    # Accuracy Plot\n",
    "    plt.subplot(1, 2, 2)\n",
    "    plt.plot(history.history['accuracy'], label='Train Accuracy')\n",
    "    plt.plot(history.history['val_accuracy'], label='Val Accuracy')\n",
    "    plt.title('Accuracy Curve')\n",
    "    plt.xlabel('Epochs')\n",
    "    plt.ylabel('Accuracy')\n",
    "    plt.legend()\n",
    "\n",
    "    plt.tight_layout()\n",
    "    plt.show()\n",
    "\n",
    "plot_history(history)\n"
   ]
  },
  {
   "cell_type": "markdown",
   "id": "e704ab98",
   "metadata": {},
   "source": [
    "\n",
    "---\n",
    "## 🧠 Observations\n",
    "\n",
    "- **Training and Validation Accuracy**: Remain low throughout\n",
    "- **Loss**: Stays relatively high and doesn't decrease much\n",
    "- This is a clear sign of **underfitting** — the model lacks the capacity to learn from the data.\n",
    "\n",
    "---\n"
   ]
  },
  {
   "cell_type": "code",
   "execution_count": 12,
   "id": "b88421ce",
   "metadata": {},
   "outputs": [
    {
     "name": "stdout",
     "output_type": "stream",
     "text": [
      "313/313 [==============================] - 1s 3ms/step - loss: 0.9479 - accuracy: 0.6850\n",
      "[7 2 1 0 4 1 4 9 5 9]\n",
      "Accuracy: 0.6850, Loss: 0.9479\n",
      "WARNING:tensorflow:AutoGraph could not transform <function Model.make_predict_function.<locals>.predict_function at 0x000001E0E4D6B828> and will run it as-is.\n",
      "Please report this to the TensorFlow team. When filing the bug, set the verbosity to 10 (on Linux, `export AUTOGRAPH_VERBOSITY=10`) and attach the full output.\n",
      "Cause: 'arguments' object has no attribute 'posonlyargs'\n",
      "To silence this warning, decorate the function with @tf.autograph.experimental.do_not_convert\n",
      "WARNING: AutoGraph could not transform <function Model.make_predict_function.<locals>.predict_function at 0x000001E0E4D6B828> and will run it as-is.\n",
      "Please report this to the TensorFlow team. When filing the bug, set the verbosity to 10 (on Linux, `export AUTOGRAPH_VERBOSITY=10`) and attach the full output.\n",
      "Cause: 'arguments' object has no attribute 'posonlyargs'\n",
      "To silence this warning, decorate the function with @tf.autograph.experimental.do_not_convert\n",
      "[7 2 1 0 4 1 4 7 0 7]\n",
      "Accuracy Report:\n",
      "               precision    recall  f1-score   support\n",
      "\n",
      "           0       0.81      0.85      0.83       980\n",
      "           1       0.87      0.94      0.90      1135\n",
      "           2       0.75      0.55      0.63      1032\n",
      "           3       0.52      0.59      0.55      1010\n",
      "           4       0.64      0.68      0.66       982\n",
      "           5       0.48      0.40      0.44       892\n",
      "           6       0.77      0.83      0.80       958\n",
      "           7       0.80      0.88      0.84      1028\n",
      "           8       0.45      0.43      0.44       974\n",
      "           9       0.67      0.65      0.66      1009\n",
      "\n",
      "    accuracy                           0.69     10000\n",
      "   macro avg       0.68      0.68      0.67     10000\n",
      "weighted avg       0.68      0.69      0.68     10000\n",
      "\n"
     ]
    }
   ],
   "source": [
    "# Evaluate\n",
    "loss, acc = model.evaluate(x_test, y_test, verbose=1)\n",
    "print(y_test[0:10])\n",
    "# Show results\n",
    "print(f\"Accuracy: {acc:.4f}, Loss: {loss:.4f}\")\n",
    "\n",
    "# Predict on test set\n",
    "y_pred = model.predict(x_test)\n",
    "\n",
    "# Convert predictions to class labels\n",
    "y_pred = np.argmax(y_pred, axis=1)\n",
    "print(y_pred[0:10])\n",
    "\n",
    "\n",
    "print(\"Accuracy Report:\\n\", classification_report(y_test, y_pred))"
   ]
  },
  {
   "cell_type": "code",
   "execution_count": 14,
   "id": "85498deb",
   "metadata": {},
   "outputs": [
    {
     "name": "stdout",
     "output_type": "stream",
     "text": [
      "Predicted label: 0.1\n"
     ]
    },
    {
     "data": {
      "image/png": "[encoded data removed]",
      "text/plain": [
       "<Figure size 432x288 with 1 Axes>"
      ]
     },
     "metadata": {
      "needs_background": "light"
     },
     "output_type": "display_data"
    }
   ],
   "source": [
    "\n",
    "# Pick a random test sample\n",
    "index = random.randint(0, x_test.shape[0] - 1)\n",
    "sample_image = x_test[index].reshape(1, 784)  # Flatten for model input\n",
    "ground_truth = y_test[index]\n",
    "\n",
    "# Predict the label\n",
    "logits = model.predict(sample_image)\n",
    "# print(logits)\n",
    "predicted_label = np.argmax(logits)\n",
    "\n",
    "probabilities = str(tf.nn.softmax(logits).numpy()[0][predicted_label])[0:3]\n",
    "# Print the probabilities\n",
    "print(f\"Predicted label: {probabilities}\")\n",
    "# Reshape back to 28x28 for visualization\n",
    "plt.imshow(sample_image.reshape(28, 28), cmap='gray')\n",
    "plt.title(f\"Ground Truth: {ground_truth} | Predicted: {predicted_label} | Prob: {probabilities}\")\n",
    "plt.axis('off')\n",
    "plt.show()"
   ]
  }
 ],
 "metadata": {
  "kernelspec": {
   "display_name": "tf_2.2",
   "language": "python",
   "name": "python3"
  },
  "language_info": {
   "codemirror_mode": {
    "name": "ipython",
    "version": 3
   },
   "file_extension": ".py",
   "mimetype": "text/x-python",
   "name": "python",
   "nbconvert_exporter": "python",
   "pygments_lexer": "ipython3",
   "version": "3.7.9"
  }
 },
 "nbformat": 4,
 "nbformat_minor": 5
}
