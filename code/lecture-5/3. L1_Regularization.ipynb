{
 "cells": [
  {
   "cell_type": "markdown",
   "id": "32f532c3",
   "metadata": {},
   "source": [
    "\n",
    "# 🧠 Complete Numerical Walkthrough: L1 Regularization in Neural Networks\n",
    "\n",
    "This notebook demonstrates the mathematical flow of L1 regularization using a simplified example with a $( 2 \\times 2 )$ weight matrix.\n",
    "\n",
    "We will compute:\n",
    "1. The total loss with L1 penalty\n",
    "2. The combined gradients\n",
    "3. The updated weights after a gradient descent step\n",
    "\n",
    "---\n"
   ]
  },
  {
   "cell_type": "markdown",
   "id": "7c8f9cde",
   "metadata": {},
   "source": [
    "\n",
    "## 🧾 Initial Setup\n",
    "\n",
    "Given:\n",
    "- Weight matrix $( W \\in \\mathbb{R}^{2 \\times 2} )$\n",
    "- Regularization strength $( \\lambda = 0.01 )$\n",
    "- Learning rate $( \\eta = 0.1 )$\n",
    "- Base loss $( L = 0.52 )$\n",
    "- Gradient from base loss:\n",
    "\n",
    "$\n",
    "\\nabla L =\n",
    "\\begin{bmatrix}\n",
    "0.02 & -0.01 \\\\\n",
    "0.03 & -0.04\n",
    "\\end{bmatrix}\n",
    "$\n",
    "\n",
    "Weight matrix:\n",
    "\n",
    "$\n",
    "W =\n",
    "\\begin{bmatrix}\n",
    "0.8 & -0.3 \\\\\n",
    "0.0 & 0.5\n",
    "\\end{bmatrix}\n",
    "$\n"
   ]
  },
  {
   "cell_type": "markdown",
   "id": "99fe5176",
   "metadata": {},
   "source": [
    "\n",
    "## 📐 Step 1: Compute L1 Regularization Penalty\n",
    "\n",
    "$ \\sum |w_{ij}| = |0.8| + |-0.3| + |0.0| + |0.5| = 1.6 $\n"
   ]
  },
  {
   "cell_type": "markdown",
   "id": "72c9d42d",
   "metadata": {},
   "source": [
    "\n",
    "## 🔢 Step 2: Compute Total Loss with Regularization\n",
    "\n",
    "$\n",
    "L_{\\text{new}} = L + \\lambda \\sum |w_{ij}| = 0.52 + 0.01 \\times 1.6 = 0.536 $\n"
   ]
  },
  {
   "cell_type": "markdown",
   "id": "29285685",
   "metadata": {},
   "source": [
    "\n",
    "## 🔁 Step 3: Compute Total Gradient\n",
    "\n",
    "Gradient of the L1 penalty:\n",
    "\n",
    "$\n",
    "\\lambda \\cdot \\text{sign}(W) =\n",
    "0.01 \\cdot\n",
    "\\begin{bmatrix}\n",
    "1 & -1 \\\\\n",
    "0 & 1\n",
    "\\end{bmatrix}\n",
    "$\n",
    "$=$\n",
    "$\n",
    "\\begin{bmatrix}\n",
    "0.01 & -0.01 \\\\\n",
    "0.00 & 0.01\n",
    "\\end{bmatrix}\n",
    "$\n",
    "\n",
    "Total gradient:\n",
    "\n",
    "$\n",
    "\\nabla L_{\\text{new}} =\n",
    "\\begin{bmatrix}\n",
    "0.02 & -0.01 \\\\\n",
    "0.03 & -0.04\n",
    "\\end{bmatrix}\n",
    "$\n",
    "$+$\n",
    "$\n",
    "\\begin{bmatrix}\n",
    "0.01 & -0.01 \\\\\n",
    "0.00 & 0.01\n",
    "\\end{bmatrix}\n",
    "$\n",
    "$=$\n",
    "$\n",
    "\\begin{bmatrix}\n",
    "0.03 & -0.02 \\\\\n",
    "0.03 & -0.03\n",
    "\\end{bmatrix}\n",
    "$\n"
   ]
  },
  {
   "cell_type": "markdown",
   "id": "8449ed43",
   "metadata": {},
   "source": [
    "\n",
    "## ⬇️ Step 4: Perform Weight Update\n",
    "\n",
    "Using learning rate $( \\eta = 0.1 )$:\n",
    "\n",
    "$\n",
    "W_{\\text{new}} = W - \\eta \\cdot \\nabla L_{\\text{new}}\n",
    "$\n",
    "\n",
    "Gradient step:\n",
    "\n",
    "$\n",
    "0.1 \\cdot \\nabla L_{\\text{new}} =\n",
    "\\begin{bmatrix}\n",
    "0.003 & -0.002 \\\\\n",
    "0.003 & -0.003\n",
    "\\end{bmatrix}\n",
    "$\n",
    "\n",
    "Updated weights:\n",
    "\n",
    "$\n",
    "W_{\\text{new}} =\n",
    "\\begin{bmatrix}\n",
    "0.8 & -0.3 \\\\\n",
    "0.0 & 0.5\n",
    "\\end{bmatrix}\n",
    "$\n",
    "$-$\n",
    "$\n",
    "\\begin{bmatrix}\n",
    "0.003 & -0.002 \\\\\n",
    "0.003 & -0.003\n",
    "\\end{bmatrix}\n",
    "$\n",
    "$=$\n",
    "$\n",
    "\\begin{bmatrix}\n",
    "0.797 & -0.298 \\\\\n",
    "-0.003 & 0.503\n",
    "\\end{bmatrix}\n",
    "$\n"
   ]
  },
  {
   "cell_type": "markdown",
   "id": "271d8b14",
   "metadata": {},
   "source": [
    "\n",
    "## ✅ Summary Table\n",
    "\n",
    "| Component                        | Value / Matrix                                       |\n",
    "|----------------------------------|------------------------------------------------------|\n",
    "| Base Loss \\( L \\)               | 0.52                                                 |\n",
    "| L1 Penalty $\\sum w_{ij}$  | 1.6                                                  |\n",
    "| Regularized Loss $( L_{\\text{new}} )$ | 0.536                                            |\n",
    "| Gradient of base loss $ \\nabla L $ | $ \\begin{bmatrix} 0.02 & -0.01 \\\\ 0.03 & -0.04 \\end{bmatrix} $ |\n",
    "| Gradient of L1 penalty $ \\lambda \\cdot \\text{sign}(W) $ | $ \\begin{bmatrix} 0.01 & -0.01 \\\\ 0.00 & 0.01 \\end{bmatrix} $ |\n",
    "| Total Gradient $\\nabla L_{\\text{new}} $ | $\\begin{bmatrix} 0.03 & -0.02 \\\\ 0.03 & -0.03 \\end{bmatrix} $ |\n",
    "| Updated Weights $ W_{\\text{new}} $ | $ \\begin{bmatrix} 0.797 & -0.298 \\\\ -0.003 & 0.503 \\end{bmatrix} $ |\n"
   ]
  },
  {
   "cell_type": "markdown",
   "id": "263359da",
   "metadata": {},
   "source": [
    "\n",
    "---\n",
    "\n",
    "## 🔍 Key Insights\n",
    "\n",
    "- The regularized loss $ L_{\\text{new}} = 0.536 $ includes the penalty from L1, not just the prediction error.\n",
    "- The gradient used in the update step comes from $ L_{\\text{new}} $, including both prediction and regularization terms.\n",
    "- L1 regularization encourages **sparsity** by nudging weights toward zero.\n",
    "- The regularization effect is visible even in this small update step.\n",
    "\n",
    "---\n"
   ]
  },
  {
   "cell_type": "code",
   "execution_count": 9,
   "id": "bb70cd45",
   "metadata": {},
   "outputs": [],
   "source": [
    "import tensorflow as tf\n",
    "from tensorflow.keras import layers, models, regularizers\n",
    "import matplotlib.pyplot as plt\n",
    "from sklearn.metrics import classification_report\n",
    "import numpy as np\n",
    "import random"
   ]
  },
  {
   "cell_type": "markdown",
   "id": "a7443c01",
   "metadata": {},
   "source": [
    "## 📥 Load and Preprocess the MNIST Dataset"
   ]
  },
  {
   "cell_type": "code",
   "execution_count": 10,
   "id": "c0a9f5ea",
   "metadata": {},
   "outputs": [],
   "source": [
    "\n",
    "# Load the dataset\n",
    "(x_train, y_train), (x_test, y_test) = tf.keras.datasets.mnist.load_data()\n",
    "\n",
    "# Normalize pixel values to [0, 1]\n",
    "x_train = x_train / 255.0\n",
    "x_test = x_test / 255.0\n",
    "\n",
    "# Flatten the images for dense input\n",
    "x_train = x_train.reshape((-1, 28 * 28))\n",
    "x_test = x_test.reshape((-1, 28 * 28))\n",
    "\n",
    "# Split validation set from training data\n",
    "x_val = x_train[-10000:]\n",
    "y_val = y_train[-10000:]\n",
    "x_train = x_train[:-10000]\n",
    "y_train = y_train[:-10000]\n"
   ]
  },
  {
   "cell_type": "code",
   "execution_count": 11,
   "id": "537401c0",
   "metadata": {},
   "outputs": [],
   "source": [
    "\n",
    "# Take only 1000 training samples\n",
    "x_small_train = x_train[:300]\n",
    "y_small_train = y_train[:300]\n"
   ]
  },
  {
   "cell_type": "code",
   "execution_count": 12,
   "id": "d47b6928",
   "metadata": {},
   "outputs": [
    {
     "name": "stdout",
     "output_type": "stream",
     "text": [
      "[0 1 2 3 4 5 6 7 8 9] [34 39 28 34 32 23 29 29 21 31]\n"
     ]
    },
    {
     "data": {
      "image/png": "[encoded data removed]",
      "text/plain": [
       "<Figure size 576x360 with 1 Axes>"
      ]
     },
     "metadata": {
      "needs_background": "light"
     },
     "output_type": "display_data"
    }
   ],
   "source": [
    "# Plot the bar chart\n",
    "classes, counts = np.unique(y_small_train, return_counts=True)\n",
    "print(classes, counts)\n",
    "plt.figure(figsize=(8, 5))\n",
    "plt.bar(classes, counts, tick_label=[str(c) for c in classes], color='skyblue')\n",
    "plt.title(\"Class Distribution (MNIST)\")\n",
    "plt.xlabel(\"Class Label\")\n",
    "plt.ylabel(\"Number of Samples\")\n",
    "plt.grid(axis='y')\n",
    "plt.show()"
   ]
  },
  {
   "cell_type": "markdown",
   "id": "175178d3",
   "metadata": {},
   "source": [
    "## 🏗️ Define a Neural Network with L1 Regularization"
   ]
  },
  {
   "cell_type": "code",
   "execution_count": 13,
   "id": "80951330",
   "metadata": {},
   "outputs": [],
   "source": [
    "\n",
    "# def create_model_l1(lambda_val=0.0005):\n",
    "#     model = models.Sequential([\n",
    "#         layers.Input(shape=(784,)),\n",
    "#         layers.Dense(128, activation='relu', kernel_regularizer=regularizers.l1(lambda_val)),\n",
    "#         layers.Dense(64, activation='relu', kernel_regularizer=regularizers.l1(lambda_val)),\n",
    "#         layers.Dense(10, activation='softmax')\n",
    "#     ])\n",
    "#     model.compile(optimizer='adam',\n",
    "#                   loss='sparse_categorical_crossentropy',\n",
    "#                   metrics=['accuracy'])\n",
    "#     return model\n",
    "\n",
    "# model = create_model_l1()\n",
    "\n",
    "\n",
    "def overfitting_model_l1(lambda_val=0.0005):\n",
    "    model = models.Sequential([\n",
    "    layers.Input(shape=(784,)),\n",
    "    layers.Dense(1024, activation='relu', kernel_regularizer=regularizers.l1(lambda_val)),\n",
    "    layers.Dense(512, activation='relu', kernel_regularizer=regularizers.l1(lambda_val)),\n",
    "    layers.Dense(256, activation='relu', kernel_regularizer=regularizers.l1(lambda_val)),\n",
    "    layers.Dense(128, activation='relu', kernel_regularizer=regularizers.l1(lambda_val)),\n",
    "    layers.Dense(10, activation='softmax')\n",
    "    ])\n",
    "    model.compile(optimizer='adam',\n",
    "                  loss='sparse_categorical_crossentropy',\n",
    "                  metrics=['accuracy'])\n",
    "    return model\n",
    "\n",
    "model = overfitting_model_l1()\n"
   ]
  },
  {
   "cell_type": "markdown",
   "id": "4b9ac523",
   "metadata": {},
   "source": [
    "## 🚂 Train the Model"
   ]
  },
  {
   "cell_type": "code",
   "execution_count": 14,
   "id": "bea6dd3e",
   "metadata": {},
   "outputs": [
    {
     "name": "stdout",
     "output_type": "stream",
     "text": [
      "Epoch 1/50\n",
      "WARNING:tensorflow:AutoGraph could not transform <function Model.make_train_function.<locals>.train_function at 0x000001AE0BFD2318> and will run it as-is.\n",
      "Please report this to the TensorFlow team. When filing the bug, set the verbosity to 10 (on Linux, `export AUTOGRAPH_VERBOSITY=10`) and attach the full output.\n",
      "Cause: 'arguments' object has no attribute 'posonlyargs'\n",
      "To silence this warning, decorate the function with @tf.autograph.experimental.do_not_convert\n",
      "WARNING: AutoGraph could not transform <function Model.make_train_function.<locals>.train_function at 0x000001AE0BFD2318> and will run it as-is.\n",
      "Please report this to the TensorFlow team. When filing the bug, set the verbosity to 10 (on Linux, `export AUTOGRAPH_VERBOSITY=10`) and attach the full output.\n",
      "Cause: 'arguments' object has no attribute 'posonlyargs'\n",
      "To silence this warning, decorate the function with @tf.autograph.experimental.do_not_convert\n",
      "WARNING:tensorflow:AutoGraph could not transform <function Model.make_test_function.<locals>.test_function at 0x000001AE06F008B8> and will run it as-is.\n",
      "Please report this to the TensorFlow team. When filing the bug, set the verbosity to 10 (on Linux, `export AUTOGRAPH_VERBOSITY=10`) and attach the full output.\n",
      "Cause: 'arguments' object has no attribute 'posonlyargs'\n",
      "To silence this warning, decorate the function with @tf.autograph.experimental.do_not_convert\n",
      "WARNING: AutoGraph could not transform <function Model.make_test_function.<locals>.test_function at 0x000001AE06F008B8> and will run it as-is.\n",
      "Please report this to the TensorFlow team. When filing the bug, set the verbosity to 10 (on Linux, `export AUTOGRAPH_VERBOSITY=10`) and attach the full output.\n",
      "Cause: 'arguments' object has no attribute 'posonlyargs'\n",
      "To silence this warning, decorate the function with @tf.autograph.experimental.do_not_convert\n",
      "391/391 - 2s - loss: 4.0903 - accuracy: 0.8789 - val_loss: 1.3110 - val_accuracy: 0.9271\n",
      "Epoch 2/50\n",
      "391/391 - 1s - loss: 1.0468 - accuracy: 0.9282 - val_loss: 0.8158 - val_accuracy: 0.9488\n",
      "Epoch 3/50\n",
      "391/391 - 1s - loss: 0.7508 - accuracy: 0.9426 - val_loss: 0.6627 - val_accuracy: 0.9486\n",
      "Epoch 4/50\n",
      "391/391 - 1s - loss: 0.6238 - accuracy: 0.9485 - val_loss: 0.5553 - val_accuracy: 0.9599\n",
      "Epoch 5/50\n",
      "391/391 - 2s - loss: 0.5536 - accuracy: 0.9539 - val_loss: 0.5164 - val_accuracy: 0.9586\n",
      "Epoch 6/50\n",
      "391/391 - 2s - loss: 0.5124 - accuracy: 0.9565 - val_loss: 0.4855 - val_accuracy: 0.9604\n",
      "Epoch 7/50\n",
      "391/391 - 2s - loss: 0.4846 - accuracy: 0.9575 - val_loss: 0.4828 - val_accuracy: 0.9590\n",
      "Epoch 8/50\n",
      "391/391 - 1s - loss: 0.4639 - accuracy: 0.9594 - val_loss: 0.4434 - val_accuracy: 0.9640\n",
      "Epoch 9/50\n",
      "391/391 - 1s - loss: 0.4486 - accuracy: 0.9608 - val_loss: 0.4529 - val_accuracy: 0.9568\n",
      "Epoch 10/50\n",
      "391/391 - 1s - loss: 0.4341 - accuracy: 0.9621 - val_loss: 0.4171 - val_accuracy: 0.9637\n",
      "Epoch 11/50\n",
      "391/391 - 1s - loss: 0.4224 - accuracy: 0.9625 - val_loss: 0.4219 - val_accuracy: 0.9643\n",
      "Epoch 12/50\n",
      "391/391 - 2s - loss: 0.4154 - accuracy: 0.9630 - val_loss: 0.4061 - val_accuracy: 0.9634\n",
      "Epoch 13/50\n",
      "391/391 - 2s - loss: 0.4067 - accuracy: 0.9634 - val_loss: 0.4091 - val_accuracy: 0.9611\n",
      "Epoch 14/50\n",
      "391/391 - 2s - loss: 0.4004 - accuracy: 0.9640 - val_loss: 0.4112 - val_accuracy: 0.9592\n",
      "Epoch 15/50\n",
      "391/391 - 2s - loss: 0.3940 - accuracy: 0.9640 - val_loss: 0.3938 - val_accuracy: 0.9637\n",
      "Epoch 16/50\n",
      "391/391 - 1s - loss: 0.3863 - accuracy: 0.9652 - val_loss: 0.3842 - val_accuracy: 0.9661\n",
      "Epoch 17/50\n",
      "391/391 - 2s - loss: 0.3820 - accuracy: 0.9657 - val_loss: 0.3921 - val_accuracy: 0.9626\n",
      "Epoch 18/50\n",
      "391/391 - 1s - loss: 0.3777 - accuracy: 0.9663 - val_loss: 0.3737 - val_accuracy: 0.9672\n",
      "Epoch 19/50\n",
      "391/391 - 1s - loss: 0.3729 - accuracy: 0.9671 - val_loss: 0.3884 - val_accuracy: 0.9629\n",
      "Epoch 20/50\n",
      "391/391 - 1s - loss: 0.3694 - accuracy: 0.9667 - val_loss: 0.3685 - val_accuracy: 0.9676\n",
      "Epoch 21/50\n",
      "391/391 - 1s - loss: 0.3677 - accuracy: 0.9662 - val_loss: 0.3910 - val_accuracy: 0.9585\n",
      "Epoch 22/50\n",
      "391/391 - 1s - loss: 0.3621 - accuracy: 0.9671 - val_loss: 0.3690 - val_accuracy: 0.9658\n",
      "Epoch 23/50\n",
      "391/391 - 1s - loss: 0.3590 - accuracy: 0.9678 - val_loss: 0.3657 - val_accuracy: 0.9668\n",
      "Epoch 24/50\n",
      "391/391 - 1s - loss: 0.3566 - accuracy: 0.9674 - val_loss: 0.3657 - val_accuracy: 0.9643\n",
      "Epoch 25/50\n",
      "391/391 - 1s - loss: 0.3544 - accuracy: 0.9682 - val_loss: 0.3586 - val_accuracy: 0.9669\n",
      "Epoch 26/50\n",
      "391/391 - 1s - loss: 0.3496 - accuracy: 0.9687 - val_loss: 0.3613 - val_accuracy: 0.9664\n",
      "Epoch 27/50\n",
      "391/391 - 1s - loss: 0.3479 - accuracy: 0.9681 - val_loss: 0.3575 - val_accuracy: 0.9660\n",
      "Epoch 28/50\n",
      "391/391 - 1s - loss: 0.3456 - accuracy: 0.9687 - val_loss: 0.3556 - val_accuracy: 0.9673\n",
      "Epoch 29/50\n",
      "391/391 - 1s - loss: 0.3436 - accuracy: 0.9686 - val_loss: 0.3605 - val_accuracy: 0.9631\n",
      "Epoch 30/50\n",
      "391/391 - 1s - loss: 0.3417 - accuracy: 0.9692 - val_loss: 0.3456 - val_accuracy: 0.9699\n",
      "Epoch 31/50\n",
      "391/391 - 2s - loss: 0.3426 - accuracy: 0.9689 - val_loss: 0.3510 - val_accuracy: 0.9665\n",
      "Epoch 32/50\n",
      "391/391 - 1s - loss: 0.3402 - accuracy: 0.9692 - val_loss: 0.3500 - val_accuracy: 0.9667\n",
      "Epoch 33/50\n",
      "391/391 - 2s - loss: 0.3354 - accuracy: 0.9702 - val_loss: 0.3502 - val_accuracy: 0.9661\n",
      "Epoch 34/50\n",
      "391/391 - 1s - loss: 0.3370 - accuracy: 0.9688 - val_loss: 0.3453 - val_accuracy: 0.9670\n",
      "Epoch 35/50\n",
      "391/391 - 1s - loss: 0.3369 - accuracy: 0.9692 - val_loss: 0.3536 - val_accuracy: 0.9653\n",
      "Epoch 36/50\n",
      "391/391 - 1s - loss: 0.3338 - accuracy: 0.9698 - val_loss: 0.3401 - val_accuracy: 0.9684\n",
      "Epoch 37/50\n",
      "391/391 - 1s - loss: 0.3337 - accuracy: 0.9694 - val_loss: 0.3575 - val_accuracy: 0.9643\n",
      "Epoch 38/50\n",
      "391/391 - 1s - loss: 0.3295 - accuracy: 0.9708 - val_loss: 0.3509 - val_accuracy: 0.9645\n",
      "Epoch 39/50\n",
      "391/391 - 1s - loss: 0.3300 - accuracy: 0.9706 - val_loss: 0.3372 - val_accuracy: 0.9714\n",
      "Epoch 40/50\n",
      "391/391 - 1s - loss: 0.3275 - accuracy: 0.9710 - val_loss: 0.3472 - val_accuracy: 0.9656\n",
      "Epoch 41/50\n",
      "391/391 - 1s - loss: 0.3269 - accuracy: 0.9707 - val_loss: 0.3464 - val_accuracy: 0.9665\n",
      "Epoch 42/50\n",
      "391/391 - 1s - loss: 0.3293 - accuracy: 0.9701 - val_loss: 0.3454 - val_accuracy: 0.9663\n",
      "Epoch 43/50\n",
      "391/391 - 2s - loss: 0.3271 - accuracy: 0.9706 - val_loss: 0.3425 - val_accuracy: 0.9678\n",
      "Epoch 44/50\n",
      "391/391 - 2s - loss: 0.3256 - accuracy: 0.9702 - val_loss: 0.3355 - val_accuracy: 0.9674\n",
      "Epoch 45/50\n",
      "391/391 - 1s - loss: 0.3248 - accuracy: 0.9711 - val_loss: 0.3305 - val_accuracy: 0.9692\n",
      "Epoch 46/50\n",
      "391/391 - 2s - loss: 0.3205 - accuracy: 0.9720 - val_loss: 0.3466 - val_accuracy: 0.9649\n",
      "Epoch 47/50\n",
      "391/391 - 2s - loss: 0.3250 - accuracy: 0.9705 - val_loss: 0.3310 - val_accuracy: 0.9712\n",
      "Epoch 48/50\n",
      "391/391 - 2s - loss: 0.3226 - accuracy: 0.9715 - val_loss: 0.3395 - val_accuracy: 0.9667\n",
      "Epoch 49/50\n",
      "391/391 - 2s - loss: 0.3205 - accuracy: 0.9721 - val_loss: 0.3303 - val_accuracy: 0.9702\n",
      "Epoch 50/50\n",
      "391/391 - 2s - loss: 0.3221 - accuracy: 0.9711 - val_loss: 0.3349 - val_accuracy: 0.9677\n"
     ]
    }
   ],
   "source": [
    "\n",
    "history = model.fit(\n",
    "    x_train, y_train,\n",
    "    epochs=50,\n",
    "    batch_size=128,\n",
    "    validation_data=(x_val, y_val),\n",
    "    verbose=2\n",
    ")\n"
   ]
  },
  {
   "cell_type": "markdown",
   "id": "3ad1a163",
   "metadata": {},
   "source": [
    "## 📊 Plot Training and Validation Curves"
   ]
  },
  {
   "cell_type": "code",
   "execution_count": 15,
   "id": "2d735751",
   "metadata": {},
   "outputs": [
    {
     "data": {
      "image/png": "[encoded data removed]",
      "text/plain": [
       "<Figure size 1008x360 with 2 Axes>"
      ]
     },
     "metadata": {
      "needs_background": "light"
     },
     "output_type": "display_data"
    }
   ],
   "source": [
    "\n",
    "def plot_history(history):\n",
    "    plt.figure(figsize=(14, 5))\n",
    "\n",
    "    # Loss plot\n",
    "    plt.subplot(1, 2, 1)\n",
    "    plt.plot(history.history['loss'], label='Train Loss')\n",
    "    plt.plot(history.history['val_loss'], label='Val Loss')\n",
    "    plt.title('Loss Curve with L1 Regularization')\n",
    "    plt.xlabel('Epochs')\n",
    "    plt.ylabel('Loss')\n",
    "    plt.legend()\n",
    "\n",
    "    # Accuracy plot\n",
    "    plt.subplot(1, 2, 2)\n",
    "    plt.plot(history.history['accuracy'], label='Train Accuracy')\n",
    "    plt.plot(history.history['val_accuracy'], label='Val Accuracy')\n",
    "    plt.title('Accuracy Curve with L1 Regularization')\n",
    "    plt.xlabel('Epochs')\n",
    "    plt.ylabel('Accuracy')\n",
    "    plt.legend()\n",
    "\n",
    "    plt.tight_layout()\n",
    "    plt.show()\n",
    "\n",
    "plot_history(history)\n"
   ]
  },
  {
   "cell_type": "code",
   "execution_count": 16,
   "id": "f5afcf0b",
   "metadata": {},
   "outputs": [
    {
     "name": "stdout",
     "output_type": "stream",
     "text": [
      "313/313 [==============================] - 1s 3ms/step - loss: 0.3268 - accuracy: 0.9685\n",
      "[7 2 1 0 4 1 4 9 5 9]\n",
      "Accuracy: 0.9685, Loss: 0.3268\n",
      "WARNING:tensorflow:AutoGraph could not transform <function Model.make_predict_function.<locals>.predict_function at 0x000001AE5D20D678> and will run it as-is.\n",
      "Please report this to the TensorFlow team. When filing the bug, set the verbosity to 10 (on Linux, `export AUTOGRAPH_VERBOSITY=10`) and attach the full output.\n",
      "Cause: 'arguments' object has no attribute 'posonlyargs'\n",
      "To silence this warning, decorate the function with @tf.autograph.experimental.do_not_convert\n",
      "WARNING: AutoGraph could not transform <function Model.make_predict_function.<locals>.predict_function at 0x000001AE5D20D678> and will run it as-is.\n",
      "Please report this to the TensorFlow team. When filing the bug, set the verbosity to 10 (on Linux, `export AUTOGRAPH_VERBOSITY=10`) and attach the full output.\n",
      "Cause: 'arguments' object has no attribute 'posonlyargs'\n",
      "To silence this warning, decorate the function with @tf.autograph.experimental.do_not_convert\n",
      "[7 2 1 0 4 1 4 9 5 9]\n",
      "Accuracy Report:\n",
      "               precision    recall  f1-score   support\n",
      "\n",
      "           0       0.98      0.98      0.98       980\n",
      "           1       0.99      0.98      0.99      1135\n",
      "           2       0.96      0.97      0.97      1032\n",
      "           3       0.98      0.95      0.96      1010\n",
      "           4       0.98      0.96      0.97       982\n",
      "           5       0.94      0.97      0.95       892\n",
      "           6       0.97      0.97      0.97       958\n",
      "           7       0.97      0.97      0.97      1028\n",
      "           8       0.96      0.96      0.96       974\n",
      "           9       0.95      0.96      0.96      1009\n",
      "\n",
      "    accuracy                           0.97     10000\n",
      "   macro avg       0.97      0.97      0.97     10000\n",
      "weighted avg       0.97      0.97      0.97     10000\n",
      "\n"
     ]
    }
   ],
   "source": [
    "# Evaluate\n",
    "loss, acc = model.evaluate(x_test, y_test, verbose=1)\n",
    "print(y_test[0:10])\n",
    "# Show results\n",
    "print(f\"Accuracy: {acc:.4f}, Loss: {loss:.4f}\")\n",
    "\n",
    "# Predict on test set\n",
    "y_pred = model.predict(x_test)\n",
    "\n",
    "# Convert predictions to class labels\n",
    "y_pred = np.argmax(y_pred, axis=1)\n",
    "print(y_pred[0:10])\n",
    "\n",
    "\n",
    "print(\"Accuracy Report:\\n\", classification_report(y_test, y_pred))"
   ]
  },
  {
   "cell_type": "markdown",
   "id": "144bef0c",
   "metadata": {},
   "source": [
    "\n",
    "## 🔍 Observation\n",
    "\n",
    "- L1 regularization introduces a penalty that prevents the weights from growing too large.\n",
    "- It encourages sparsity in the model, which helps reduce overfitting.\n",
    "- Try adjusting the value of `lambda_val` to see how the strength of regularization impacts performance.\n",
    "\n",
    "---\n"
   ]
  }
 ],
 "metadata": {
  "kernelspec": {
   "display_name": "tf_2.2",
   "language": "python",
   "name": "python3"
  },
  "language_info": {
   "codemirror_mode": {
    "name": "ipython",
    "version": 3
   },
   "file_extension": ".py",
   "mimetype": "text/x-python",
   "name": "python",
   "nbconvert_exporter": "python",
   "pygments_lexer": "ipython3",
   "version": "3.7.9"
  }
 },
 "nbformat": 4,
 "nbformat_minor": 5
}
