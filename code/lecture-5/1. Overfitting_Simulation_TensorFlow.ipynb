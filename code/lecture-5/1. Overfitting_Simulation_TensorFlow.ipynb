{
 "cells": [
  {
   "cell_type": "markdown",
   "id": "a613a286",
   "metadata": {},
   "source": [
    "\n",
    "# 🎯 Demonstrating Overfitting in Neural Networks with TensorFlow\n",
    "\n",
    "In this notebook, we intentionally create a scenario that leads to **overfitting**. Overfitting occurs when a model learns the training data too well, including noise and details that don't generalize to unseen data.\n",
    "\n",
    "---\n",
    "\n",
    "## ✅ Key Characteristics of Overfitting\n",
    "- Complex model architecture\n",
    "- Small training dataset\n",
    "- Lack of regularization\n",
    "- Training for too many epochs\n",
    "\n",
    "---\n"
   ]
  },
  {
   "cell_type": "code",
   "execution_count": 61,
   "id": "91acb5af",
   "metadata": {},
   "outputs": [],
   "source": [
    "\n",
    "import tensorflow as tf\n",
    "from tensorflow.keras import layers, models\n",
    "import matplotlib.pyplot as plt\n",
    "from sklearn.metrics import classification_report\n",
    "import numpy as np\n",
    "import random\n"
   ]
  },
  {
   "cell_type": "markdown",
   "id": "a7156bac",
   "metadata": {},
   "source": [
    "## 📥 Load and Preprocess MNIST Dataset"
   ]
  },
  {
   "cell_type": "code",
   "execution_count": 62,
   "id": "da6d0482",
   "metadata": {},
   "outputs": [],
   "source": [
    "\n",
    "# Load MNIST dataset\n",
    "(x_train, y_train), (x_test, y_test) = tf.keras.datasets.mnist.load_data()\n",
    "\n",
    "# Normalize\n",
    "x_train = x_train / 255.0\n",
    "x_test = x_test / 255.0\n",
    "\n",
    "# Split validation set\n",
    "x_val = x_train[-10000:]\n",
    "y_val = y_train[-10000:]\n",
    "x_train = x_train[:-10000]\n",
    "y_train = y_train[:-10000]\n",
    "\n",
    "# Flatten images\n",
    "x_train = x_train.reshape((-1, 28 * 28))\n",
    "x_val = x_val.reshape((-1, 28 * 28))\n",
    "x_test = x_test.reshape((-1, 28 * 28))\n"
   ]
  },
  {
   "cell_type": "markdown",
   "id": "0b9302b4",
   "metadata": {},
   "source": [
    "## 🔍 Reduce Dataset to Simulate Overfitting"
   ]
  },
  {
   "cell_type": "code",
   "execution_count": 63,
   "id": "fe3f41e8",
   "metadata": {},
   "outputs": [],
   "source": [
    "\n",
    "# Take only 1000 training samples\n",
    "x_small_train = x_train[:300]\n",
    "y_small_train = y_train[:300]\n"
   ]
  },
  {
   "cell_type": "code",
   "execution_count": null,
   "id": "89b1fa47",
   "metadata": {},
   "outputs": [
    {
     "name": "stdout",
     "output_type": "stream",
     "text": [
      "[0 1 2 3 4 5 6 7 8 9] [34 39 28 34 32 23 29 29 21 31]\n"
     ]
    },
    {
     "data": {
      "image/png": "[encoded data removed]",
      "text/plain": [
       "<Figure size 576x360 with 1 Axes>"
      ]
     },
     "metadata": {
      "needs_background": "light"
     },
     "output_type": "display_data"
    }
   ],
   "source": [
    "# Plot the bar chart\n",
    "classes, counts = np.unique(y_small_train, return_counts=True)\n",
    "print(classes, counts)\n",
    "plt.figure(figsize=(8, 5))\n",
    "plt.bar(classes, counts, tick_label=[str(c) for c in classes], color='skyblue')\n",
    "plt.title(\"Class Distribution (MNIST)\")\n",
    "plt.xlabel(\"Class Label\")\n",
    "plt.ylabel(\"Number of Samples\")\n",
    "plt.grid(axis='y')\n",
    "plt.show()"
   ]
  },
  {
   "cell_type": "markdown",
   "id": "7816ea19",
   "metadata": {},
   "source": [
    "## 🧠 Define a Complex Model Architecture"
   ]
  },
  {
   "cell_type": "code",
   "execution_count": 65,
   "id": "cc366ed7",
   "metadata": {},
   "outputs": [],
   "source": [
    "\n",
    "def overfitting_model():\n",
    "    model = models.Sequential()\n",
    "    model.add(layers.Input(shape=(784,)))\n",
    "    model.add(layers.Dense(1024, activation='relu'))\n",
    "    model.add(layers.Dense(512, activation='relu'))\n",
    "    model.add(layers.Dense(256, activation='relu'))\n",
    "    model.add(layers.Dense(128, activation='relu'))\n",
    "    model.add(layers.Dense(10, activation='softmax'))\n",
    "\n",
    "    model.compile(optimizer='adam',\n",
    "                  loss='sparse_categorical_crossentropy',\n",
    "                  metrics=['accuracy'])\n",
    "    return model\n"
   ]
  },
  {
   "cell_type": "markdown",
   "id": "c384fb12",
   "metadata": {},
   "source": [
    "## 🚂 Train the Model (Expect Overfitting)"
   ]
  },
  {
   "cell_type": "code",
   "execution_count": 66,
   "id": "9873eca2",
   "metadata": {},
   "outputs": [
    {
     "name": "stdout",
     "output_type": "stream",
     "text": [
      "Epoch 1/50\n",
      "WARNING:tensorflow:AutoGraph could not transform <function Model.make_train_function.<locals>.train_function at 0x0000029D8BA12EE8> and will run it as-is.\n",
      "Please report this to the TensorFlow team. When filing the bug, set the verbosity to 10 (on Linux, `export AUTOGRAPH_VERBOSITY=10`) and attach the full output.\n",
      "Cause: 'arguments' object has no attribute 'posonlyargs'\n",
      "To silence this warning, decorate the function with @tf.autograph.experimental.do_not_convert\n",
      "WARNING: AutoGraph could not transform <function Model.make_train_function.<locals>.train_function at 0x0000029D8BA12EE8> and will run it as-is.\n",
      "Please report this to the TensorFlow team. When filing the bug, set the verbosity to 10 (on Linux, `export AUTOGRAPH_VERBOSITY=10`) and attach the full output.\n",
      "Cause: 'arguments' object has no attribute 'posonlyargs'\n",
      "To silence this warning, decorate the function with @tf.autograph.experimental.do_not_convert\n",
      "WARNING:tensorflow:AutoGraph could not transform <function Model.make_test_function.<locals>.test_function at 0x0000029D86F6B438> and will run it as-is.\n",
      "Please report this to the TensorFlow team. When filing the bug, set the verbosity to 10 (on Linux, `export AUTOGRAPH_VERBOSITY=10`) and attach the full output.\n",
      "Cause: 'arguments' object has no attribute 'posonlyargs'\n",
      "To silence this warning, decorate the function with @tf.autograph.experimental.do_not_convert\n",
      "WARNING: AutoGraph could not transform <function Model.make_test_function.<locals>.test_function at 0x0000029D86F6B438> and will run it as-is.\n",
      "Please report this to the TensorFlow team. When filing the bug, set the verbosity to 10 (on Linux, `export AUTOGRAPH_VERBOSITY=10`) and attach the full output.\n",
      "Cause: 'arguments' object has no attribute 'posonlyargs'\n",
      "To silence this warning, decorate the function with @tf.autograph.experimental.do_not_convert\n",
      "10/10 - 1s - loss: 1.7176 - accuracy: 0.5000 - val_loss: 1.0498 - val_accuracy: 0.6690\n",
      "Epoch 2/50\n",
      "10/10 - 1s - loss: 0.5697 - accuracy: 0.8467 - val_loss: 0.8601 - val_accuracy: 0.7484\n",
      "Epoch 3/50\n",
      "10/10 - 1s - loss: 0.2623 - accuracy: 0.9233 - val_loss: 0.8812 - val_accuracy: 0.7714\n",
      "Epoch 4/50\n",
      "10/10 - 1s - loss: 0.1631 - accuracy: 0.9533 - val_loss: 0.8503 - val_accuracy: 0.7807\n",
      "Epoch 5/50\n",
      "10/10 - 1s - loss: 0.1103 - accuracy: 0.9567 - val_loss: 0.7816 - val_accuracy: 0.8063\n",
      "Epoch 6/50\n",
      "10/10 - 1s - loss: 0.0717 - accuracy: 0.9767 - val_loss: 1.0933 - val_accuracy: 0.7473\n",
      "Epoch 7/50\n",
      "10/10 - 1s - loss: 0.0631 - accuracy: 0.9900 - val_loss: 0.7466 - val_accuracy: 0.8314\n",
      "Epoch 8/50\n",
      "10/10 - 1s - loss: 0.0176 - accuracy: 0.9967 - val_loss: 0.8173 - val_accuracy: 0.8048\n",
      "Epoch 9/50\n",
      "10/10 - 1s - loss: 0.0072 - accuracy: 1.0000 - val_loss: 0.8481 - val_accuracy: 0.8073\n",
      "Epoch 10/50\n",
      "10/10 - 1s - loss: 0.0030 - accuracy: 1.0000 - val_loss: 0.8051 - val_accuracy: 0.8291\n",
      "Epoch 11/50\n",
      "10/10 - 1s - loss: 0.0013 - accuracy: 1.0000 - val_loss: 0.8152 - val_accuracy: 0.8355\n",
      "Epoch 12/50\n",
      "10/10 - 1s - loss: 8.5564e-04 - accuracy: 1.0000 - val_loss: 0.8385 - val_accuracy: 0.8331\n",
      "Epoch 13/50\n",
      "10/10 - 1s - loss: 6.5941e-04 - accuracy: 1.0000 - val_loss: 0.8522 - val_accuracy: 0.8342\n",
      "Epoch 14/50\n",
      "10/10 - 1s - loss: 5.0841e-04 - accuracy: 1.0000 - val_loss: 0.8590 - val_accuracy: 0.8345\n",
      "Epoch 15/50\n",
      "10/10 - 1s - loss: 4.3739e-04 - accuracy: 1.0000 - val_loss: 0.8637 - val_accuracy: 0.8336\n",
      "Epoch 16/50\n",
      "10/10 - 1s - loss: 3.7578e-04 - accuracy: 1.0000 - val_loss: 0.8675 - val_accuracy: 0.8347\n",
      "Epoch 17/50\n",
      "10/10 - 1s - loss: 3.2546e-04 - accuracy: 1.0000 - val_loss: 0.8735 - val_accuracy: 0.8349\n",
      "Epoch 18/50\n",
      "10/10 - 1s - loss: 2.8891e-04 - accuracy: 1.0000 - val_loss: 0.8795 - val_accuracy: 0.8355\n",
      "Epoch 19/50\n",
      "10/10 - 1s - loss: 2.5776e-04 - accuracy: 1.0000 - val_loss: 0.8871 - val_accuracy: 0.8353\n",
      "Epoch 20/50\n",
      "10/10 - 1s - loss: 2.2640e-04 - accuracy: 1.0000 - val_loss: 0.8975 - val_accuracy: 0.8335\n",
      "Epoch 21/50\n",
      "10/10 - 1s - loss: 1.9852e-04 - accuracy: 1.0000 - val_loss: 0.9049 - val_accuracy: 0.8331\n",
      "Epoch 22/50\n",
      "10/10 - 1s - loss: 1.7474e-04 - accuracy: 1.0000 - val_loss: 0.9116 - val_accuracy: 0.8334\n",
      "Epoch 23/50\n",
      "10/10 - 1s - loss: 1.5191e-04 - accuracy: 1.0000 - val_loss: 0.9243 - val_accuracy: 0.8319\n",
      "Epoch 24/50\n",
      "10/10 - 1s - loss: 1.3367e-04 - accuracy: 1.0000 - val_loss: 0.9316 - val_accuracy: 0.8325\n",
      "Epoch 25/50\n",
      "10/10 - 1s - loss: 1.1841e-04 - accuracy: 1.0000 - val_loss: 0.9360 - val_accuracy: 0.8327\n",
      "Epoch 26/50\n",
      "10/10 - 1s - loss: 1.0615e-04 - accuracy: 1.0000 - val_loss: 0.9439 - val_accuracy: 0.8330\n",
      "Epoch 27/50\n",
      "10/10 - 1s - loss: 9.6365e-05 - accuracy: 1.0000 - val_loss: 0.9525 - val_accuracy: 0.8328\n",
      "Epoch 28/50\n",
      "10/10 - 1s - loss: 8.8004e-05 - accuracy: 1.0000 - val_loss: 0.9618 - val_accuracy: 0.8333\n",
      "Epoch 29/50\n",
      "10/10 - 1s - loss: 8.0389e-05 - accuracy: 1.0000 - val_loss: 0.9679 - val_accuracy: 0.8325\n",
      "Epoch 30/50\n",
      "10/10 - 1s - loss: 7.4832e-05 - accuracy: 1.0000 - val_loss: 0.9758 - val_accuracy: 0.8317\n",
      "Epoch 31/50\n",
      "10/10 - 1s - loss: 6.8430e-05 - accuracy: 1.0000 - val_loss: 0.9777 - val_accuracy: 0.8329\n",
      "Epoch 32/50\n",
      "10/10 - 1s - loss: 6.4397e-05 - accuracy: 1.0000 - val_loss: 0.9791 - val_accuracy: 0.8332\n",
      "Epoch 33/50\n",
      "10/10 - 1s - loss: 5.9565e-05 - accuracy: 1.0000 - val_loss: 0.9837 - val_accuracy: 0.8327\n",
      "Epoch 34/50\n",
      "10/10 - 1s - loss: 5.6231e-05 - accuracy: 1.0000 - val_loss: 0.9897 - val_accuracy: 0.8324\n",
      "Epoch 35/50\n",
      "10/10 - 1s - loss: 5.1093e-05 - accuracy: 1.0000 - val_loss: 1.0011 - val_accuracy: 0.8335\n",
      "Epoch 36/50\n",
      "10/10 - 1s - loss: 4.8045e-05 - accuracy: 1.0000 - val_loss: 1.0024 - val_accuracy: 0.8332\n",
      "Epoch 37/50\n",
      "10/10 - 1s - loss: 4.5647e-05 - accuracy: 1.0000 - val_loss: 1.0050 - val_accuracy: 0.8326\n",
      "Epoch 38/50\n",
      "10/10 - 1s - loss: 4.1775e-05 - accuracy: 1.0000 - val_loss: 1.0110 - val_accuracy: 0.8326\n",
      "Epoch 39/50\n",
      "10/10 - 1s - loss: 3.8768e-05 - accuracy: 1.0000 - val_loss: 1.0130 - val_accuracy: 0.8331\n",
      "Epoch 40/50\n",
      "10/10 - 1s - loss: 3.6084e-05 - accuracy: 1.0000 - val_loss: 1.0181 - val_accuracy: 0.8329\n",
      "Epoch 41/50\n",
      "10/10 - 1s - loss: 3.3793e-05 - accuracy: 1.0000 - val_loss: 1.0254 - val_accuracy: 0.8326\n",
      "Epoch 42/50\n",
      "10/10 - 1s - loss: 3.2047e-05 - accuracy: 1.0000 - val_loss: 1.0315 - val_accuracy: 0.8325\n",
      "Epoch 43/50\n",
      "10/10 - 1s - loss: 2.9545e-05 - accuracy: 1.0000 - val_loss: 1.0350 - val_accuracy: 0.8317\n",
      "Epoch 44/50\n",
      "10/10 - 1s - loss: 2.7834e-05 - accuracy: 1.0000 - val_loss: 1.0387 - val_accuracy: 0.8325\n",
      "Epoch 45/50\n",
      "10/10 - 1s - loss: 2.5996e-05 - accuracy: 1.0000 - val_loss: 1.0411 - val_accuracy: 0.8327\n",
      "Epoch 46/50\n",
      "10/10 - 1s - loss: 2.4522e-05 - accuracy: 1.0000 - val_loss: 1.0467 - val_accuracy: 0.8337\n",
      "Epoch 47/50\n",
      "10/10 - 1s - loss: 2.3066e-05 - accuracy: 1.0000 - val_loss: 1.0532 - val_accuracy: 0.8325\n",
      "Epoch 48/50\n",
      "10/10 - 1s - loss: 2.1184e-05 - accuracy: 1.0000 - val_loss: 1.0552 - val_accuracy: 0.8324\n",
      "Epoch 49/50\n",
      "10/10 - 1s - loss: 1.9515e-05 - accuracy: 1.0000 - val_loss: 1.0586 - val_accuracy: 0.8327\n",
      "Epoch 50/50\n",
      "10/10 - 1s - loss: 1.8104e-05 - accuracy: 1.0000 - val_loss: 1.0654 - val_accuracy: 0.8320\n"
     ]
    }
   ],
   "source": [
    "\n",
    "model = overfitting_model()\n",
    "history = model.fit(\n",
    "    x_small_train, y_small_train,\n",
    "    epochs=50,\n",
    "    batch_size=32,\n",
    "    validation_data=(x_val, y_val),\n",
    "    verbose=2\n",
    ")\n"
   ]
  },
  {
   "cell_type": "markdown",
   "id": "1cdc5ef5",
   "metadata": {},
   "source": [
    "## 📊 Plot Training vs Validation Performance"
   ]
  },
  {
   "cell_type": "code",
   "execution_count": 67,
   "id": "4cdee3a0",
   "metadata": {},
   "outputs": [
    {
     "data": {
      "image/png": "[encoded data removed]",
      "text/plain": [
       "<Figure size 1008x360 with 2 Axes>"
      ]
     },
     "metadata": {
      "needs_background": "light"
     },
     "output_type": "display_data"
    }
   ],
   "source": [
    "\n",
    "def plot_history(history):\n",
    "    plt.figure(figsize=(14, 5))\n",
    "    \n",
    "    # Loss Plot\n",
    "    plt.subplot(1, 2, 1)\n",
    "    plt.plot(history.history['loss'], label='Train Loss')\n",
    "    plt.plot(history.history['val_loss'], label='Val Loss')\n",
    "    plt.title('Loss Curve')\n",
    "    plt.xlabel('Epochs')\n",
    "    plt.ylabel('Loss')\n",
    "    plt.legend()\n",
    "\n",
    "    # Accuracy Plot\n",
    "    plt.subplot(1, 2, 2)\n",
    "    plt.plot(history.history['accuracy'], label='Train Accuracy')\n",
    "    plt.plot(history.history['val_accuracy'], label='Val Accuracy')\n",
    "    plt.title('Accuracy Curve')\n",
    "    plt.xlabel('Epochs')\n",
    "    plt.ylabel('Accuracy')\n",
    "    plt.legend()\n",
    "\n",
    "    plt.tight_layout()\n",
    "    plt.show()\n",
    "\n",
    "plot_history(history)\n"
   ]
  },
  {
   "cell_type": "markdown",
   "id": "5ca4163e",
   "metadata": {},
   "source": [
    "\n",
    "---\n",
    "## 🧠 Observations\n",
    "\n",
    "- **Training Accuracy**: Near perfect (close to 100%)\n",
    "- **Validation Accuracy**: Peaks and then drops or stagnates\n",
    "- **Validation Loss**: Increases after initial epochs\n",
    "\n",
    "This is a classic sign of **overfitting** — the model memorizes the small training data but performs poorly on unseen validation data.\n",
    "\n",
    "---\n"
   ]
  },
  {
   "cell_type": "code",
   "execution_count": 68,
   "id": "69e04f1d",
   "metadata": {},
   "outputs": [
    {
     "name": "stdout",
     "output_type": "stream",
     "text": [
      "313/313 [==============================] - 1s 3ms/step - loss: 1.0978 - accuracy: 0.8267\n",
      "[7 2 1 0 4 1 4 9 5 9]\n",
      "Accuracy: 0.8267, Loss: 1.0978\n",
      "WARNING:tensorflow:AutoGraph could not transform <function Model.make_predict_function.<locals>.predict_function at 0x0000029EAB497558> and will run it as-is.\n",
      "Please report this to the TensorFlow team. When filing the bug, set the verbosity to 10 (on Linux, `export AUTOGRAPH_VERBOSITY=10`) and attach the full output.\n",
      "Cause: 'arguments' object has no attribute 'posonlyargs'\n",
      "To silence this warning, decorate the function with @tf.autograph.experimental.do_not_convert\n",
      "WARNING: AutoGraph could not transform <function Model.make_predict_function.<locals>.predict_function at 0x0000029EAB497558> and will run it as-is.\n",
      "Please report this to the TensorFlow team. When filing the bug, set the verbosity to 10 (on Linux, `export AUTOGRAPH_VERBOSITY=10`) and attach the full output.\n",
      "Cause: 'arguments' object has no attribute 'posonlyargs'\n",
      "To silence this warning, decorate the function with @tf.autograph.experimental.do_not_convert\n",
      "[7 2 1 0 4 1 4 9 6 9]\n",
      "Accuracy Report:\n",
      "               precision    recall  f1-score   support\n",
      "\n",
      "           0       0.86      0.95      0.90       980\n",
      "           1       0.92      0.95      0.93      1135\n",
      "           2       0.80      0.83      0.82      1032\n",
      "           3       0.81      0.79      0.80      1010\n",
      "           4       0.79      0.89      0.83       982\n",
      "           5       0.78      0.63      0.70       892\n",
      "           6       0.92      0.86      0.89       958\n",
      "           7       0.87      0.85      0.86      1028\n",
      "           8       0.75      0.72      0.73       974\n",
      "           9       0.76      0.75      0.75      1009\n",
      "\n",
      "    accuracy                           0.83     10000\n",
      "   macro avg       0.82      0.82      0.82     10000\n",
      "weighted avg       0.83      0.83      0.83     10000\n",
      "\n"
     ]
    }
   ],
   "source": [
    "# Evaluate\n",
    "loss, acc = model.evaluate(x_test, y_test, verbose=1)\n",
    "print(y_test[0:10])\n",
    "# Show results\n",
    "print(f\"Accuracy: {acc:.4f}, Loss: {loss:.4f}\")\n",
    "\n",
    "# Predict on test set\n",
    "y_pred = model.predict(x_test)\n",
    "\n",
    "# Convert predictions to class labels\n",
    "y_pred = np.argmax(y_pred, axis=1)\n",
    "print(y_pred[0:10])\n",
    "\n",
    "\n",
    "print(\"Accuracy Report:\\n\", classification_report(y_test, y_pred))"
   ]
  },
  {
   "cell_type": "code",
   "execution_count": 85,
   "id": "7f2ca317",
   "metadata": {},
   "outputs": [
    {
     "name": "stdout",
     "output_type": "stream",
     "text": [
      "Predicted label: 0.2\n"
     ]
    },
    {
     "data": {
      "image/png": "[encoded data removed]",
      "text/plain": [
       "<Figure size 432x288 with 1 Axes>"
      ]
     },
     "metadata": {
      "needs_background": "light"
     },
     "output_type": "display_data"
    }
   ],
   "source": [
    "\n",
    "# Pick a random test sample\n",
    "index = random.randint(0, x_test.shape[0] - 1)\n",
    "sample_image = x_test[index].reshape(1, 784)  # Flatten for model input\n",
    "ground_truth = y_test[index]\n",
    "\n",
    "# Predict the label\n",
    "logits = model.predict(sample_image)\n",
    "# print(logits)\n",
    "predicted_label = np.argmax(logits)\n",
    "\n",
    "probabilities = str(tf.nn.softmax(logits).numpy()[0][predicted_label])[0:3]\n",
    "# Print the probabilities\n",
    "print(f\"Predicted label: {probabilities}\")\n",
    "# Reshape back to 28x28 for visualization\n",
    "plt.imshow(sample_image.reshape(28, 28), cmap='gray')\n",
    "plt.title(f\"Ground Truth: {ground_truth} | Predicted: {predicted_label} | Prob: {probabilities}\")\n",
    "plt.axis('off')\n",
    "plt.show()"
   ]
  }
 ],
 "metadata": {
  "kernelspec": {
   "display_name": "tf_2.2",
   "language": "python",
   "name": "python3"
  },
  "language_info": {
   "codemirror_mode": {
    "name": "ipython",
    "version": 3
   },
   "file_extension": ".py",
   "mimetype": "text/x-python",
   "name": "python",
   "nbconvert_exporter": "python",
   "pygments_lexer": "ipython3",
   "version": "3.7.9"
  }
 },
 "nbformat": 4,
 "nbformat_minor": 5
}
