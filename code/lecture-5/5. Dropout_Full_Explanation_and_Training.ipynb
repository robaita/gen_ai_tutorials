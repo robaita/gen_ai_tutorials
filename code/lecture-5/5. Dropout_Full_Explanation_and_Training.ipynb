{
 "cells": [
  {
   "cell_type": "markdown",
   "id": "4e8d8451",
   "metadata": {},
   "source": [
    "\n",
    "# 🧠 Understanding Dropout in Neural Networks\n",
    "\n",
    "This notebook explores **Dropout** as a regularization technique for deep learning, particularly when training on the MNIST dataset.\n",
    "\n",
    "---\n"
   ]
  },
  {
   "cell_type": "markdown",
   "id": "c48cc86d",
   "metadata": {},
   "source": [
    "\n",
    "## 💡 What is Dropout?\n",
    "\n",
    "**Dropout** is a regularization technique that randomly deactivates (or \"drops out\") a fraction of the neurons during training. The idea is simple: during each forward pass in training, some neurons are randomly set to zero.\n",
    "\n",
    "This technique prevents the model from becoming too dependent on particular neurons and encourages it to learn more robust and generalized features.\n",
    "\n",
    "---\n"
   ]
  },
  {
   "cell_type": "markdown",
   "id": "ac6fcdce",
   "metadata": {},
   "source": [
    "\n",
    "## ❓ Why Do We Need Dropout If We Already Have Regularization (L1/L2)?\n",
    "\n",
    "Traditional regularization techniques like **L1** and **L2** modify the loss function by penalizing the size or magnitude of the weights.\n",
    "\n",
    "### Dropout vs L1/L2\n",
    "\n",
    "| Technique         | Acts On         | Mechanism                                | Result                          |\n",
    "|------------------|------------------|-------------------------------------------|----------------------------------|\n",
    "| L1 Regularization | Weights          | Adds penalty $ \\sum_{absolute}(w) $             | Sparse weights                   |\n",
    "| L2 Regularization | Weights          | Adds penalty $ \\sum w^2 $             | Shrinks weights                  |\n",
    "| Dropout           | Activations      | Randomly disables neurons during training | Prevents co-adaptation; promotes robustness |\n",
    "\n",
    "### 🔍 Key Difference:\n",
    "\n",
    "Dropout introduces **stochasticity** during training. Each mini-batch sees a slightly different network architecture, forcing the model to **not rely on any one path** through the network.\n",
    "\n",
    "---\n"
   ]
  },
  {
   "cell_type": "markdown",
   "id": "991f4364",
   "metadata": {},
   "source": [
    "\n",
    "## 🌟 Why is Dropout Important?\n",
    "\n",
    "- Prevents overfitting by making the model less sensitive to noise in the training data.\n",
    "- Forces the model to distribute its learning across many neurons.\n",
    "- Improves **robustness** and generalization.\n",
    "\n",
    "Dropout is especially useful in deep neural networks with many parameters where overfitting is a common issue.\n",
    "\n",
    "---\n"
   ]
  },
  {
   "cell_type": "markdown",
   "id": "b4e78d8b",
   "metadata": {},
   "source": [
    "\n",
    "## 🧪 Demonstration: Dropout in Practice on MNIST Dataset\n"
   ]
  },
  {
   "cell_type": "code",
   "execution_count": 1,
   "id": "998a37b6",
   "metadata": {},
   "outputs": [],
   "source": [
    "\n",
    "import tensorflow as tf\n",
    "from tensorflow.keras import layers, models\n",
    "import matplotlib.pyplot as plt\n",
    "from sklearn.metrics import classification_report\n",
    "import numpy as np\n",
    "import random\n",
    "\n",
    "\n"
   ]
  },
  {
   "cell_type": "code",
   "execution_count": 2,
   "id": "379d7c31",
   "metadata": {},
   "outputs": [],
   "source": [
    "# Load and preprocess data\n",
    "(x_train, y_train), (x_test, y_test) = tf.keras.datasets.mnist.load_data()\n",
    "x_train, x_test = x_train / 255.0, x_test / 255.0\n",
    "x_train = x_train.reshape(-1, 784)\n",
    "x_test = x_test.reshape(-1, 784)\n",
    "\n",
    "x_val = x_train[-10000:]\n",
    "y_val = y_train[-10000:]\n",
    "x_train = x_train[:-10000]\n",
    "y_train = y_train[:-10000]"
   ]
  },
  {
   "cell_type": "code",
   "execution_count": 3,
   "id": "9d475897",
   "metadata": {},
   "outputs": [],
   "source": [
    "\n",
    "# Take only 1000 training samples\n",
    "x_small_train = x_train[:300]\n",
    "y_small_train = y_train[:300]\n"
   ]
  },
  {
   "cell_type": "code",
   "execution_count": 4,
   "id": "b1358a6b",
   "metadata": {},
   "outputs": [
    {
     "name": "stdout",
     "output_type": "stream",
     "text": [
      "[0 1 2 3 4 5 6 7 8 9] [34 39 28 34 32 23 29 29 21 31]\n"
     ]
    },
    {
     "data": {
      "image/png": "[encoded data removed]",
      "text/plain": [
       "<Figure size 576x360 with 1 Axes>"
      ]
     },
     "metadata": {
      "needs_background": "light"
     },
     "output_type": "display_data"
    }
   ],
   "source": [
    "# Plot the bar chart\n",
    "classes, counts = np.unique(y_small_train, return_counts=True)\n",
    "print(classes, counts)\n",
    "plt.figure(figsize=(8, 5))\n",
    "plt.bar(classes, counts, tick_label=[str(c) for c in classes], color='skyblue')\n",
    "plt.title(\"Class Distribution (MNIST)\")\n",
    "plt.xlabel(\"Class Label\")\n",
    "plt.ylabel(\"Number of Samples\")\n",
    "plt.grid(axis='y')\n",
    "plt.show()"
   ]
  },
  {
   "cell_type": "markdown",
   "id": "0015aa27",
   "metadata": {},
   "source": [
    "\n",
    "## 🏗️ Model with Dropout Layers\n"
   ]
  },
  {
   "cell_type": "code",
   "execution_count": 5,
   "id": "112104a1",
   "metadata": {},
   "outputs": [],
   "source": [
    "\n",
    "def create_dropout_model(dropout_rate=0.3):\n",
    "    model = models.Sequential([\n",
    "        layers.Input(shape=(784,)),\n",
    "        layers.Dense(1024, activation='relu'),\n",
    "        layers.Dropout(dropout_rate),\n",
    "        layers.Dense(512, activation='relu'),\n",
    "        layers.Dropout(dropout_rate),\n",
    "        layers.Dense(256, activation='relu'),\n",
    "        layers.Dropout(dropout_rate),\n",
    "        layers.Dense(128, activation='relu'),\n",
    "        layers.Dropout(dropout_rate),\n",
    "        layers.Dense(10, activation='softmax')\n",
    "    ])\n",
    "    model.compile(optimizer='adam',\n",
    "                  loss='sparse_categorical_crossentropy',\n",
    "                  metrics=['accuracy'])\n",
    "    return model\n",
    "\n",
    "model = create_dropout_model()\n"
   ]
  },
  {
   "cell_type": "markdown",
   "id": "0da4302b",
   "metadata": {},
   "source": [
    "\n",
    "## 🚂 Train the Model with Dropout\n"
   ]
  },
  {
   "cell_type": "code",
   "execution_count": 6,
   "id": "4e7bc8de",
   "metadata": {},
   "outputs": [
    {
     "name": "stdout",
     "output_type": "stream",
     "text": [
      "Epoch 1/50\n",
      "WARNING:tensorflow:AutoGraph could not transform <function Model.make_train_function.<locals>.train_function at 0x000001DC4095BD38> and will run it as-is.\n",
      "Please report this to the TensorFlow team. When filing the bug, set the verbosity to 10 (on Linux, `export AUTOGRAPH_VERBOSITY=10`) and attach the full output.\n",
      "Cause: 'arguments' object has no attribute 'posonlyargs'\n",
      "To silence this warning, decorate the function with @tf.autograph.experimental.do_not_convert\n",
      "WARNING: AutoGraph could not transform <function Model.make_train_function.<locals>.train_function at 0x000001DC4095BD38> and will run it as-is.\n",
      "Please report this to the TensorFlow team. When filing the bug, set the verbosity to 10 (on Linux, `export AUTOGRAPH_VERBOSITY=10`) and attach the full output.\n",
      "Cause: 'arguments' object has no attribute 'posonlyargs'\n",
      "To silence this warning, decorate the function with @tf.autograph.experimental.do_not_convert\n",
      "WARNING:tensorflow:AutoGraph could not transform <function Model.make_test_function.<locals>.test_function at 0x000001DC1EF96828> and will run it as-is.\n",
      "Please report this to the TensorFlow team. When filing the bug, set the verbosity to 10 (on Linux, `export AUTOGRAPH_VERBOSITY=10`) and attach the full output.\n",
      "Cause: 'arguments' object has no attribute 'posonlyargs'\n",
      "To silence this warning, decorate the function with @tf.autograph.experimental.do_not_convert\n",
      "WARNING: AutoGraph could not transform <function Model.make_test_function.<locals>.test_function at 0x000001DC1EF96828> and will run it as-is.\n",
      "Please report this to the TensorFlow team. When filing the bug, set the verbosity to 10 (on Linux, `export AUTOGRAPH_VERBOSITY=10`) and attach the full output.\n",
      "Cause: 'arguments' object has no attribute 'posonlyargs'\n",
      "To silence this warning, decorate the function with @tf.autograph.experimental.do_not_convert\n",
      "391/391 - 2s - loss: 0.3700 - accuracy: 0.8877 - val_loss: 0.1271 - val_accuracy: 0.9635\n",
      "Epoch 2/50\n",
      "391/391 - 2s - loss: 0.1519 - accuracy: 0.9562 - val_loss: 0.0986 - val_accuracy: 0.9698\n",
      "Epoch 3/50\n",
      "391/391 - 2s - loss: 0.1160 - accuracy: 0.9673 - val_loss: 0.0843 - val_accuracy: 0.9754\n",
      "Epoch 4/50\n",
      "391/391 - 2s - loss: 0.0940 - accuracy: 0.9732 - val_loss: 0.0814 - val_accuracy: 0.9770\n",
      "Epoch 5/50\n",
      "391/391 - 1s - loss: 0.0781 - accuracy: 0.9774 - val_loss: 0.0843 - val_accuracy: 0.9761\n",
      "Epoch 6/50\n",
      "391/391 - 1s - loss: 0.0682 - accuracy: 0.9797 - val_loss: 0.0751 - val_accuracy: 0.9795\n",
      "Epoch 7/50\n",
      "391/391 - 1s - loss: 0.0631 - accuracy: 0.9824 - val_loss: 0.0801 - val_accuracy: 0.9785\n",
      "Epoch 8/50\n",
      "391/391 - 1s - loss: 0.0548 - accuracy: 0.9842 - val_loss: 0.0797 - val_accuracy: 0.9795\n",
      "Epoch 9/50\n",
      "391/391 - 2s - loss: 0.0517 - accuracy: 0.9849 - val_loss: 0.0856 - val_accuracy: 0.9790\n",
      "Epoch 10/50\n",
      "391/391 - 2s - loss: 0.0478 - accuracy: 0.9867 - val_loss: 0.0895 - val_accuracy: 0.9774\n",
      "Epoch 11/50\n",
      "391/391 - 1s - loss: 0.0455 - accuracy: 0.9864 - val_loss: 0.0937 - val_accuracy: 0.9788\n",
      "Epoch 12/50\n",
      "391/391 - 1s - loss: 0.0400 - accuracy: 0.9887 - val_loss: 0.0771 - val_accuracy: 0.9825\n",
      "Epoch 13/50\n",
      "391/391 - 1s - loss: 0.0379 - accuracy: 0.9886 - val_loss: 0.0856 - val_accuracy: 0.9811\n",
      "Epoch 14/50\n",
      "391/391 - 1s - loss: 0.0367 - accuracy: 0.9893 - val_loss: 0.0808 - val_accuracy: 0.9822\n",
      "Epoch 15/50\n",
      "391/391 - 1s - loss: 0.0324 - accuracy: 0.9900 - val_loss: 0.0935 - val_accuracy: 0.9806\n",
      "Epoch 16/50\n",
      "391/391 - 1s - loss: 0.0338 - accuracy: 0.9897 - val_loss: 0.0797 - val_accuracy: 0.9828\n",
      "Epoch 17/50\n",
      "391/391 - 2s - loss: 0.0335 - accuracy: 0.9903 - val_loss: 0.0803 - val_accuracy: 0.9812\n",
      "Epoch 18/50\n",
      "391/391 - 1s - loss: 0.0302 - accuracy: 0.9913 - val_loss: 0.0975 - val_accuracy: 0.9804\n",
      "Epoch 19/50\n",
      "391/391 - 1s - loss: 0.0281 - accuracy: 0.9919 - val_loss: 0.0865 - val_accuracy: 0.9822\n",
      "Epoch 20/50\n",
      "391/391 - 1s - loss: 0.0263 - accuracy: 0.9919 - val_loss: 0.0836 - val_accuracy: 0.9832\n",
      "Epoch 21/50\n",
      "391/391 - 2s - loss: 0.0288 - accuracy: 0.9917 - val_loss: 0.0865 - val_accuracy: 0.9814\n",
      "Epoch 22/50\n",
      "391/391 - 2s - loss: 0.0284 - accuracy: 0.9920 - val_loss: 0.0847 - val_accuracy: 0.9835\n",
      "Epoch 23/50\n",
      "391/391 - 2s - loss: 0.0209 - accuracy: 0.9939 - val_loss: 0.1074 - val_accuracy: 0.9821\n",
      "Epoch 24/50\n",
      "391/391 - 2s - loss: 0.0251 - accuracy: 0.9929 - val_loss: 0.0898 - val_accuracy: 0.9809\n",
      "Epoch 25/50\n",
      "391/391 - 2s - loss: 0.0257 - accuracy: 0.9924 - val_loss: 0.0808 - val_accuracy: 0.9827\n",
      "Epoch 26/50\n",
      "391/391 - 2s - loss: 0.0211 - accuracy: 0.9940 - val_loss: 0.0907 - val_accuracy: 0.9822\n",
      "Epoch 27/50\n",
      "391/391 - 2s - loss: 0.0242 - accuracy: 0.9933 - val_loss: 0.1128 - val_accuracy: 0.9774\n",
      "Epoch 28/50\n",
      "391/391 - 2s - loss: 0.0244 - accuracy: 0.9929 - val_loss: 0.0964 - val_accuracy: 0.9814\n",
      "Epoch 29/50\n",
      "391/391 - 2s - loss: 0.0252 - accuracy: 0.9931 - val_loss: 0.1019 - val_accuracy: 0.9828\n",
      "Epoch 30/50\n",
      "391/391 - 2s - loss: 0.0224 - accuracy: 0.9938 - val_loss: 0.0940 - val_accuracy: 0.9815\n",
      "Epoch 31/50\n",
      "391/391 - 2s - loss: 0.0201 - accuracy: 0.9945 - val_loss: 0.1133 - val_accuracy: 0.9814\n",
      "Epoch 32/50\n",
      "391/391 - 2s - loss: 0.0216 - accuracy: 0.9941 - val_loss: 0.0928 - val_accuracy: 0.9835\n",
      "Epoch 33/50\n",
      "391/391 - 2s - loss: 0.0207 - accuracy: 0.9940 - val_loss: 0.0957 - val_accuracy: 0.9831\n",
      "Epoch 34/50\n",
      "391/391 - 2s - loss: 0.0164 - accuracy: 0.9952 - val_loss: 0.1086 - val_accuracy: 0.9827\n",
      "Epoch 35/50\n",
      "391/391 - 2s - loss: 0.0188 - accuracy: 0.9946 - val_loss: 0.1031 - val_accuracy: 0.9852\n",
      "Epoch 36/50\n",
      "391/391 - 2s - loss: 0.0200 - accuracy: 0.9945 - val_loss: 0.1088 - val_accuracy: 0.9826\n",
      "Epoch 37/50\n",
      "391/391 - 2s - loss: 0.0203 - accuracy: 0.9939 - val_loss: 0.1060 - val_accuracy: 0.9813\n",
      "Epoch 38/50\n",
      "391/391 - 2s - loss: 0.0174 - accuracy: 0.9952 - val_loss: 0.1118 - val_accuracy: 0.9827\n",
      "Epoch 39/50\n",
      "391/391 - 2s - loss: 0.0162 - accuracy: 0.9957 - val_loss: 0.1144 - val_accuracy: 0.9844\n",
      "Epoch 40/50\n",
      "391/391 - 2s - loss: 0.0183 - accuracy: 0.9953 - val_loss: 0.1134 - val_accuracy: 0.9834\n",
      "Epoch 41/50\n",
      "391/391 - 2s - loss: 0.0178 - accuracy: 0.9950 - val_loss: 0.1143 - val_accuracy: 0.9820\n",
      "Epoch 42/50\n",
      "391/391 - 2s - loss: 0.0186 - accuracy: 0.9947 - val_loss: 0.1183 - val_accuracy: 0.9825\n",
      "Epoch 43/50\n",
      "391/391 - 2s - loss: 0.0160 - accuracy: 0.9951 - val_loss: 0.1127 - val_accuracy: 0.9830\n",
      "Epoch 44/50\n",
      "391/391 - 2s - loss: 0.0196 - accuracy: 0.9949 - val_loss: 0.1144 - val_accuracy: 0.9818\n",
      "Epoch 45/50\n",
      "391/391 - 2s - loss: 0.0142 - accuracy: 0.9963 - val_loss: 0.1322 - val_accuracy: 0.9805\n",
      "Epoch 46/50\n",
      "391/391 - 2s - loss: 0.0199 - accuracy: 0.9952 - val_loss: 0.1083 - val_accuracy: 0.9837\n",
      "Epoch 47/50\n",
      "391/391 - 2s - loss: 0.0141 - accuracy: 0.9964 - val_loss: 0.1361 - val_accuracy: 0.9808\n",
      "Epoch 48/50\n",
      "391/391 - 2s - loss: 0.0178 - accuracy: 0.9955 - val_loss: 0.1105 - val_accuracy: 0.9824\n",
      "Epoch 49/50\n",
      "391/391 - 2s - loss: 0.0138 - accuracy: 0.9962 - val_loss: 0.1240 - val_accuracy: 0.9816\n",
      "Epoch 50/50\n",
      "391/391 - 2s - loss: 0.0143 - accuracy: 0.9962 - val_loss: 0.1161 - val_accuracy: 0.9846\n"
     ]
    }
   ],
   "source": [
    "\n",
    "history = model.fit(\n",
    "    x_train, y_train,\n",
    "    epochs=50,\n",
    "    batch_size=128,\n",
    "    validation_data=(x_val, y_val),\n",
    "    verbose=2\n",
    ")\n"
   ]
  },
  {
   "cell_type": "markdown",
   "id": "1ce56919",
   "metadata": {},
   "source": [
    "\n",
    "## 📊 Visualizing the Effect of Dropout\n"
   ]
  },
  {
   "cell_type": "code",
   "execution_count": 7,
   "id": "e13590e3",
   "metadata": {},
   "outputs": [
    {
     "data": {
      "image/png": "[encoded data removed]",
      "text/plain": [
       "<Figure size 1008x360 with 2 Axes>"
      ]
     },
     "metadata": {
      "needs_background": "light"
     },
     "output_type": "display_data"
    }
   ],
   "source": [
    "\n",
    "def plot_history(history):\n",
    "    plt.figure(figsize=(14, 5))\n",
    "    plt.subplot(1, 2, 1)\n",
    "    plt.plot(history.history['loss'], label='Train Loss')\n",
    "    plt.plot(history.history['val_loss'], label='Val Loss')\n",
    "    plt.title('Loss Curve with Dropout')\n",
    "    plt.xlabel('Epochs')\n",
    "    plt.ylabel('Loss')\n",
    "    plt.legend()\n",
    "\n",
    "    plt.subplot(1, 2, 2)\n",
    "    plt.plot(history.history['accuracy'], label='Train Accuracy')\n",
    "    plt.plot(history.history['val_accuracy'], label='Val Accuracy')\n",
    "    plt.title('Accuracy Curve with Dropout')\n",
    "    plt.xlabel('Epochs')\n",
    "    plt.ylabel('Accuracy')\n",
    "    plt.legend()\n",
    "\n",
    "    plt.tight_layout()\n",
    "    plt.show()\n",
    "\n",
    "plot_history(history)\n"
   ]
  },
  {
   "cell_type": "code",
   "execution_count": 8,
   "id": "e516cd0e",
   "metadata": {},
   "outputs": [
    {
     "name": "stdout",
     "output_type": "stream",
     "text": [
      "313/313 [==============================] - 1s 3ms/step - loss: 0.0989 - accuracy: 0.9852\n",
      "Accuracy: 0.9852, Loss: 0.0989\n",
      "WARNING:tensorflow:AutoGraph could not transform <function Model.make_predict_function.<locals>.predict_function at 0x000001DC4DBAACA8> and will run it as-is.\n",
      "Please report this to the TensorFlow team. When filing the bug, set the verbosity to 10 (on Linux, `export AUTOGRAPH_VERBOSITY=10`) and attach the full output.\n",
      "Cause: 'arguments' object has no attribute 'posonlyargs'\n",
      "To silence this warning, decorate the function with @tf.autograph.experimental.do_not_convert\n",
      "WARNING: AutoGraph could not transform <function Model.make_predict_function.<locals>.predict_function at 0x000001DC4DBAACA8> and will run it as-is.\n",
      "Please report this to the TensorFlow team. When filing the bug, set the verbosity to 10 (on Linux, `export AUTOGRAPH_VERBOSITY=10`) and attach the full output.\n",
      "Cause: 'arguments' object has no attribute 'posonlyargs'\n",
      "To silence this warning, decorate the function with @tf.autograph.experimental.do_not_convert\n",
      "[7 2 1 0 4 1 4 9 6 9]\n",
      "Accuracy Report:\n",
      "               precision    recall  f1-score   support\n",
      "\n",
      "           0       0.99      0.99      0.99       980\n",
      "           1       0.99      0.99      0.99      1135\n",
      "           2       0.98      0.99      0.99      1032\n",
      "           3       0.98      0.99      0.98      1010\n",
      "           4       0.99      0.98      0.99       982\n",
      "           5       0.99      0.97      0.98       892\n",
      "           6       0.99      0.99      0.99       958\n",
      "           7       0.98      0.98      0.98      1028\n",
      "           8       0.98      0.98      0.98       974\n",
      "           9       0.97      0.99      0.98      1009\n",
      "\n",
      "    accuracy                           0.99     10000\n",
      "   macro avg       0.99      0.98      0.99     10000\n",
      "weighted avg       0.99      0.99      0.99     10000\n",
      "\n"
     ]
    }
   ],
   "source": [
    "# Evaluate\n",
    "loss, acc = model.evaluate(x_test, y_test, verbose=1)\n",
    "# print(y_test[0:10])\n",
    "# Show results\n",
    "print(f\"Accuracy: {acc:.4f}, Loss: {loss:.4f}\")\n",
    "\n",
    "# Predict on test set\n",
    "y_pred = model.predict(x_test)\n",
    "\n",
    "# Convert predictions to class labels\n",
    "y_pred = np.argmax(y_pred, axis=1)\n",
    "print(y_pred[0:10])\n",
    "\n",
    "\n",
    "print(\"Accuracy Report:\\n\", classification_report(y_test, y_pred))"
   ]
  },
  {
   "cell_type": "markdown",
   "id": "b0e43249",
   "metadata": {},
   "source": [
    "\n",
    "## ✅ Conclusion\n",
    "\n",
    "- Dropout adds noise to the training process, making the model less likely to memorize training data.\n",
    "- It complements traditional regularization by acting directly on **neuronal activations**.\n",
    "- Dropout helps achieve better **test accuracy and generalization**.\n",
    "\n",
    "Try varying the `dropout_rate` (e.g., 0.2, 0.5) to see its impact.\n",
    "\n",
    "---\n"
   ]
  }
 ],
 "metadata": {
  "kernelspec": {
   "display_name": "tf_2.2",
   "language": "python",
   "name": "python3"
  },
  "language_info": {
   "codemirror_mode": {
    "name": "ipython",
    "version": 3
   },
   "file_extension": ".py",
   "mimetype": "text/x-python",
   "name": "python",
   "nbconvert_exporter": "python",
   "pygments_lexer": "ipython3",
   "version": "3.7.9"
  }
 },
 "nbformat": 4,
 "nbformat_minor": 5
}
