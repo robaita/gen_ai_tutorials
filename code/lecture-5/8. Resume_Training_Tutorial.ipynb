{
 "cells": [
  {
   "cell_type": "markdown",
   "id": "51c4c2c1",
   "metadata": {},
   "source": [
    "# Resume Training: Saving and Loading Models"
   ]
  },
  {
   "cell_type": "markdown",
   "id": "a908cc90",
   "metadata": {},
   "source": [
    "\n",
    "## What is Resume Training?\n",
    "\n",
    "Resume training refers to the process of continuing the training of a machine learning model from a previously saved state. This includes restoring model weights, optimizer state, and sometimes epoch counters or learning rate schedules.\n",
    "\n",
    "## Why is Resume Training Important?\n",
    "\n",
    "- **Time Efficiency**: You don't have to start training from scratch if it's interrupted.\n",
    "- **Fault Tolerance**: Saves work in progress in case of system crashes or restarts.\n",
    "- **Experimentation**: Allows tuning or debugging from a specific training point.\n",
    "- **Resource Optimization**: Ideal for cloud or shared resource environments with limited usage time.\n",
    "\n",
    "## How Does it Work?\n",
    "\n",
    "1. **Saving**: Periodically save the model weights and optimizer state during training.\n",
    "2. **Loading**: Restore the saved weights and optimizer to continue training from the last checkpoint.\n"
   ]
  },
  {
   "cell_type": "markdown",
   "id": "665bb959",
   "metadata": {},
   "source": [
    "## Example: Save and Resume Training in TensorFlow"
   ]
  },
  {
   "cell_type": "code",
   "execution_count": 3,
   "id": "c6e9be14",
   "metadata": {},
   "outputs": [
    {
     "name": "stdout",
     "output_type": "stream",
     "text": [
      "Epoch 1/5\n",
      "WARNING:tensorflow:AutoGraph could not transform <function Model.make_train_function.<locals>.train_function at 0x000002142D54C8B8> and will run it as-is.\n",
      "Please report this to the TensorFlow team. When filing the bug, set the verbosity to 10 (on Linux, `export AUTOGRAPH_VERBOSITY=10`) and attach the full output.\n",
      "Cause: 'arguments' object has no attribute 'posonlyargs'\n",
      "To silence this warning, decorate the function with @tf.autograph.experimental.do_not_convert\n",
      "WARNING: AutoGraph could not transform <function Model.make_train_function.<locals>.train_function at 0x000002142D54C8B8> and will run it as-is.\n",
      "Please report this to the TensorFlow team. When filing the bug, set the verbosity to 10 (on Linux, `export AUTOGRAPH_VERBOSITY=10`) and attach the full output.\n",
      "Cause: 'arguments' object has no attribute 'posonlyargs'\n",
      "To silence this warning, decorate the function with @tf.autograph.experimental.do_not_convert\n",
      "1563/1563 [==============================] - ETA: 0s - loss: 0.3228 - accuracy: 0.9090\n",
      "Epoch 00001: saving model to training_checkpoints\\cp.ckpt\n",
      "1563/1563 [==============================] - 4s 3ms/step - loss: 0.3228 - accuracy: 0.9090\n",
      "Epoch 2/5\n",
      "1559/1563 [============================>.] - ETA: 0s - loss: 0.1511 - accuracy: 0.9565\n",
      "Epoch 00002: saving model to training_checkpoints\\cp.ckpt\n",
      "1563/1563 [==============================] - 4s 3ms/step - loss: 0.1511 - accuracy: 0.9565\n",
      "Epoch 3/5\n",
      "1543/1563 [============================>.] - ETA: 0s - loss: 0.1091 - accuracy: 0.9677\n",
      "Epoch 00003: saving model to training_checkpoints\\cp.ckpt\n",
      "1563/1563 [==============================] - 4s 3ms/step - loss: 0.1087 - accuracy: 0.9678\n",
      "Epoch 4/5\n",
      "1560/1563 [============================>.] - ETA: 0s - loss: 0.0863 - accuracy: 0.9745\n",
      "Epoch 00004: saving model to training_checkpoints\\cp.ckpt\n",
      "1563/1563 [==============================] - 4s 3ms/step - loss: 0.0862 - accuracy: 0.9745\n",
      "Epoch 5/5\n",
      "1542/1563 [============================>.] - ETA: 0s - loss: 0.0708 - accuracy: 0.9785\n",
      "Epoch 00005: saving model to training_checkpoints\\cp.ckpt\n",
      "1563/1563 [==============================] - 4s 3ms/step - loss: 0.0707 - accuracy: 0.9785\n"
     ]
    },
    {
     "data": {
      "text/plain": [
       "<tensorflow.python.keras.callbacks.History at 0x2142d5656c8>"
      ]
     },
     "execution_count": 3,
     "metadata": {},
     "output_type": "execute_result"
    }
   ],
   "source": [
    "\n",
    "import tensorflow as tf\n",
    "import numpy as np\n",
    "import os\n",
    "\n",
    "# Load the dataset\n",
    "(x_train, y_train), (x_test, y_test) = tf.keras.datasets.mnist.load_data()\n",
    "\n",
    "# Normalize pixel values to [0, 1]\n",
    "x_train = x_train / 255.0\n",
    "x_test = x_test / 255.0\n",
    "\n",
    "# Flatten the images for dense input\n",
    "x_train = x_train.reshape((-1, 28 * 28))\n",
    "x_test = x_test.reshape((-1, 28 * 28))\n",
    "\n",
    "# Split validation set from training data\n",
    "x_val = x_train[-10000:]\n",
    "y_val = y_train[-10000:]\n",
    "x_train = x_train[:-10000]\n",
    "y_train = y_train[:-10000]\n",
    "\n",
    "# Define a simple model\n",
    "def create_model():\n",
    "    model = tf.keras.Sequential([\n",
    "        tf.keras.layers.Dense(64, activation='relu', input_shape=(784,)),\n",
    "        tf.keras.layers.Dense(10, activation='softmax')\n",
    "    ])\n",
    "    model.compile(optimizer='adam',\n",
    "                  loss='sparse_categorical_crossentropy',\n",
    "                  metrics=['accuracy'])\n",
    "    return model\n",
    "\n",
    "model = create_model()\n",
    "\n",
    "# Define a checkpoint callback\n",
    "checkpoint_path = \"training_checkpoints/cp.ckpt\"\n",
    "checkpoint_dir = os.path.dirname(checkpoint_path)\n",
    "\n",
    "cp_callback = tf.keras.callbacks.ModelCheckpoint(filepath=checkpoint_path,\n",
    "                                                 save_weights_only=True,\n",
    "                                                 verbose=1)\n",
    "\n",
    "# Train the model with the checkpoint callback\n",
    "model.fit(x_train, y_train, epochs=5, callbacks=[cp_callback])\n"
   ]
  },
  {
   "cell_type": "markdown",
   "id": "afb0f1b0",
   "metadata": {},
   "source": [
    "### Resume Training from Checkpoint"
   ]
  },
  {
   "cell_type": "code",
   "execution_count": 4,
   "id": "0e8d0753",
   "metadata": {},
   "outputs": [
    {
     "name": "stdout",
     "output_type": "stream",
     "text": [
      "Epoch 1/5\n",
      "WARNING:tensorflow:AutoGraph could not transform <function Model.make_train_function.<locals>.train_function at 0x000002142CA88A68> and will run it as-is.\n",
      "Please report this to the TensorFlow team. When filing the bug, set the verbosity to 10 (on Linux, `export AUTOGRAPH_VERBOSITY=10`) and attach the full output.\n",
      "Cause: 'arguments' object has no attribute 'posonlyargs'\n",
      "To silence this warning, decorate the function with @tf.autograph.experimental.do_not_convert\n",
      "WARNING: AutoGraph could not transform <function Model.make_train_function.<locals>.train_function at 0x000002142CA88A68> and will run it as-is.\n",
      "Please report this to the TensorFlow team. When filing the bug, set the verbosity to 10 (on Linux, `export AUTOGRAPH_VERBOSITY=10`) and attach the full output.\n",
      "Cause: 'arguments' object has no attribute 'posonlyargs'\n",
      "To silence this warning, decorate the function with @tf.autograph.experimental.do_not_convert\n",
      "1563/1563 [==============================] - 4s 2ms/step - loss: 0.0593 - accuracy: 0.9824\n",
      "Epoch 2/5\n",
      "1563/1563 [==============================] - 4s 2ms/step - loss: 0.0492 - accuracy: 0.9853\n",
      "Epoch 3/5\n",
      "1563/1563 [==============================] - 4s 2ms/step - loss: 0.0417 - accuracy: 0.9878\n",
      "Epoch 4/5\n",
      "1563/1563 [==============================] - 4s 2ms/step - loss: 0.0360 - accuracy: 0.9892\n",
      "Epoch 5/5\n",
      "1563/1563 [==============================] - 4s 2ms/step - loss: 0.0308 - accuracy: 0.9906\n"
     ]
    },
    {
     "data": {
      "text/plain": [
       "<tensorflow.python.keras.callbacks.History at 0x2142fdbd788>"
      ]
     },
     "execution_count": 4,
     "metadata": {},
     "output_type": "execute_result"
    }
   ],
   "source": [
    "\n",
    "# Create a new model instance\n",
    "resumed_model = create_model()\n",
    "\n",
    "# Load weights from the checkpoint\n",
    "resumed_model.load_weights(checkpoint_path)\n",
    "\n",
    "# Continue training\n",
    "resumed_model.fit(x_train, y_train, epochs=5)\n"
   ]
  }
 ],
 "metadata": {
  "kernelspec": {
   "display_name": "tf_2.2",
   "language": "python",
   "name": "python3"
  },
  "language_info": {
   "codemirror_mode": {
    "name": "ipython",
    "version": 3
   },
   "file_extension": ".py",
   "mimetype": "text/x-python",
   "name": "python",
   "nbconvert_exporter": "python",
   "pygments_lexer": "ipython3",
   "version": "3.7.9"
  }
 },
 "nbformat": 4,
 "nbformat_minor": 5
}
