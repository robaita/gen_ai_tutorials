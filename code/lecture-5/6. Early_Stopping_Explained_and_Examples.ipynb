{
 "cells": [
  {
   "cell_type": "markdown",
   "id": "cd06aaaf",
   "metadata": {},
   "source": [
    "\n",
    "# 🧠 Early Stopping in Neural Networks\n",
    "\n",
    "This notebook explores **Early Stopping** as a regularization strategy to avoid overfitting and optimize model training.\n",
    "\n",
    "---\n"
   ]
  },
  {
   "cell_type": "markdown",
   "id": "7610abb9",
   "metadata": {},
   "source": [
    "\n",
    "## 💡 What is Early Stopping?\n",
    "\n",
    "**Early Stopping** is a form of regularization used to avoid overfitting in neural networks. It monitors the model’s performance on a **validation set** during training and **stops training** when the performance **stops improving**.\n",
    "\n",
    "---\n"
   ]
  },
  {
   "cell_type": "markdown",
   "id": "afce3e36",
   "metadata": {},
   "source": [
    "\n",
    "## 🔁 How Does Early Stopping Work?\n",
    "\n",
    "1. The training process is monitored using a specific metric (usually **validation loss** or **validation accuracy**).\n",
    "2. If the metric doesn’t improve for a defined number of epochs (called **patience**), training is stopped.\n",
    "3. Optionally, the best weights are restored using `restore_best_weights=True`.\n",
    "\n",
    "---\n"
   ]
  },
  {
   "cell_type": "markdown",
   "id": "eb22cea6",
   "metadata": {},
   "source": [
    "\n",
    "## 🌟 Why is Early Stopping Important?\n",
    "\n",
    "- Prevents **overfitting** by stopping before the model memorizes the training data.\n",
    "- Saves **training time and compute**.\n",
    "- Helps retain the model with the **best validation performance**, not just the last one.\n",
    "\n",
    "---\n"
   ]
  },
  {
   "cell_type": "markdown",
   "id": "9707a1eb",
   "metadata": {},
   "source": [
    "\n",
    "## 🧪 Implementing Early Stopping in Keras\n",
    "\n",
    "Let's see how to implement Early Stopping in different ways using the **MNIST** dataset.\n",
    "\n",
    "---\n"
   ]
  },
  {
   "cell_type": "code",
   "execution_count": 11,
   "id": "4573c2e4",
   "metadata": {},
   "outputs": [],
   "source": [
    "\n",
    "import tensorflow as tf\n",
    "from tensorflow.keras import layers, models, regularizers\n",
    "import matplotlib.pyplot as plt\n",
    "from sklearn.metrics import classification_report\n",
    "import numpy as np\n",
    "import random\n",
    "\n",
    "\n"
   ]
  },
  {
   "cell_type": "code",
   "execution_count": 12,
   "id": "e346551a",
   "metadata": {},
   "outputs": [],
   "source": [
    "# Load and preprocess MNIST\n",
    "(x_train, y_train), (x_test, y_test) = tf.keras.datasets.mnist.load_data()\n",
    "x_train, x_test = x_train / 255.0, x_test / 255.0\n",
    "x_train = x_train.reshape(-1, 784)\n",
    "x_test = x_test.reshape(-1, 784)\n",
    "\n",
    "x_val = x_train[-10000:]\n",
    "y_val = y_train[-10000:]\n",
    "x_train = x_train[:-10000]\n",
    "y_train = y_train[:-10000]"
   ]
  },
  {
   "cell_type": "markdown",
   "id": "dba51e51",
   "metadata": {},
   "source": [
    "\n",
    "### 🔧 Define a Simple MLP Model\n"
   ]
  },
  {
   "cell_type": "code",
   "execution_count": 13,
   "id": "eb29d0b2",
   "metadata": {},
   "outputs": [],
   "source": [
    "\n",
    "def create_model():\n",
    "    model = models.Sequential([\n",
    "        layers.Input(shape=(784,)),\n",
    "        layers.Dense(128, activation='relu'),\n",
    "        layers.Dense(256, activation='relu'),\n",
    "        layers.Dense(10, activation='softmax')\n",
    "    ])\n",
    "    model.compile(optimizer='adam',\n",
    "                  loss='sparse_categorical_crossentropy',\n",
    "                  metrics=['accuracy'])\n",
    "    return model\n"
   ]
  },
  {
   "cell_type": "markdown",
   "id": "d81cfdc4",
   "metadata": {},
   "source": [
    "\n",
    "### ✅ Method 1: EarlyStopping Based on Validation Loss\n"
   ]
  },
  {
   "cell_type": "code",
   "execution_count": 14,
   "id": "09cc71d3",
   "metadata": {},
   "outputs": [
    {
     "name": "stdout",
     "output_type": "stream",
     "text": [
      "Epoch 1/30\n",
      "WARNING:tensorflow:AutoGraph could not transform <function Model.make_train_function.<locals>.train_function at 0x0000016D8328C798> and will run it as-is.\n",
      "Please report this to the TensorFlow team. When filing the bug, set the verbosity to 10 (on Linux, `export AUTOGRAPH_VERBOSITY=10`) and attach the full output.\n",
      "Cause: 'arguments' object has no attribute 'posonlyargs'\n",
      "To silence this warning, decorate the function with @tf.autograph.experimental.do_not_convert\n",
      "WARNING: AutoGraph could not transform <function Model.make_train_function.<locals>.train_function at 0x0000016D8328C798> and will run it as-is.\n",
      "Please report this to the TensorFlow team. When filing the bug, set the verbosity to 10 (on Linux, `export AUTOGRAPH_VERBOSITY=10`) and attach the full output.\n",
      "Cause: 'arguments' object has no attribute 'posonlyargs'\n",
      "To silence this warning, decorate the function with @tf.autograph.experimental.do_not_convert\n",
      "WARNING:tensorflow:AutoGraph could not transform <function Model.make_test_function.<locals>.test_function at 0x0000016DE959A048> and will run it as-is.\n",
      "Please report this to the TensorFlow team. When filing the bug, set the verbosity to 10 (on Linux, `export AUTOGRAPH_VERBOSITY=10`) and attach the full output.\n",
      "Cause: 'arguments' object has no attribute 'posonlyargs'\n",
      "To silence this warning, decorate the function with @tf.autograph.experimental.do_not_convert\n",
      "WARNING: AutoGraph could not transform <function Model.make_test_function.<locals>.test_function at 0x0000016DE959A048> and will run it as-is.\n",
      "Please report this to the TensorFlow team. When filing the bug, set the verbosity to 10 (on Linux, `export AUTOGRAPH_VERBOSITY=10`) and attach the full output.\n",
      "Cause: 'arguments' object has no attribute 'posonlyargs'\n",
      "To silence this warning, decorate the function with @tf.autograph.experimental.do_not_convert\n",
      "391/391 - 1s - loss: 0.3312 - accuracy: 0.9062 - val_loss: 0.1475 - val_accuracy: 0.9589\n",
      "Epoch 2/30\n",
      "391/391 - 1s - loss: 0.1296 - accuracy: 0.9613 - val_loss: 0.1191 - val_accuracy: 0.9646\n",
      "Epoch 3/30\n",
      "391/391 - 1s - loss: 0.0878 - accuracy: 0.9738 - val_loss: 0.0918 - val_accuracy: 0.9721\n",
      "Epoch 4/30\n",
      "391/391 - 1s - loss: 0.0652 - accuracy: 0.9800 - val_loss: 0.0875 - val_accuracy: 0.9733\n",
      "Epoch 5/30\n",
      "391/391 - 1s - loss: 0.0506 - accuracy: 0.9848 - val_loss: 0.0870 - val_accuracy: 0.9757\n",
      "Epoch 6/30\n",
      "391/391 - 1s - loss: 0.0396 - accuracy: 0.9877 - val_loss: 0.1042 - val_accuracy: 0.9710\n",
      "Epoch 7/30\n",
      "391/391 - 1s - loss: 0.0320 - accuracy: 0.9896 - val_loss: 0.0898 - val_accuracy: 0.9750\n",
      "Epoch 8/30\n",
      "391/391 - 1s - loss: 0.0265 - accuracy: 0.9917 - val_loss: 0.0838 - val_accuracy: 0.9773\n",
      "Epoch 9/30\n",
      "391/391 - 1s - loss: 0.0190 - accuracy: 0.9941 - val_loss: 0.0857 - val_accuracy: 0.9783\n",
      "Epoch 10/30\n",
      "391/391 - 1s - loss: 0.0187 - accuracy: 0.9942 - val_loss: 0.0954 - val_accuracy: 0.9766\n",
      "Epoch 11/30\n",
      "391/391 - 1s - loss: 0.0171 - accuracy: 0.9943 - val_loss: 0.0982 - val_accuracy: 0.9747\n",
      "Epoch 12/30\n",
      "391/391 - 1s - loss: 0.0121 - accuracy: 0.9961 - val_loss: 0.1012 - val_accuracy: 0.9771\n",
      "Epoch 13/30\n",
      "391/391 - 1s - loss: 0.0120 - accuracy: 0.9958 - val_loss: 0.1115 - val_accuracy: 0.9745\n",
      "Epoch 14/30\n",
      "391/391 - 1s - loss: 0.0089 - accuracy: 0.9974 - val_loss: 0.1153 - val_accuracy: 0.9729\n",
      "Epoch 15/30\n",
      "391/391 - 1s - loss: 0.0167 - accuracy: 0.9943 - val_loss: 0.1078 - val_accuracy: 0.9766\n",
      "Epoch 16/30\n",
      "391/391 - 1s - loss: 0.0105 - accuracy: 0.9967 - val_loss: 0.0977 - val_accuracy: 0.9801\n",
      "Epoch 17/30\n",
      "391/391 - 1s - loss: 0.0061 - accuracy: 0.9980 - val_loss: 0.0993 - val_accuracy: 0.9795\n",
      "Epoch 18/30\n",
      "391/391 - 1s - loss: 0.0073 - accuracy: 0.9978 - val_loss: 0.1251 - val_accuracy: 0.9754\n"
     ]
    }
   ],
   "source": [
    "\n",
    "model1 = create_model()\n",
    "es1 = EarlyStopping(monitor='val_loss', patience=10, restore_best_weights=True)\n",
    "history1 = model1.fit(\n",
    "    x_train, y_train,\n",
    "    validation_data=(x_val, y_val),\n",
    "    epochs=30,\n",
    "    batch_size=128,\n",
    "    callbacks=[es1],\n",
    "    verbose=2\n",
    ")\n"
   ]
  },
  {
   "cell_type": "markdown",
   "id": "f62cff81",
   "metadata": {},
   "source": [
    "\n",
    "### ✅ Method 2: EarlyStopping Based on Validation Accuracy\n"
   ]
  },
  {
   "cell_type": "code",
   "execution_count": 15,
   "id": "eb1e01c5",
   "metadata": {},
   "outputs": [
    {
     "name": "stdout",
     "output_type": "stream",
     "text": [
      "Epoch 1/30\n",
      "WARNING:tensorflow:AutoGraph could not transform <function Model.make_train_function.<locals>.train_function at 0x0000016DE94F1F78> and will run it as-is.\n",
      "Please report this to the TensorFlow team. When filing the bug, set the verbosity to 10 (on Linux, `export AUTOGRAPH_VERBOSITY=10`) and attach the full output.\n",
      "Cause: 'arguments' object has no attribute 'posonlyargs'\n",
      "To silence this warning, decorate the function with @tf.autograph.experimental.do_not_convert\n",
      "WARNING: AutoGraph could not transform <function Model.make_train_function.<locals>.train_function at 0x0000016DE94F1F78> and will run it as-is.\n",
      "Please report this to the TensorFlow team. When filing the bug, set the verbosity to 10 (on Linux, `export AUTOGRAPH_VERBOSITY=10`) and attach the full output.\n",
      "Cause: 'arguments' object has no attribute 'posonlyargs'\n",
      "To silence this warning, decorate the function with @tf.autograph.experimental.do_not_convert\n",
      "WARNING:tensorflow:AutoGraph could not transform <function Model.make_test_function.<locals>.test_function at 0x0000016DE96A8828> and will run it as-is.\n",
      "Please report this to the TensorFlow team. When filing the bug, set the verbosity to 10 (on Linux, `export AUTOGRAPH_VERBOSITY=10`) and attach the full output.\n",
      "Cause: 'arguments' object has no attribute 'posonlyargs'\n",
      "To silence this warning, decorate the function with @tf.autograph.experimental.do_not_convert\n",
      "WARNING: AutoGraph could not transform <function Model.make_test_function.<locals>.test_function at 0x0000016DE96A8828> and will run it as-is.\n",
      "Please report this to the TensorFlow team. When filing the bug, set the verbosity to 10 (on Linux, `export AUTOGRAPH_VERBOSITY=10`) and attach the full output.\n",
      "Cause: 'arguments' object has no attribute 'posonlyargs'\n",
      "To silence this warning, decorate the function with @tf.autograph.experimental.do_not_convert\n",
      "391/391 - 1s - loss: 0.3354 - accuracy: 0.9036 - val_loss: 0.1536 - val_accuracy: 0.9561\n",
      "Epoch 2/30\n",
      "391/391 - 1s - loss: 0.1333 - accuracy: 0.9594 - val_loss: 0.1192 - val_accuracy: 0.9638\n",
      "Epoch 3/30\n",
      "391/391 - 1s - loss: 0.0901 - accuracy: 0.9730 - val_loss: 0.0976 - val_accuracy: 0.9702\n",
      "Epoch 4/30\n",
      "391/391 - 1s - loss: 0.0670 - accuracy: 0.9791 - val_loss: 0.0902 - val_accuracy: 0.9743\n",
      "Epoch 5/30\n",
      "391/391 - 1s - loss: 0.0533 - accuracy: 0.9833 - val_loss: 0.0916 - val_accuracy: 0.9731\n",
      "Epoch 6/30\n",
      "391/391 - 1s - loss: 0.0402 - accuracy: 0.9879 - val_loss: 0.0899 - val_accuracy: 0.9734\n",
      "Epoch 7/30\n",
      "391/391 - 1s - loss: 0.0322 - accuracy: 0.9898 - val_loss: 0.0962 - val_accuracy: 0.9721\n",
      "Epoch 8/30\n",
      "391/391 - 1s - loss: 0.0260 - accuracy: 0.9915 - val_loss: 0.0907 - val_accuracy: 0.9767\n",
      "Epoch 9/30\n",
      "391/391 - 1s - loss: 0.0226 - accuracy: 0.9930 - val_loss: 0.0897 - val_accuracy: 0.9784\n",
      "Epoch 10/30\n",
      "391/391 - 1s - loss: 0.0176 - accuracy: 0.9943 - val_loss: 0.0864 - val_accuracy: 0.9776\n",
      "Epoch 11/30\n",
      "391/391 - 1s - loss: 0.0126 - accuracy: 0.9961 - val_loss: 0.1062 - val_accuracy: 0.9743\n",
      "Epoch 12/30\n",
      "391/391 - 1s - loss: 0.0174 - accuracy: 0.9938 - val_loss: 0.0942 - val_accuracy: 0.9778\n",
      "Epoch 13/30\n",
      "391/391 - 1s - loss: 0.0109 - accuracy: 0.9963 - val_loss: 0.0984 - val_accuracy: 0.9792\n",
      "Epoch 14/30\n",
      "391/391 - 1s - loss: 0.0106 - accuracy: 0.9965 - val_loss: 0.0995 - val_accuracy: 0.9785\n",
      "Epoch 15/30\n",
      "391/391 - 1s - loss: 0.0078 - accuracy: 0.9974 - val_loss: 0.1044 - val_accuracy: 0.9786\n",
      "Epoch 16/30\n",
      "391/391 - 1s - loss: 0.0143 - accuracy: 0.9952 - val_loss: 0.1122 - val_accuracy: 0.9767\n",
      "Epoch 17/30\n",
      "391/391 - 1s - loss: 0.0084 - accuracy: 0.9975 - val_loss: 0.1080 - val_accuracy: 0.9790\n",
      "Epoch 18/30\n",
      "391/391 - 1s - loss: 0.0084 - accuracy: 0.9973 - val_loss: 0.1038 - val_accuracy: 0.9782\n",
      "Epoch 19/30\n",
      "391/391 - 1s - loss: 0.0069 - accuracy: 0.9978 - val_loss: 0.1237 - val_accuracy: 0.9749\n",
      "Epoch 20/30\n",
      "391/391 - 1s - loss: 0.0101 - accuracy: 0.9966 - val_loss: 0.1112 - val_accuracy: 0.9790\n",
      "Epoch 21/30\n",
      "391/391 - 1s - loss: 0.0095 - accuracy: 0.9965 - val_loss: 0.1127 - val_accuracy: 0.9780\n",
      "Epoch 22/30\n",
      "391/391 - 1s - loss: 0.0067 - accuracy: 0.9976 - val_loss: 0.1152 - val_accuracy: 0.9793\n",
      "Epoch 23/30\n",
      "391/391 - 1s - loss: 0.0053 - accuracy: 0.9983 - val_loss: 0.1160 - val_accuracy: 0.9800\n",
      "Epoch 24/30\n",
      "391/391 - 1s - loss: 0.0052 - accuracy: 0.9982 - val_loss: 0.1140 - val_accuracy: 0.9788\n",
      "Epoch 25/30\n",
      "391/391 - 1s - loss: 0.0050 - accuracy: 0.9983 - val_loss: 0.1498 - val_accuracy: 0.9741\n",
      "Epoch 26/30\n",
      "391/391 - 1s - loss: 0.0087 - accuracy: 0.9975 - val_loss: 0.1282 - val_accuracy: 0.9767\n",
      "Epoch 27/30\n",
      "391/391 - 1s - loss: 0.0082 - accuracy: 0.9975 - val_loss: 0.1397 - val_accuracy: 0.9774\n",
      "Epoch 28/30\n",
      "391/391 - 1s - loss: 0.0052 - accuracy: 0.9983 - val_loss: 0.1227 - val_accuracy: 0.9781\n",
      "Epoch 29/30\n",
      "391/391 - 1s - loss: 0.0056 - accuracy: 0.9981 - val_loss: 0.1237 - val_accuracy: 0.9797\n",
      "Epoch 30/30\n",
      "391/391 - 1s - loss: 0.0062 - accuracy: 0.9981 - val_loss: 0.1302 - val_accuracy: 0.9793\n"
     ]
    }
   ],
   "source": [
    "\n",
    "model2 = create_model()\n",
    "es2 = EarlyStopping(monitor='val_accuracy', patience=10, mode='max', restore_best_weights=True)\n",
    "history2 = model2.fit(\n",
    "    x_train, y_train,\n",
    "    validation_data=(x_val, y_val),\n",
    "    epochs=30,\n",
    "    batch_size=128,\n",
    "    callbacks=[es2],\n",
    "    verbose=2\n",
    ")\n"
   ]
  },
  {
   "cell_type": "markdown",
   "id": "1cc824a3",
   "metadata": {},
   "source": [
    "\n",
    "## 📊 Comparing Early Stopping Effects\n"
   ]
  },
  {
   "cell_type": "code",
   "execution_count": 16,
   "id": "340e536e",
   "metadata": {},
   "outputs": [
    {
     "name": "stderr",
     "output_type": "stream",
     "text": [
      "d:\\Program_Files\\anaconda3\\envs\\tf_2.2\\lib\\site-packages\\ipykernel_launcher.py:4: MatplotlibDeprecationWarning: Adding an axes using the same arguments as a previous axes currently reuses the earlier instance.  In a future version, a new instance will always be created and returned.  Meanwhile, this warning can be suppressed, and the future behavior ensured, by passing a unique label to each axes instance.\n",
      "  after removing the cwd from sys.path.\n",
      "d:\\Program_Files\\anaconda3\\envs\\tf_2.2\\lib\\site-packages\\ipykernel_launcher.py:11: MatplotlibDeprecationWarning: Adding an axes using the same arguments as a previous axes currently reuses the earlier instance.  In a future version, a new instance will always be created and returned.  Meanwhile, this warning can be suppressed, and the future behavior ensured, by passing a unique label to each axes instance.\n",
      "  # This is added back by InteractiveShellApp.init_path()\n"
     ]
    },
    {
     "data": {
      "image/png": "[encoded data removed]",
      "text/plain": [
       "<Figure size 1008x360 with 2 Axes>"
      ]
     },
     "metadata": {
      "needs_background": "light"
     },
     "output_type": "display_data"
    }
   ],
   "source": [
    "\n",
    "def plot_history(histories, titles):\n",
    "    plt.figure(figsize=(14, 5))\n",
    "    for i, history in enumerate(histories):\n",
    "        plt.subplot(1, 2, 1)\n",
    "        plt.plot(history.history['val_loss'], label=f'{titles[i]}')\n",
    "        plt.title('Validation Loss')\n",
    "        plt.xlabel('Epoch')\n",
    "        plt.ylabel('Loss')\n",
    "        plt.legend()\n",
    "\n",
    "        plt.subplot(1, 2, 2)\n",
    "        plt.plot(history.history['val_accuracy'], label=f'{titles[i]}')\n",
    "        plt.title('Validation Accuracy')\n",
    "        plt.xlabel('Epoch')\n",
    "        plt.ylabel('Accuracy')\n",
    "        plt.legend()\n",
    "    \n",
    "    plt.tight_layout()\n",
    "    plt.show()\n",
    "\n",
    "plot_history([history1, history2], ['Val Loss Monitor', 'Val Accuracy Monitor'])\n"
   ]
  },
  {
   "cell_type": "code",
   "execution_count": 17,
   "id": "191ab075",
   "metadata": {},
   "outputs": [
    {
     "name": "stdout",
     "output_type": "stream",
     "text": [
      "313/313 [==============================] - 1s 2ms/step - loss: 0.0820 - accuracy: 0.9758\n",
      "Accuracy: 0.9758, Loss: 0.0820\n",
      "WARNING:tensorflow:AutoGraph could not transform <function Model.make_predict_function.<locals>.predict_function at 0x0000016DE97F43A8> and will run it as-is.\n",
      "Please report this to the TensorFlow team. When filing the bug, set the verbosity to 10 (on Linux, `export AUTOGRAPH_VERBOSITY=10`) and attach the full output.\n",
      "Cause: 'arguments' object has no attribute 'posonlyargs'\n",
      "To silence this warning, decorate the function with @tf.autograph.experimental.do_not_convert\n",
      "WARNING: AutoGraph could not transform <function Model.make_predict_function.<locals>.predict_function at 0x0000016DE97F43A8> and will run it as-is.\n",
      "Please report this to the TensorFlow team. When filing the bug, set the verbosity to 10 (on Linux, `export AUTOGRAPH_VERBOSITY=10`) and attach the full output.\n",
      "Cause: 'arguments' object has no attribute 'posonlyargs'\n",
      "To silence this warning, decorate the function with @tf.autograph.experimental.do_not_convert\n",
      "[7 2 1 0 4 1 4 9 5 9]\n",
      "Accuracy Report:\n",
      "               precision    recall  f1-score   support\n",
      "\n",
      "           0       0.98      0.99      0.99       980\n",
      "           1       0.99      0.99      0.99      1135\n",
      "           2       0.96      0.97      0.96      1032\n",
      "           3       0.98      0.97      0.98      1010\n",
      "           4       0.97      0.98      0.98       982\n",
      "           5       0.98      0.97      0.97       892\n",
      "           6       0.97      0.98      0.98       958\n",
      "           7       0.97      0.98      0.98      1028\n",
      "           8       0.97      0.96      0.97       974\n",
      "           9       0.98      0.96      0.97      1009\n",
      "\n",
      "    accuracy                           0.98     10000\n",
      "   macro avg       0.98      0.98      0.98     10000\n",
      "weighted avg       0.98      0.98      0.98     10000\n",
      "\n"
     ]
    }
   ],
   "source": [
    "# Evaluate\n",
    "loss, acc = model1.evaluate(x_test, y_test, verbose=1)\n",
    "# print(y_test[0:10])\n",
    "# Show results\n",
    "print(f\"Accuracy: {acc:.4f}, Loss: {loss:.4f}\")\n",
    "\n",
    "# Predict on test set\n",
    "y_pred = model1.predict(x_test)\n",
    "\n",
    "# Convert predictions to class labels\n",
    "y_pred = np.argmax(y_pred, axis=1)\n",
    "print(y_pred[0:10])\n",
    "\n",
    "\n",
    "print(\"Accuracy Report:\\n\", classification_report(y_test, y_pred))"
   ]
  },
  {
   "cell_type": "code",
   "execution_count": 18,
   "id": "c133bed8",
   "metadata": {},
   "outputs": [
    {
     "name": "stdout",
     "output_type": "stream",
     "text": [
      "313/313 [==============================] - 1s 2ms/step - loss: 0.1119 - accuracy: 0.9806\n",
      "Accuracy: 0.9806, Loss: 0.1119\n",
      "WARNING:tensorflow:AutoGraph could not transform <function Model.make_predict_function.<locals>.predict_function at 0x0000016DE9854708> and will run it as-is.\n",
      "Please report this to the TensorFlow team. When filing the bug, set the verbosity to 10 (on Linux, `export AUTOGRAPH_VERBOSITY=10`) and attach the full output.\n",
      "Cause: 'arguments' object has no attribute 'posonlyargs'\n",
      "To silence this warning, decorate the function with @tf.autograph.experimental.do_not_convert\n",
      "WARNING: AutoGraph could not transform <function Model.make_predict_function.<locals>.predict_function at 0x0000016DE9854708> and will run it as-is.\n",
      "Please report this to the TensorFlow team. When filing the bug, set the verbosity to 10 (on Linux, `export AUTOGRAPH_VERBOSITY=10`) and attach the full output.\n",
      "Cause: 'arguments' object has no attribute 'posonlyargs'\n",
      "To silence this warning, decorate the function with @tf.autograph.experimental.do_not_convert\n",
      "[7 2 1 0 4 1 4 9 5 9]\n",
      "Accuracy Report:\n",
      "               precision    recall  f1-score   support\n",
      "\n",
      "           0       0.98      0.99      0.99       980\n",
      "           1       0.99      1.00      0.99      1135\n",
      "           2       0.98      0.98      0.98      1032\n",
      "           3       0.98      0.97      0.98      1010\n",
      "           4       1.00      0.97      0.98       982\n",
      "           5       0.97      0.98      0.98       892\n",
      "           6       0.98      0.98      0.98       958\n",
      "           7       0.98      0.98      0.98      1028\n",
      "           8       0.97      0.98      0.97       974\n",
      "           9       0.98      0.97      0.97      1009\n",
      "\n",
      "    accuracy                           0.98     10000\n",
      "   macro avg       0.98      0.98      0.98     10000\n",
      "weighted avg       0.98      0.98      0.98     10000\n",
      "\n"
     ]
    }
   ],
   "source": [
    "# Evaluate\n",
    "loss, acc = model2.evaluate(x_test, y_test, verbose=1)\n",
    "# print(y_test[0:10])\n",
    "# Show results\n",
    "print(f\"Accuracy: {acc:.4f}, Loss: {loss:.4f}\")\n",
    "\n",
    "# Predict on test set\n",
    "y_pred = model2.predict(x_test)\n",
    "\n",
    "# Convert predictions to class labels\n",
    "y_pred = np.argmax(y_pred, axis=1)\n",
    "print(y_pred[0:10])\n",
    "\n",
    "\n",
    "print(\"Accuracy Report:\\n\", classification_report(y_test, y_pred))"
   ]
  },
  {
   "cell_type": "markdown",
   "id": "0d36adee",
   "metadata": {},
   "source": [
    "\n",
    "## ✅ Conclusion\n",
    "\n",
    "- Early Stopping is an effective technique to control overfitting.\n",
    "- You can monitor different metrics such as `'val_loss'` or `'val_accuracy'`.\n",
    "- Using `restore_best_weights=True` helps you retain the most performant model.\n",
    "\n",
    "---\n"
   ]
  }
 ],
 "metadata": {
  "kernelspec": {
   "display_name": "tf_2.2",
   "language": "python",
   "name": "python3"
  },
  "language_info": {
   "codemirror_mode": {
    "name": "ipython",
    "version": 3
   },
   "file_extension": ".py",
   "mimetype": "text/x-python",
   "name": "python",
   "nbconvert_exporter": "python",
   "pygments_lexer": "ipython3",
   "version": "3.7.9"
  }
 },
 "nbformat": 4,
 "nbformat_minor": 5
}
