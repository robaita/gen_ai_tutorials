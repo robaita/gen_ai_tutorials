{
 "cells": [
  {
   "cell_type": "markdown",
   "id": "b50e6543",
   "metadata": {},
   "source": []
  },
  {
   "cell_type": "code",
   "execution_count": null,
   "id": "764bf148",
   "metadata": {},
   "outputs": [
    {
     "name": "stderr",
     "output_type": "stream",
     "text": [
      "/tmp/ipykernel_109185/169950780.py:41: LangChainDeprecationWarning: The class `OpenAI` was deprecated in LangChain 0.0.10 and will be removed in 1.0. An updated version of the class exists in the :class:`~langchain-openai package and should be used instead. To use it run `pip install -U :class:`~langchain-openai` and import as `from :class:`~langchain_openai import OpenAI``.\n",
      "  llm = OpenAI(temperature=0.7, openai_api_key=api_key)\n",
      "/tmp/ipykernel_109185/169950780.py:50: LangChainDeprecationWarning: The method `BaseLLM.__call__` was deprecated in langchain-core 0.1.7 and will be removed in 1.0. Use :meth:`~invoke` instead.\n",
      "  response = llm(prompt)\n"
     ]
    },
    {
     "data": {
      "text/html": [
       "<pre style=\"white-space:pre;overflow-x:auto;line-height:normal;font-family:Menlo,'DejaVu Sans Mono',consolas,'Courier New',monospace\"><span style=\"color: #7fbfbf; text-decoration-color: #7fbfbf\">[06/18/25 01:13:41] </span><span style=\"color: #000080; text-decoration-color: #000080\">INFO    </span> HTTP Request: <span style=\"color: #808000; text-decoration-color: #808000; font-weight: bold\">POST</span> <span style=\"color: #0000ff; text-decoration-color: #0000ff; text-decoration: underline\">https://api.openai.com/v1/completions</span> <span style=\"color: #008000; text-decoration-color: #008000\">\"HTTP/1.1 200</span> <a href=\"file:///home/avinash/Desktop/dr_avinash/generative_ai/lecture-8/torch/lib/python3.12/site-packages/httpx/_client.py\" target=\"_blank\"><span style=\"color: #7f7f7f; text-decoration-color: #7f7f7f\">_client.py</span></a><span style=\"color: #7f7f7f; text-decoration-color: #7f7f7f\">:</span><a href=\"file:///home/avinash/Desktop/dr_avinash/generative_ai/lecture-8/torch/lib/python3.12/site-packages/httpx/_client.py#1025\" target=\"_blank\"><span style=\"color: #7f7f7f; text-decoration-color: #7f7f7f\">1025</span></a>\n",
       "<span style=\"color: #7fbfbf; text-decoration-color: #7fbfbf\">                    </span>         <span style=\"color: #008000; text-decoration-color: #008000\">OK\"</span>                                                                    <span style=\"color: #7f7f7f; text-decoration-color: #7f7f7f\">               </span>\n",
       "</pre>\n"
      ],
      "text/plain": [
       "\u001b[2;36m[06/18/25 01:13:41]\u001b[0m\u001b[2;36m \u001b[0m\u001b[34mINFO    \u001b[0m HTTP Request: \u001b[1;33mPOST\u001b[0m \u001b[4;94mhttps://api.openai.com/v1/completions\u001b[0m \u001b[32m\"HTTP/1.1 200\u001b[0m \u001b]8;id=436958;file:///home/avinash/Desktop/dr_avinash/generative_ai/lecture-8/torch/lib/python3.12/site-packages/httpx/_client.py\u001b\\\u001b[2m_client.py\u001b[0m\u001b]8;;\u001b\\\u001b[2m:\u001b[0m\u001b]8;id=699258;file:///home/avinash/Desktop/dr_avinash/generative_ai/lecture-8/torch/lib/python3.12/site-packages/httpx/_client.py#1025\u001b\\\u001b[2m1025\u001b[0m\u001b]8;;\u001b\\\n",
       "\u001b[2;36m                    \u001b[0m         \u001b[32mOK\"\u001b[0m                                                                    \u001b[2m               \u001b[0m\n"
      ]
     },
     "metadata": {},
     "output_type": "display_data"
    },
    {
     "name": "stdout",
     "output_type": "stream",
     "text": [
      "\n",
      "The Ramayana teaches dharma, devotion, righteousness, and the triumph of good over evil as moral values.\n"
     ]
    }
   ],
   "source": [
    "from mcp.server.fastmcp import FastMCP\n",
    "from langchain.llms import OpenAI\n",
    "from langgraph.graph import StateGraph, END\n",
    "from typing import TypedDict, Annotated\n",
    "\n",
    "# -------------------------\n",
    "# Step 1: Setup MCP Resource\n",
    "# -------------------------\n",
    "mcp = FastMCP(\"LangGraphMCPApp\")\n",
    "\n",
    "@mcp.resource(\"doc://ramayan\")\n",
    "def get_ramayan_doc():\n",
    "    return (\n",
    "        \"The Ramayana is an ancient Indian epic that teaches dharma, \"\n",
    "        \"devotion, righteousness, and the triumph of good over evil.\"\n",
    "    )\n",
    "\n",
    "# -------------------------\n",
    "# Step 2: Define Graph State\n",
    "# -------------------------\n",
    "class GraphState(TypedDict):\n",
    "    query: str\n",
    "    context: str\n",
    "    response: str\n",
    "\n",
    "# -------------------------\n",
    "# Step 3: MCP Tool Node\n",
    "# -------------------------\n",
    "def mcp_tool_node(state: GraphState) -> GraphState:\n",
    "    query = state[\"query\"]\n",
    "    context = get_ramayan_doc()  # Direct call to MCP resource\n",
    "    return {\n",
    "        **state,\n",
    "        \"context\": context,\n",
    "    }\n",
    "\n",
    "# -------------------------\n",
    "# Step 4: LLM Node\n",
    "# -------------------------\n",
    "api_key = open(\"data/key.txt\").read().strip()\n",
    "llm = OpenAI(temperature=0.7, openai_api_key=api_key)\n",
    "\n",
    "def llm_node(state: GraphState) -> GraphState:\n",
    "    prompt = f\"\"\"Given the context:\n",
    "{state['context']}\n",
    "\n",
    "Answer the user query:\n",
    "{state['query']}\n",
    "\"\"\"\n",
    "    response = llm(prompt)\n",
    "    return {\n",
    "        **state,\n",
    "        \"response\": response\n",
    "    }\n",
    "\n",
    "# -------------------------\n",
    "# Step 5: Define Graph Flow\n",
    "# -------------------------\n",
    "graph = StateGraph(GraphState)\n",
    "graph.add_node(\"MCPTool\", mcp_tool_node)\n",
    "graph.add_node(\"LLM\", llm_node)\n",
    "\n",
    "graph.set_entry_point(\"MCPTool\")\n",
    "graph.add_edge(\"MCPTool\", \"LLM\")\n",
    "graph.add_edge(\"LLM\", END)\n",
    "\n",
    "runnable = graph.compile()\n",
    "\n",
    "# -------------------------\n",
    "# Step 6: Run it!\n",
    "# -------------------------\n",
    "output = runnable.invoke({\"query\": \"What moral values does the Ramayana teach?\"})\n",
    "print(output[\"response\"])\n"
   ]
  },
  {
   "cell_type": "code",
   "execution_count": 2,
   "id": "211255c7",
   "metadata": {},
   "outputs": [
    {
     "data": {
      "image/png": "[encoded data removed]",
      "text/plain": [
       "<IPython.core.display.Image object>"
      ]
     },
     "metadata": {},
     "output_type": "display_data"
    }
   ],
   "source": [
    "from IPython.display import Image, display\n",
    "\n",
    "graph_image_data = runnable.get_graph().draw_mermaid_png()\n",
    "display(Image(graph_image_data))"
   ]
  }
 ],
 "metadata": {
  "kernelspec": {
   "display_name": "torch",
   "language": "python",
   "name": "python3"
  },
  "language_info": {
   "codemirror_mode": {
    "name": "ipython",
    "version": 3
   },
   "file_extension": ".py",
   "mimetype": "text/x-python",
   "name": "python",
   "nbconvert_exporter": "python",
   "pygments_lexer": "ipython3",
   "version": "3.12.3"
  }
 },
 "nbformat": 4,
 "nbformat_minor": 5
}
