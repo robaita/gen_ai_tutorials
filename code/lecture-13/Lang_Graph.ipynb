{
 "cells": [
  {
   "cell_type": "markdown",
   "id": "0aa213c2",
   "metadata": {},
   "source": [
    "# Ask Questions from Ramayan using LangGraph\n",
    "In this project, we aim to build an intelligent agent that can read the ancient Indian epic \"Ramayana - Childerens book\", understand its content, and answer user questions based on it. To do this, we use a powerful Retrieval-Augmented Generation (RAG) pipeline — where the AI first retrieves relevant parts of the document, then generates an answer using a Large Language Model (LLM).\n",
    "\n",
    "To manage the control flow and modular structure of the system, we use LangGraph — a library that enables building stateful, multi-step AI workflows using a graph-based abstraction.\n",
    "\n",
    "## Step-1: Data Ingestion\n",
    "✅ Task:\n",
    "1. Load the Ramayan.pdf\n"
   ]
  },
  {
   "cell_type": "code",
   "execution_count": 4,
   "id": "f1df63e9",
   "metadata": {},
   "outputs": [],
   "source": [
    "# !pip install langgraph\n",
    "# !pip install --upgrade langchain langchain-core langchain-openai\n",
    "# !pip install graphviz\n",
    "# !pip install 'langgraph[visualization]'\n",
    "\n"
   ]
  },
  {
   "cell_type": "code",
   "execution_count": 5,
   "id": "8ab7fc0c",
   "metadata": {},
   "outputs": [
    {
     "name": "stderr",
     "output_type": "stream",
     "text": [
      "/home/avinash/Desktop/dr_avinash/generative_ai/lecture-8/torch/lib/python3.12/site-packages/langchain_community/embeddings/sentence_transformer.py:3: LangChainDeprecationWarning: As of langchain-core 0.3.0, LangChain uses pydantic v2 internally. The langchain_core.pydantic_v1 module was a compatibility shim for pydantic v1, and should no longer be used. Please update the code to import from Pydantic directly.\n",
      "\n",
      "For example, replace imports like: `from langchain_core.pydantic_v1 import BaseModel`\n",
      "with: `from pydantic import BaseModel`\n",
      "or the v1 compatibility namespace if you are working in a code base that has not been fully upgraded to pydantic 2 yet. \tfrom pydantic.v1 import BaseModel\n",
      "\n",
      "  from langchain_community.embeddings.huggingface import HuggingFaceEmbeddings\n"
     ]
    }
   ],
   "source": [
    "from langchain.embeddings import SentenceTransformerEmbeddings\n",
    "from langchain.vectorstores import FAISS\n",
    "from langchain.text_splitter import RecursiveCharacterTextSplitter\n",
    "from langchain.document_loaders import TextLoader\n",
    "from langchain.document_loaders import PyMuPDFLoader\n",
    "from langchain.schema import Document\n",
    "import os\n"
   ]
  },
  {
   "cell_type": "code",
   "execution_count": 6,
   "id": "ccd649e1",
   "metadata": {},
   "outputs": [],
   "source": [
    "# Load the PDF\n",
    "loader = PyMuPDFLoader(\"data/RAMAYANA.pdf\")\n",
    "documents = loader.load()\n",
    "\n",
    "# Example: define chapters by page ranges (you can adjust this)\n",
    "chapter_map = {\n",
    "    \"Introduction\".upper(): range(0, 2),\n",
    "    \"THE BIRTH OF RAMA\".upper(): range(2, 3),\n",
    "    \"The Valiant Princes\".upper(): range(3, 6),\n",
    "    \"SITA'S SWAYAMVAR\".upper(): range(6, 8),\n",
    "    \"KAIKEYI AND HER WISHES\".upper(): range(7, 21),\n",
    "    \"The demons in the forests\".upper(): range(21, 24),\n",
    "    \"The Kidnapping of Sita\".upper(): range(24, 27),\n",
    "    \"Rama searches for Sita\".upper(): range(27, 29),\n",
    "    \"The land of the monkeys\".upper(): range(29, 33),\n",
    "    \"Hanuman meets Sita - Lanka is destroyed\".upper(): range(33, 37),\n",
    "    \"The War\".upper(): range(37, 46),  \n",
    "}\n",
    "\n",
    "# Assign chapter metadata\n",
    "tagged_documents = []\n",
    "for i, doc in enumerate(documents):\n",
    "    # print(f\"Processing page {i + 1} of {doc.page_content[0:50]}\")\n",
    "    for chapter, pages in chapter_map.items():\n",
    "        pages = list(pages)\n",
    "        # print(\"Pages:\",pages)\n",
    "        if i in pages:\n",
    "            chapter_name = chapter\n",
    "            break\n",
    "        else:\n",
    "            chapter_name = \"Unknown Chapter\"\n",
    "    \n",
    "    # print(f\"Chapter: {chapter_name} for page {i + 1}\")\n",
    "    new_doc = Document(page_content=doc.page_content, metadata={\"chapter\": chapter_name, **doc.metadata})\n",
    "    tagged_documents.append(new_doc)\n"
   ]
  },
  {
   "cell_type": "markdown",
   "id": "58c32931",
   "metadata": {},
   "source": [
    "## Step-2: Data Chunking (Paragraph Chunking)\n",
    "✅ Task:\n",
    "2. Chunk the text into manageable segments"
   ]
  },
  {
   "cell_type": "code",
   "execution_count": 7,
   "id": "ebf22c30",
   "metadata": {},
   "outputs": [],
   "source": [
    "# Paragraph-level splitting\n",
    "def split_into_paragraphs(text):\n",
    "    paragraphs = text.split(\"\\n\\n\")\n",
    "    return [Document(page_content=p.strip()) for p in paragraphs if p.strip()]\n",
    "\n",
    "documents = []\n",
    "for doc in tagged_documents:\n",
    "    paragraphs = split_into_paragraphs(doc.page_content)\n",
    "    documents.extend(paragraphs)"
   ]
  },
  {
   "cell_type": "markdown",
   "id": "e9cc1caa",
   "metadata": {},
   "source": [
    "## Step-3: Data Storage\n",
    "✅ Task:\n",
    "1. Generate embeddings from the chunks\n",
    "2. Store in a vector database (FAISS)"
   ]
  },
  {
   "cell_type": "code",
   "execution_count": 8,
   "id": "a4a3739c",
   "metadata": {},
   "outputs": [
    {
     "name": "stderr",
     "output_type": "stream",
     "text": [
      "/tmp/ipykernel_56844/2313260310.py:4: LangChainDeprecationWarning: The class `HuggingFaceEmbeddings` was deprecated in LangChain 0.2.2 and will be removed in 1.0. An updated version of the class exists in the :class:`~langchain-huggingface package and should be used instead. To use it run `pip install -U :class:`~langchain-huggingface` and import as `from :class:`~langchain_huggingface import HuggingFaceEmbeddings``.\n",
      "  embedding_model = HuggingFaceEmbeddings(model_name=\"all-MiniLM-L6-v2\",\n",
      "/home/avinash/Desktop/dr_avinash/generative_ai/lecture-8/torch/lib/python3.12/site-packages/tqdm/auto.py:21: TqdmWarning: IProgress not found. Please update jupyter and ipywidgets. See https://ipywidgets.readthedocs.io/en/stable/user_install.html\n",
      "  from .autonotebook import tqdm as notebook_tqdm\n"
     ]
    }
   ],
   "source": [
    "from langchain.embeddings import HuggingFaceEmbeddings\n",
    "\n",
    "# Embedder and vectorstore\n",
    "embedding_model = HuggingFaceEmbeddings(model_name=\"all-MiniLM-L6-v2\",\n",
    "                                        model_kwargs={\"device\": \"cpu\"})\n",
    "vectorstore = FAISS.from_documents(documents, embedding_model)\n"
   ]
  },
  {
   "cell_type": "markdown",
   "id": "c10342e6",
   "metadata": {},
   "source": [
    "## Step 4- Define LangGraph Nodes\n",
    "✅ Task:\n",
    "Create LangGraph nodes:\n",
    "1. retriever_node to fetch relevant chunks\n",
    "2. llm_node to answer based on those chunks"
   ]
  },
  {
   "cell_type": "code",
   "execution_count": 9,
   "id": "a2c70df6",
   "metadata": {},
   "outputs": [],
   "source": [
    "from langchain.prompts import PromptTemplate\n",
    "# Prompt template\n",
    "PROMPT_TEMPLATE = \"\"\"\n",
    "ou are a gentle storyteller who explains things in a simple, step-by-step way that even a child can understand.\n",
    "Whenever someone asks a question, you tell the answer as a short story around 100 words, using clear and easy words. Base your story only on the information provided in the context. When you refer to something from the book, kindly show the page number in square brackets like this: [Page 10].\n",
    "\n",
    "### Context Chunks:\n",
    "{context}\n",
    "\n",
    "### Question:\n",
    "{question}\n",
    "\n",
    "### Answer:\n",
    "\"\"\"\n",
    "\n",
    "# Prompt template\n",
    "prompt_template = PromptTemplate(\n",
    "input_variables=[\"context\", \"question\"],\n",
    "template=PROMPT_TEMPLATE )"
   ]
  },
  {
   "cell_type": "code",
   "execution_count": null,
   "id": "f2fa6bc9",
   "metadata": {},
   "outputs": [],
   "source": [
    "from langgraph.graph import StateGraph, END\n",
    "from langchain_openai import ChatOpenAI\n",
    "# Shared state type\n",
    "from typing import List, TypedDict, Optional\n",
    "\n",
    "# Load OpenAI API key from a file\n",
    "file = open('data/key.txt', 'r')\n",
    "# Read the API key from the file\n",
    "api_key = file.read().strip()\n",
    "# Close the file\n",
    "file.close()\n",
    "# 🧠 Set your OpenAI API key\n",
    "os.environ[\"OPENAI_API_KEY\"] = api_key\n",
    "\n",
    "\n",
    "retriever = vectorstore.as_retriever()\n",
    "llm = ChatOpenAI(model_name=\"gpt-4\", temperature=0.2)  # Remove openai_api_key=api_key\n",
    "\n",
    "\n",
    "class RAGState(TypedDict):\n",
    "    question: str # field for the question\n",
    "    context_docs: List[str] # field for context documents\n",
    "    answer: str # field for the answer\n",
    "    chat_history: List[str]  # field for memory\n",
    "    critique_llm: Optional[str]  # Field for post-analysis\n",
    "\n",
    "\n",
    "# Retrieval node\n",
    "def retrieve_node(state: RAGState) -> RAGState:\n",
    "    query_vector = embedding_model.embed_query(state['question'])\n",
    "    docs = vectorstore.similarity_search_by_vector(query_vector, k=3)\n",
    "    return {**state, \"context_docs\": [doc.page_content for doc in docs]}\n",
    "\n",
    "# LLM node\n",
    "def generate_answer_node(state: RAGState) -> RAGState:\n",
    "    context = \"\\n\\n\".join(state[\"context_docs\"])\n",
    "    chat_history = \"\\n\".join(state.get(\"chat_history\", []))\n",
    "    prompt = (\n",
    "        f\"You are a helpful assistant answering questions based on the Ramayana.\\n\\n\"\n",
    "        f\"Previous conversation:\\n{chat_history}\\n\\n\"\n",
    "        f\"Context:\\n{context}\\n\\n\"\n",
    "        f\"Current Question: {state['question']}\\n\"\n",
    "        f\"Answer:\"\n",
    "    )\n",
    "    answer = llm.invoke(prompt)\n",
    "    updated_chat = state[\"chat_history\"] + [f\"Q: {state['question']}\", f\"A: {answer.content}\"]\n",
    "    return {**state, \"answer\": answer.content, \"chat_history\": updated_chat}\n",
    "\n",
    "# Critique node\n",
    "def critique_node(state: RAGState) -> RAGState:\n",
    "    prompt = (\n",
    "        f\"As a critique assistant, rate the clarity and relevance of the following answer.\\n\"\n",
    "        f\"Question: {state['question']}\\n\"\n",
    "        f\"Answer: {state['answer']}\\n\"\n",
    "        f\"Rate from 1 (poor) to 5 (excellent) with a short justification:\"\n",
    "    )\n",
    "    critique_response = llm.invoke(prompt)\n",
    "    return {**state, \"critique_llm\": critique_response.content}\n",
    "\n"
   ]
  },
  {
   "cell_type": "markdown",
   "id": "5cedb7f8",
   "metadata": {},
   "source": [
    "## Step-5: Build LangGraph DAG\n",
    "✅ Task:\n",
    "1. Connect the nodes using StateGraph\n",
    "2. Set input/output schema"
   ]
  },
  {
   "cell_type": "code",
   "execution_count": 11,
   "id": "b9772eca",
   "metadata": {},
   "outputs": [],
   "source": [
    "graph = StateGraph(RAGState)\n",
    "graph.add_node(\"retrieve\", retrieve_node)\n",
    "graph.add_node(\"generate\", generate_answer_node)\n",
    "graph.add_node(\"critique\", critique_node)\n",
    "\n",
    "graph.set_entry_point(\"retrieve\")\n",
    "graph.add_edge(\"retrieve\", \"generate\")\n",
    "graph.add_edge(\"generate\", \"critique\")\n",
    "graph.set_finish_point(\"critique\")\n",
    "\n",
    "rag_chain = graph.compile()\n"
   ]
  },
  {
   "cell_type": "markdown",
   "id": "b26489fd",
   "metadata": {},
   "source": [
    "## Step 6: Ask Questions with LangGraph Agent\n",
    "✅ Task:\n",
    "1. Provide user questions\n",
    "2. Return LangGraph-generated answers"
   ]
  },
  {
   "cell_type": "code",
   "execution_count": 12,
   "id": "3bc1f12d",
   "metadata": {},
   "outputs": [
    {
     "name": "stdout",
     "output_type": "stream",
     "text": [
      "Welcome! Ask questions about the Ramayana (type 'exit' to stop).\n",
      "\n"
     ]
    },
    {
     "name": "stdout",
     "output_type": "stream",
     "text": [
      "Assistant: Kaikeyi sent Ram to the forest because of two boons granted to her by King Dasharatha in the past. She asked for these boons to be fulfilled at the instigation of her maid Manthara. The first boon was to make her son Bharatha the king of Ayodhya, and the second was to send Ram, the eldest son and the original heir to the throne, to the forest for 14 years. This was done to ensure that Bharatha's rule was unchallenged.\n",
      "Critique: 5\n",
      "\n",
      "The answer is very clear and directly addresses the question. It provides the reasons why Kaikeyi sent Ram to the forest, giving enough context and detail to fully explain the situation. The relevance is high as it directly answers the question and stays on topic.\n",
      "\n"
     ]
    }
   ],
   "source": [
    "# Start with an empty memory\n",
    "chat_state = {\n",
    "    \"chat_history\": [],\n",
    "}\n",
    "\n",
    "print(\"Welcome! Ask questions about the Ramayana (type 'exit' to stop).\\n\")\n",
    "\n",
    "while True:\n",
    "    user_question = input(\"You: \")\n",
    "    if user_question.lower() in {\"exit\", \"quit\"}:\n",
    "        break\n",
    "\n",
    "    # Build state for this turn\n",
    "    input_state = {\n",
    "        \"question\": user_question,\n",
    "        \"chat_history\": chat_state[\"chat_history\"],\n",
    "        \"context_docs\": [],\n",
    "        \"answer\": \"\",\n",
    "        \"critique_llm\": \"\",\n",
    "    }\n",
    "\n",
    "    # Run the graph\n",
    "    result = rag_chain.invoke(input_state)\n",
    "\n",
    "    # Update memory\n",
    "    chat_state[\"chat_history\"] = result[\"chat_history\"]\n",
    "\n",
    "    # Print response\n",
    "    print(f\"Assistant: {result['answer']}\")\n",
    "    print(f\"Critique: {result['critique_llm']}\\n\")\n"
   ]
  },
  {
   "cell_type": "markdown",
   "id": "876489e9",
   "metadata": {},
   "source": [
    "# Visualize LangGraph"
   ]
  },
  {
   "cell_type": "code",
   "execution_count": null,
   "id": "3d0690e9",
   "metadata": {},
   "outputs": [
    {
     "data": {
      "image/png": "[encoded data removed]",
      "text/plain": [
       "<IPython.core.display.Image object>"
      ]
     },
     "metadata": {},
     "output_type": "display_data"
    }
   ],
   "source": [
    "from IPython.display import Image, display\n",
    "\n",
    "graph_image_data = rag_chain.get_graph().draw_mermaid_png()\n",
    "display(Image(graph_image_data))"
   ]
  }
 ],
 "metadata": {
  "kernelspec": {
   "display_name": "torch",
   "language": "python",
   "name": "python3"
  },
  "language_info": {
   "codemirror_mode": {
    "name": "ipython",
    "version": 3
   },
   "file_extension": ".py",
   "mimetype": "text/x-python",
   "name": "python",
   "nbconvert_exporter": "python",
   "pygments_lexer": "ipython3",
   "version": "3.12.3"
  }
 },
 "nbformat": 4,
 "nbformat_minor": 5
}
