{
 "cells": [
  {
   "cell_type": "markdown",
   "id": "2304e85c",
   "metadata": {},
   "source": [
    "# Graph RAG\n",
    "## 1. Data Ingestion and Chunking"
   ]
  },
  {
   "cell_type": "code",
   "execution_count": 3,
   "id": "6691284f",
   "metadata": {},
   "outputs": [],
   "source": [
    "from langchain.document_loaders import PyMuPDFLoader\n",
    "from langchain.schema import Document\n",
    "\n",
    "# Step 1: Load PDF\n",
    "loader = PyMuPDFLoader(\"data/RAMAYANA.pdf\")\n",
    "documents = loader.load()\n",
    "\n",
    "\n"
   ]
  },
  {
   "cell_type": "code",
   "execution_count": 42,
   "id": "94fd4549",
   "metadata": {},
   "outputs": [],
   "source": [
    "# Example: define chapters by page ranges (you can adjust this)\n",
    "chapter_map = {\n",
    "    \"Introduction\".upper(): range(0, 2),\n",
    "    \"THE BIRTH OF RAMA\".upper(): range(2, 3),\n",
    "    \"The Valiant Princes\".upper(): range(3, 6),\n",
    "    \"SITA'S SWAYAMVAR\".upper(): range(6, 8),\n",
    "    \"KAIKEYI AND HER WISHES\".upper(): range(7, 21),\n",
    "    \"The demons in the forests\".upper(): range(21, 24),\n",
    "    \"The Kidnapping of Sita\".upper(): range(24, 27),\n",
    "    \"Rama searches for Sita\".upper(): range(27, 29),\n",
    "    \"The land of the monkeys\".upper(): range(29, 33),\n",
    "    \"Hanuman meets Sita - Lanka is destroyed\".upper(): range(33, 37),\n",
    "    \"The War\".upper(): range(37, 46),  \n",
    "}\n",
    "\n",
    "# Assign chapter metadata\n",
    "tagged_documents = []\n",
    "for i, doc in enumerate(documents):\n",
    "    # print(f\"Processing page {i + 1} of {doc.page_content[0:50]}\")\n",
    "    for chapter, pages in chapter_map.items():\n",
    "        pages = list(pages)\n",
    "        # print(\"Pages:\",pages)\n",
    "        if i in pages:\n",
    "            chapter_name = chapter\n",
    "            break\n",
    "        else:\n",
    "            chapter_name = \"Unknown Chapter\"\n",
    "    \n",
    "    # print(f\"Chapter: {chapter_name} for page {i + 1}\")\n",
    "    new_doc = Document(page_content=doc.page_content, metadata={\"chapter\": chapter_name, **doc.metadata})\n",
    "    tagged_documents.append(new_doc)"
   ]
  },
  {
   "cell_type": "code",
   "execution_count": null,
   "id": "49eebc22",
   "metadata": {},
   "outputs": [],
   "source": [
    "chapter_map = {}\n",
    "for doc in tagged_documents:\n",
    "    page_number = doc.metadata.get('page', 'N/A')\n",
    "    title = doc.metadata.get('chapter', 'Unknown Chapter')\n",
    "    page_content = doc.page_content\n",
    "    # print(f\"📄 Page {page_number} - Chapter: {title}\")\n",
    "    # print(f\"{page_content[:50]}...\\n\")\n",
    "    if title in chapter_map:\n",
    "        chapter_map[title] = chapter_map[title] + \"\\n\" + page_content\n",
    "    else:\n",
    "        chapter_map[title] = page_content"
   ]
  },
  {
   "cell_type": "code",
   "execution_count": null,
   "id": "b5f052d2",
   "metadata": {},
   "outputs": [
    {
     "name": "stdout",
     "output_type": "stream",
     "text": [
      "📖 Chapter: INTRODUCTION\n",
      "SRI RAMA JAYAM \n",
      "RAMA...\n",
      "\n",
      "📖 Chapter: THE BIRTH OF RAMA\n",
      "2 \n",
      " \n",
      "1 RAMAYANA FOR ...\n",
      "\n",
      "📖 Chapter: THE VALIANT PRINCES\n",
      "3 \n",
      " \n",
      "1.2 The Valiant...\n",
      "\n",
      "📖 Chapter: SITA'S SWAYAMVAR\n",
      "6 \n",
      " \n",
      "for Rama, Laksh...\n",
      "\n",
      "📖 Chapter: KAIKEYI AND HER WISHES\n",
      "8 \n",
      " \n",
      "invited to the ...\n",
      "\n",
      "📖 Chapter: THE DEMONS IN THE FORESTS\n",
      "21 \n",
      " \n",
      "A thatched hut...\n",
      "\n",
      "📖 Chapter: THE KIDNAPPING OF SITA\n",
      "24 \n",
      " \n",
      "When Maricha’s...\n",
      "\n",
      "📖 Chapter: RAMA SEARCHES FOR SITA\n",
      "27 \n",
      " \n",
      "hurried back t...\n",
      "\n",
      "📖 Chapter: THE LAND OF THE MONKEYS\n",
      "29 \n",
      " \n",
      "against a demo...\n",
      "\n",
      "📖 Chapter: HANUMAN MEETS SITA - LANKA IS \n",
      "33 \n",
      " \n",
      "1.9 Hanuman me...\n",
      "\n",
      "📖 Chapter: THE WAR\n",
      "37 \n",
      " \n",
      "among us who i...\n",
      "\n"
     ]
    }
   ],
   "source": [
    "# Step 2: Create a map of chapters with their content\n",
    "for title, content in chapter_map.items():\n",
    "    print(f\"📖 Chapter: {title[:30]}\")\n",
    "    print(f\"{content[:20]}...\\n\")"
   ]
  },
  {
   "cell_type": "markdown",
   "id": "cca65c45",
   "metadata": {},
   "source": [
    "## Perform Entity Linking"
   ]
  },
  {
   "cell_type": "code",
   "execution_count": 62,
   "id": "17bdf546",
   "metadata": {},
   "outputs": [
    {
     "name": "stdout",
     "output_type": "stream",
     "text": [
      "INTRODUCTION: ['Visalakshi Gopalan', 'Sita- Lanka']\n",
      "THE BIRTH OF RAMA: ['Agni', 'Kaushalya', 'Shatrugna', 'Sarayu', 'Kaikeyi', 'Dasharatha', 'Dasahratha', 'Lakshmana', 'Rama']\n",
      "THE VALIANT PRINCES: ['Sri \\nRama', 'Lanka', 'Shatrugna', 'Gautama', 'Vishwamitra', 'Rakshasas', 'Indra', 'Rakshass', 'Subahu', 'Dasharatha', 'Vashistha', 'Rama', 'Sita', 'Bharatha', 'Lakshmana', 'Maithili', 'Yagna', 'Mareecha', 'Gurus', 'Sarayu', 'Ganga', 'Vashishta', 'Taraka', 'Ashram', 'Janaka']\n",
      "SITA'S SWAYAMVAR: ['Shatrugna', 'Ram', 'Brahmin', 'Sri Rama', 'Dasharatha', 'Ramas', 'Rama', 'Ayodhya', 'Parushurama', 'Rishi', 'Mondovi', 'Kshatriyas', 'Kling Janaka', 'Brahmins', 'Lakshmana', 'Bharata', 'Mithila', 'Vashishta', 'Janaka']\n",
      "KAIKEYI AND HER WISHES: ['Parnakuti', 'Kosala', 'Kaushalya', 'Vedas', 'Shatrugna', 'Dasahratha', 'Sumnathara', 'Sri Rama', 'Sumanthara', 'Sumitra', 'Dasharatha', 'Vashistha', 'Kaika', 'Bharadwaj', 'Chitrkut', 'Rama', 'Yamuna', 'Asuras', 'Rama Spoke', 'Ayodhya', 'Dandakaranya', 'Manthara', 'Chitrakut', 'Bharatha', 'Sravanakumar', 'Kaikeyi', 'King Dasharatha', 'Welcoming Rama', 'Raghu', 'Lakshmana', 'Guha', 'kingdom', 'Utterly', 'Ganga', 'Sowmitri', 'Dashratha', 'Vashishta', 'Janaki']\n",
      "THE DEMONS IN THE FORESTS: ['Viman', 'Panchavati', 'Sita', 'Dushana', 'Lanka', 'Surpanaka', 'Khara', 'Rakshasa', 'Maricha', 'Lakshmana', 'Rama', 'Janaki', 'Sri Rama', 'Dandakaranya', 'Ravana']\n",
      "THE KIDNAPPING OF SITA: ['Sita', 'Lanka', 'Sanyasini', 'Sanyasi', 'Pushpak Viman', 'Maricha', 'Lakshmana', 'Rama', 'Jatayu', 'Ravana']\n",
      "RAMA SEARCHES FOR SITA: ['Godavari', 'Panchavati', 'Vanara', 'Jatayu’s', 'Rishi', 'Varanas*', 'Rakshasa', 'Pampa', 'Sugriva', 'Kabandha', 'Lakshmana', 'Rama', 'Rishyamukha', 'Sri Rama', 'Hanuman', 'Jatayu', 'Ravana']\n",
      "THE LAND OF THE MONKEYS: ['Vali', 'Lanka', 'Sugriva’s', 'Vayu', 'Kishkinda', 'Rakshasa', 'Mother Sita', 'Rama', 'Ravana', 'Lakshmana', 'Rishyamukha', 'Rishyamuka', 'Hanuman', 'Jatayu', 'Vanara', 'Gunuman', 'Jatayu’s', 'Vanaras', 'Sugriva']\n",
      "HANUMAN MEETS SITA - LANKA IS DESTROYED: ['Lanka', 'Sita- Lanka', 'Kaushalya', 'Shatrugna', 'Devendra', 'Vibhishana', 'Vayu', 'Lankini', 'Rakshasas', 'Rama', 'Ravana', 'Sita', 'Bharatha', 'Suras', 'Devas', 'Surasa', 'Hanuman', 'Ravenna', 'Vanara', 'Sugriva', 'Mandodari']\n",
      "THE WAR: ['Sri \\nRama', 'Ramayana', 'Lanka', 'Trishiraska', 'Shatrugna', 'Devanathaka', 'Vibhishana', 'Atikaya', 'Kailsh', 'Indrajit', 'Kubera', 'Kumbakarna', 'Rakshasas', 'Maharishi', 'Sri Rama', 'Rishis', 'Naranthaka', 'Surpanaka', 'Rakshasa', 'Angada', 'Rama', 'Rakshasi', 'Ravana', 'Viman', 'Bharatha', 'Sitadevi', 'Jambavantha', 'Neela', 'Kaikeyi', 'Jabavanta', 'Vishnu', 'Vibhisana', 'Devas', 'Yama', 'Lakshmana', 'Hanuman', 'Ravenna', 'Indra Shiva', 'Vanara', 'Sanjivini', 'Narayana', 'Vanaras', 'Sugriva', 'Vashishta', 'Ramayana .This', 'Mandodari']\n"
     ]
    }
   ],
   "source": [
    "import spacy\n",
    "nlp = spacy.load(\"en_core_web_sm\")\n",
    "\n",
    "# Extract named entities per chapter\n",
    "entity_map = {}\n",
    "for title, content in chapter_map.items():\n",
    "    doc = nlp(content)\n",
    "    entities = set(ent.text for ent in doc.ents if ent.label_ in [\"PERSON\", \"GPE\"])\n",
    "    entity_map[title] = list(entities)\n",
    "\n",
    "# Print linked entities\n",
    "for title, ents in entity_map.items():\n",
    "    print(f\"{title}: {ents}\")"
   ]
  },
  {
   "cell_type": "code",
   "execution_count": 68,
   "id": "3dcd8d46",
   "metadata": {},
   "outputs": [
    {
     "name": "stdout",
     "output_type": "stream",
     "text": [
      "Collecting pyvis\n",
      "  Downloading pyvis-0.3.2-py3-none-any.whl.metadata (1.7 kB)\n",
      "Requirement already satisfied: ipython>=5.3.0 in /home/avinash/Desktop/dr_avinash/generative_ai/lecture-8/torch/lib/python3.12/site-packages (from pyvis) (9.3.0)\n",
      "Requirement already satisfied: jinja2>=2.9.6 in /home/avinash/Desktop/dr_avinash/generative_ai/lecture-8/torch/lib/python3.12/site-packages (from pyvis) (3.1.4)\n",
      "Collecting jsonpickle>=1.4.1 (from pyvis)\n",
      "  Downloading jsonpickle-4.1.1-py3-none-any.whl.metadata (8.1 kB)\n",
      "Requirement already satisfied: networkx>=1.11 in /home/avinash/Desktop/dr_avinash/generative_ai/lecture-8/torch/lib/python3.12/site-packages (from pyvis) (3.3)\n",
      "Requirement already satisfied: decorator in /home/avinash/Desktop/dr_avinash/generative_ai/lecture-8/torch/lib/python3.12/site-packages (from ipython>=5.3.0->pyvis) (5.2.1)\n",
      "Requirement already satisfied: ipython-pygments-lexers in /home/avinash/Desktop/dr_avinash/generative_ai/lecture-8/torch/lib/python3.12/site-packages (from ipython>=5.3.0->pyvis) (1.1.1)\n",
      "Requirement already satisfied: jedi>=0.16 in /home/avinash/Desktop/dr_avinash/generative_ai/lecture-8/torch/lib/python3.12/site-packages (from ipython>=5.3.0->pyvis) (0.19.2)\n",
      "Requirement already satisfied: matplotlib-inline in /home/avinash/Desktop/dr_avinash/generative_ai/lecture-8/torch/lib/python3.12/site-packages (from ipython>=5.3.0->pyvis) (0.1.7)\n",
      "Requirement already satisfied: pexpect>4.3 in /home/avinash/Desktop/dr_avinash/generative_ai/lecture-8/torch/lib/python3.12/site-packages (from ipython>=5.3.0->pyvis) (4.9.0)\n",
      "Requirement already satisfied: prompt_toolkit<3.1.0,>=3.0.41 in /home/avinash/Desktop/dr_avinash/generative_ai/lecture-8/torch/lib/python3.12/site-packages (from ipython>=5.3.0->pyvis) (3.0.51)\n",
      "Requirement already satisfied: pygments>=2.4.0 in /home/avinash/Desktop/dr_avinash/generative_ai/lecture-8/torch/lib/python3.12/site-packages (from ipython>=5.3.0->pyvis) (2.19.1)\n",
      "Requirement already satisfied: stack_data in /home/avinash/Desktop/dr_avinash/generative_ai/lecture-8/torch/lib/python3.12/site-packages (from ipython>=5.3.0->pyvis) (0.6.3)\n",
      "Requirement already satisfied: traitlets>=5.13.0 in /home/avinash/Desktop/dr_avinash/generative_ai/lecture-8/torch/lib/python3.12/site-packages (from ipython>=5.3.0->pyvis) (5.14.3)\n",
      "Requirement already satisfied: wcwidth in /home/avinash/Desktop/dr_avinash/generative_ai/lecture-8/torch/lib/python3.12/site-packages (from prompt_toolkit<3.1.0,>=3.0.41->ipython>=5.3.0->pyvis) (0.2.13)\n",
      "Requirement already satisfied: parso<0.9.0,>=0.8.4 in /home/avinash/Desktop/dr_avinash/generative_ai/lecture-8/torch/lib/python3.12/site-packages (from jedi>=0.16->ipython>=5.3.0->pyvis) (0.8.4)\n",
      "Requirement already satisfied: MarkupSafe>=2.0 in /home/avinash/Desktop/dr_avinash/generative_ai/lecture-8/torch/lib/python3.12/site-packages (from jinja2>=2.9.6->pyvis) (2.1.5)\n",
      "Requirement already satisfied: ptyprocess>=0.5 in /home/avinash/Desktop/dr_avinash/generative_ai/lecture-8/torch/lib/python3.12/site-packages (from pexpect>4.3->ipython>=5.3.0->pyvis) (0.7.0)\n",
      "Requirement already satisfied: executing>=1.2.0 in /home/avinash/Desktop/dr_avinash/generative_ai/lecture-8/torch/lib/python3.12/site-packages (from stack_data->ipython>=5.3.0->pyvis) (2.2.0)\n",
      "Requirement already satisfied: asttokens>=2.1.0 in /home/avinash/Desktop/dr_avinash/generative_ai/lecture-8/torch/lib/python3.12/site-packages (from stack_data->ipython>=5.3.0->pyvis) (3.0.0)\n",
      "Requirement already satisfied: pure-eval in /home/avinash/Desktop/dr_avinash/generative_ai/lecture-8/torch/lib/python3.12/site-packages (from stack_data->ipython>=5.3.0->pyvis) (0.2.3)\n",
      "Downloading pyvis-0.3.2-py3-none-any.whl (756 kB)\n",
      "\u001b[2K   \u001b[90m━━━━━━━━━━━━━━━━━━━━━━━━━━━━━━━━━━━━━━━━\u001b[0m \u001b[32m756.0/756.0 kB\u001b[0m \u001b[31m3.4 MB/s\u001b[0m eta \u001b[36m0:00:00\u001b[0m\n",
      "\u001b[?25hDownloading jsonpickle-4.1.1-py3-none-any.whl (47 kB)\n",
      "Installing collected packages: jsonpickle, pyvis\n",
      "\u001b[2K   \u001b[90m━━━━━━━━━━━━━━━━━━━━━━━━━━━━━━━━━━━━━━━━\u001b[0m \u001b[32m2/2\u001b[0m [pyvis]32m1/2\u001b[0m [pyvis]\n",
      "\u001b[1A\u001b[2KSuccessfully installed jsonpickle-4.1.1 pyvis-0.3.2\n"
     ]
    }
   ],
   "source": [
    "# !pip install spacy\n",
    "# !python -m spacy download en_core_web_sm\n",
    "!pip install pyvis\n"
   ]
  },
  {
   "cell_type": "markdown",
   "id": "b4bdc09e",
   "metadata": {},
   "source": [
    "## Construct the Knowledge Graph"
   ]
  },
  {
   "cell_type": "code",
   "execution_count": 63,
   "id": "c4b57216",
   "metadata": {},
   "outputs": [
    {
     "name": "stdout",
     "output_type": "stream",
     "text": [
      "Graph edges:\n",
      "('INTRODUCTION', 'HANUMAN MEETS SITA - LANKA IS DESTROYED', {'shared_entities': ['Sita- Lanka']})\n",
      "('THE BIRTH OF RAMA', 'THE VALIANT PRINCES', {'shared_entities': ['Shatrugna', 'Sarayu', 'Dasharatha', 'Lakshmana', 'Rama']})\n",
      "('THE BIRTH OF RAMA', \"SITA'S SWAYAMVAR\", {'shared_entities': ['Lakshmana', 'Rama', 'Shatrugna', 'Dasharatha']})\n",
      "('THE BIRTH OF RAMA', 'KAIKEYI AND HER WISHES', {'shared_entities': ['Kaushalya', 'Shatrugna', 'Dasharatha', 'Kaikeyi', 'Dasahratha', 'Lakshmana', 'Rama']})\n",
      "('THE BIRTH OF RAMA', 'THE DEMONS IN THE FORESTS', {'shared_entities': ['Lakshmana', 'Rama']})\n",
      "('THE BIRTH OF RAMA', 'THE KIDNAPPING OF SITA', {'shared_entities': ['Lakshmana', 'Rama']})\n",
      "('THE BIRTH OF RAMA', 'RAMA SEARCHES FOR SITA', {'shared_entities': ['Lakshmana', 'Rama']})\n",
      "('THE BIRTH OF RAMA', 'THE LAND OF THE MONKEYS', {'shared_entities': ['Lakshmana', 'Rama']})\n",
      "('THE BIRTH OF RAMA', 'HANUMAN MEETS SITA - LANKA IS DESTROYED', {'shared_entities': ['Kaushalya', 'Rama', 'Shatrugna']})\n",
      "('THE BIRTH OF RAMA', 'THE WAR', {'shared_entities': ['Lakshmana', 'Rama', 'Shatrugna', 'Kaikeyi']})\n",
      "('THE VALIANT PRINCES', \"SITA'S SWAYAMVAR\", {'shared_entities': ['Shatrugna', 'Dasharatha', 'Vashishta', 'Lakshmana', 'Rama', 'Janaka']})\n",
      "('THE VALIANT PRINCES', 'KAIKEYI AND HER WISHES', {'shared_entities': ['Bharatha', 'Shatrugna', 'Ganga', 'Dasharatha', 'Vashistha', 'Vashishta', 'Lakshmana', 'Rama']})\n",
      "('THE VALIANT PRINCES', 'THE DEMONS IN THE FORESTS', {'shared_entities': ['Lakshmana', 'Rama', 'Sita', 'Lanka']})\n",
      "('THE VALIANT PRINCES', 'THE KIDNAPPING OF SITA', {'shared_entities': ['Lakshmana', 'Rama', 'Sita', 'Lanka']})\n",
      "('THE VALIANT PRINCES', 'RAMA SEARCHES FOR SITA', {'shared_entities': ['Lakshmana', 'Rama']})\n",
      "('THE VALIANT PRINCES', 'THE LAND OF THE MONKEYS', {'shared_entities': ['Lakshmana', 'Rama', 'Lanka']})\n",
      "('THE VALIANT PRINCES', 'HANUMAN MEETS SITA - LANKA IS DESTROYED', {'shared_entities': ['Rama', 'Lanka', 'Sita', 'Bharatha', 'Shatrugna', 'Rakshasas']})\n",
      "('THE VALIANT PRINCES', 'THE WAR', {'shared_entities': ['Sri \\nRama', 'Rama', 'Lanka', 'Bharatha', 'Shatrugna', 'Vashishta', 'Lakshmana', 'Rakshasas']})\n",
      "(\"SITA'S SWAYAMVAR\", 'KAIKEYI AND HER WISHES', {'shared_entities': ['Shatrugna', 'Dasharatha', 'Vashishta', 'Lakshmana', 'Rama', 'Sri Rama', 'Ayodhya']})\n",
      "(\"SITA'S SWAYAMVAR\", 'THE DEMONS IN THE FORESTS', {'shared_entities': ['Lakshmana', 'Rama', 'Sri Rama']})\n",
      "(\"SITA'S SWAYAMVAR\", 'THE KIDNAPPING OF SITA', {'shared_entities': ['Lakshmana', 'Rama']})\n",
      "(\"SITA'S SWAYAMVAR\", 'RAMA SEARCHES FOR SITA', {'shared_entities': ['Lakshmana', 'Rama', 'Rishi', 'Sri Rama']})\n",
      "(\"SITA'S SWAYAMVAR\", 'THE LAND OF THE MONKEYS', {'shared_entities': ['Lakshmana', 'Rama']})\n",
      "(\"SITA'S SWAYAMVAR\", 'HANUMAN MEETS SITA - LANKA IS DESTROYED', {'shared_entities': ['Rama', 'Shatrugna']})\n",
      "(\"SITA'S SWAYAMVAR\", 'THE WAR', {'shared_entities': ['Shatrugna', 'Vashishta', 'Lakshmana', 'Rama', 'Sri Rama']})\n",
      "('KAIKEYI AND HER WISHES', 'THE DEMONS IN THE FORESTS', {'shared_entities': ['Lakshmana', 'Rama', 'Janaki', 'Sri Rama', 'Dandakaranya']})\n",
      "('KAIKEYI AND HER WISHES', 'THE KIDNAPPING OF SITA', {'shared_entities': ['Lakshmana', 'Rama']})\n",
      "('KAIKEYI AND HER WISHES', 'RAMA SEARCHES FOR SITA', {'shared_entities': ['Lakshmana', 'Rama', 'Sri Rama']})\n",
      "('KAIKEYI AND HER WISHES', 'THE LAND OF THE MONKEYS', {'shared_entities': ['Lakshmana', 'Rama']})\n",
      "('KAIKEYI AND HER WISHES', 'HANUMAN MEETS SITA - LANKA IS DESTROYED', {'shared_entities': ['Kaushalya', 'Rama', 'Shatrugna', 'Bharatha']})\n",
      "('KAIKEYI AND HER WISHES', 'THE WAR', {'shared_entities': ['Bharatha', 'Shatrugna', 'Kaikeyi', 'Vashishta', 'Lakshmana', 'Rama', 'Sri Rama']})\n",
      "('THE DEMONS IN THE FORESTS', 'THE KIDNAPPING OF SITA', {'shared_entities': ['Sita', 'Lanka', 'Maricha', 'Lakshmana', 'Rama', 'Ravana']})\n",
      "('THE DEMONS IN THE FORESTS', 'RAMA SEARCHES FOR SITA', {'shared_entities': ['Panchavati', 'Rakshasa', 'Lakshmana', 'Rama', 'Sri Rama', 'Ravana']})\n",
      "('THE DEMONS IN THE FORESTS', 'THE LAND OF THE MONKEYS', {'shared_entities': ['Lanka', 'Rakshasa', 'Lakshmana', 'Rama', 'Ravana']})\n",
      "('THE DEMONS IN THE FORESTS', 'HANUMAN MEETS SITA - LANKA IS DESTROYED', {'shared_entities': ['Rama', 'Sita', 'Lanka', 'Ravana']})\n",
      "('THE DEMONS IN THE FORESTS', 'THE WAR', {'shared_entities': ['Viman', 'Lanka', 'Surpanaka', 'Rakshasa', 'Lakshmana', 'Rama', 'Sri Rama', 'Ravana']})\n",
      "('THE KIDNAPPING OF SITA', 'RAMA SEARCHES FOR SITA', {'shared_entities': ['Lakshmana', 'Rama', 'Jatayu', 'Ravana']})\n",
      "('THE KIDNAPPING OF SITA', 'THE LAND OF THE MONKEYS', {'shared_entities': ['Lanka', 'Lakshmana', 'Rama', 'Jatayu', 'Ravana']})\n",
      "('THE KIDNAPPING OF SITA', 'HANUMAN MEETS SITA - LANKA IS DESTROYED', {'shared_entities': ['Rama', 'Sita', 'Lanka', 'Ravana']})\n",
      "('THE KIDNAPPING OF SITA', 'THE WAR', {'shared_entities': ['Lakshmana', 'Rama', 'Lanka', 'Ravana']})\n",
      "('RAMA SEARCHES FOR SITA', 'THE LAND OF THE MONKEYS', {'shared_entities': ['Vanara', 'Jatayu’s', 'Rakshasa', 'Sugriva', 'Lakshmana', 'Rama', 'Rishyamukha', 'Hanuman', 'Jatayu', 'Ravana']})\n",
      "('RAMA SEARCHES FOR SITA', 'HANUMAN MEETS SITA - LANKA IS DESTROYED', {'shared_entities': ['Vanara', 'Sugriva', 'Rama', 'Hanuman', 'Ravana']})\n",
      "('RAMA SEARCHES FOR SITA', 'THE WAR', {'shared_entities': ['Vanara', 'Rakshasa', 'Sugriva', 'Lakshmana', 'Rama', 'Sri Rama', 'Hanuman', 'Ravana']})\n",
      "('THE LAND OF THE MONKEYS', 'HANUMAN MEETS SITA - LANKA IS DESTROYED', {'shared_entities': ['Lanka', 'Vanara', 'Vayu', 'Sugriva', 'Rama', 'Hanuman', 'Ravana']})\n",
      "('THE LAND OF THE MONKEYS', 'THE WAR', {'shared_entities': ['Lanka', 'Vanara', 'Vanaras', 'Rakshasa', 'Sugriva', 'Lakshmana', 'Rama', 'Hanuman', 'Ravana']})\n",
      "('HANUMAN MEETS SITA - LANKA IS DESTROYED', 'THE WAR', {'shared_entities': ['Rama', 'Lanka', 'Bharatha', 'Vanara', 'Shatrugna', 'Vibhishana', 'Ravenna', 'Devas', 'Sugriva', 'Rakshasas', 'Mandodari', 'Hanuman', 'Ravana']})\n"
     ]
    }
   ],
   "source": [
    "import networkx as nx\n",
    "\n",
    "# Create graph\n",
    "G = nx.Graph()\n",
    "\n",
    "# Add nodes\n",
    "for title in chapter_map.keys():\n",
    "    G.add_node(title, content=chapter_map[title], entities=entity_map[title])\n",
    "\n",
    "# Add edges if chapters share common entities\n",
    "titles = list(chapter_map.keys())\n",
    "for i in range(len(titles)):\n",
    "    for j in range(i+1, len(titles)):\n",
    "        common = set(entity_map[titles[i]]) & set(entity_map[titles[j]])\n",
    "        if common:\n",
    "            G.add_edge(titles[i], titles[j], shared_entities=list(common))\n",
    "\n",
    "# Print graph structure\n",
    "print(\"Graph edges:\")\n",
    "for edge in G.edges(data=True):\n",
    "    print(edge)\n"
   ]
  },
  {
   "cell_type": "code",
   "execution_count": 74,
   "id": "7a733246",
   "metadata": {},
   "outputs": [
    {
     "name": "stdout",
     "output_type": "stream",
     "text": [
      "Warning: When  cdn_resources is 'local' jupyter notebook has issues displaying graphics on chrome/safari. Use cdn_resources='in_line' or cdn_resources='remote' if you have issues viewing graphics in a notebook.\n",
      "graph_rag_ramayana.html\n",
      "Graph saved as graph_rag_ramayana.html\n"
     ]
    }
   ],
   "source": [
    "from pyvis.network import Network\n",
    "import networkx as nx\n",
    "\n",
    "G_nx = G.copy()\n",
    "net = Network(height=\"900px\", width=\"1000px\", notebook=True, directed=False)\n",
    "\n",
    "# Enable physics and set options for better spacing\n",
    "net.set_options(\"\"\"\n",
    "var options = {\n",
    "  \"nodes\": {\n",
    "    \"font\": {\n",
    "      \"size\": 24\n",
    "    },\n",
    "    \"size\": 30\n",
    "  },\n",
    "  \"edges\": {\n",
    "    \"font\": {\n",
    "      \"size\": 18,\n",
    "      \"align\": \"middle\"\n",
    "    },\n",
    "    \"color\": {\n",
    "      \"inherit\": true\n",
    "    },\n",
    "    \"smooth\": false\n",
    "  },\n",
    "  \"physics\": {\n",
    "    \"enabled\": true,\n",
    "    \"barnesHut\": {\n",
    "      \"gravitationalConstant\": -30000,\n",
    "      \"centralGravity\": 0.3,\n",
    "      \"springLength\": 250,\n",
    "      \"springConstant\": 0.04,\n",
    "      \"damping\": 0.09,\n",
    "      \"avoidOverlap\": 1\n",
    "    },\n",
    "    \"minVelocity\": 0.75\n",
    "  }\n",
    "}\n",
    "\"\"\")\n",
    "\n",
    "for node in G_nx.nodes():\n",
    "    net.add_node(node, label=node)\n",
    "\n",
    "for u, v, data in G_nx.edges(data=True):\n",
    "    label = ', '.join(data.get('shared_entities', [])[:2])\n",
    "    if len(data.get('shared_entities', [])) > 2:\n",
    "        label += '...'\n",
    "    net.add_edge(u, v, title=label, label=label)\n",
    "\n",
    "net.show(\"graph_rag_ramayana.html\")\n",
    "print(\"Graph saved as graph_rag_ramayana.html\")"
   ]
  },
  {
   "cell_type": "markdown",
   "id": "53a9fddd",
   "metadata": {},
   "source": [
    "## Query-Time Path-Based Retrieval"
   ]
  },
  {
   "cell_type": "code",
   "execution_count": 83,
   "id": "37a6896b",
   "metadata": {},
   "outputs": [
    {
     "name": "stdout",
     "output_type": "stream",
     "text": [
      "🔗 Node: KAIKEYI AND HER WISHES\n",
      "8    invited to the city to provide entertainment to the people. The chiefs  of the city were instructed to decorate it on a very grand scale. Even  while these preparations were going on. Dasahratha had a talk with  Rama and advised him about how king should conduct himself. \"A  king should never f...\n",
      "\n",
      "🔗 Node: THE BIRTH OF RAMA\n",
      "2    1 RAMAYANA FOR CHILDREN    1.1 THE BIRTH OF RAMA    Ayodhya was a magnificent city on the banks of the river Sarayu in  Kosala Country .It had wide roads, huge buildings, beautiful parks  and glittering shops. The people of the city lived a happy and  contented life as they were ruled by a wond...\n",
      "\n",
      "🔗 Node: THE WAR\n",
      "37    among us who is capable of flying across the ocean. So, Please tell  us how we can get there.” Rama also asked his trusted friend about  Lanka’s city plan, about its main gates, about trenches built around  the fort and many more such information to plan the attack: Though  Hanuman had burnt d...\n",
      "\n"
     ]
    }
   ],
   "source": [
    "from difflib import get_close_matches\n",
    "\n",
    "query_entity = \"Kaikeyi\"\n",
    "connected_nodes = []\n",
    "\n",
    "def entity_match(entity_list, query):\n",
    "    return any(\n",
    "        query.lower() == ent.lower() or query.lower() in ent.lower().split()\n",
    "        for ent in entity_list\n",
    "    )\n",
    "\n",
    "# Search nodes containing Kaikeyi exactly\n",
    "for node, data in G.nodes(data=True):\n",
    "    \n",
    "    if entity_match(data[\"entities\"], query_entity):\n",
    "        connected_nodes.append(node)\n",
    "        # connected_nodes.extend(nx.neighbors(G, node))\n",
    "        # print(f\"Checking node: {node} with entities: {data['entities']}\")\n",
    "\n",
    "# Deduplicate and print\n",
    "unique_nodes = sorted(set(connected_nodes))\n",
    "for node in unique_nodes:\n",
    "    content_preview = G.nodes[node]['content'][:300].replace('\\n', ' ')\n",
    "    print(f\"🔗 Node: {node}\\n{content_preview}...\\n\")\n"
   ]
  },
  {
   "cell_type": "markdown",
   "id": "e0543975",
   "metadata": {},
   "source": [
    "## RAG Answer Generation"
   ]
  },
  {
   "cell_type": "code",
   "execution_count": null,
   "id": "db552f59",
   "metadata": {},
   "outputs": [
    {
     "name": "stdout",
     "output_type": "stream",
     "text": [
      "Number of nodes in context: 3\n",
      "Number of words in context: 7707\n",
      "-------------------------------------------------------------\n",
      "🧠 Answer:\n",
      " Kaikeyi played a negative role in Rama's exile. She was manipulated by her maid, Manthara, to demand that Rama be banished to the forest for 14 years and that Bharatha be crowned king instead. This led to Rama, Sita, and Lakshmana going into exile in the forest.\n"
     ]
    }
   ],
   "source": [
    "from langchain.chat_models import ChatOpenAI\n",
    "from langchain.chains import RetrievalQA\n",
    "from langchain.prompts import PromptTemplate\n",
    "import os\n",
    "\n",
    "# Load OpenAI API key from a file\n",
    "file = open('data/key.txt', 'r')\n",
    "# Read the API key from the file\n",
    "api_key = file.read().strip()\n",
    "# Close the file\n",
    "file.close()\n",
    "# 🧠 Set your OpenAI API key\n",
    "os.environ[\"OPENAI_API_KEY\"] = api_key\n",
    "\n",
    "llm = ChatOpenAI(temperature=0)\n",
    "\n",
    "# Concatenate context\n",
    "context = \"\\n\".join(G.nodes[node][\"content\"] for node in unique_nodes)\n",
    "print(\"Number of nodes in context:\", len(unique_nodes))\n",
    "print(\"Number of words in context:\", len(context.split()))\n",
    "print(\"-------------------------------------------------------------\")\n",
    "prompt = PromptTemplate(\n",
    "    input_variables=[\"context\", \"question\"],\n",
    "    template=\"Answer the question based on the context below:\\n\\n{context}\\n\\nQuestion: {question}\\nAnswer:\"\n",
    ")\n",
    "\n",
    "# Query\n",
    "query = \"What role did Kaikeyi play in Rama's exile?\"\n",
    "final_prompt = prompt.format(context=context, question=query)\n",
    "response = llm.invoke(final_prompt)\n",
    "print(\"🧠 Answer:\\n\", response.content)\n"
   ]
  },
  {
   "cell_type": "code",
   "execution_count": 91,
   "id": "9727cc2e",
   "metadata": {},
   "outputs": [
    {
     "name": "stdout",
     "output_type": "stream",
     "text": [
      "🧠 Answer:\n",
      " Kaikeyi played a negative role in Rama's\n",
      "exile. She was manipulated by her maid,\n",
      "Manthara, to demand that Rama be banished\n",
      "to the forest for 14 years and\n",
      "that Bharatha be crowned king instead. This\n",
      "led to Rama, Sita, and Lakshmana going\n",
      "into exile in the forest.\n"
     ]
    }
   ],
   "source": [
    "print(\"🧠 Answer:\\n\", '\\n'.join([' '.join(response.content.split()[i:i + 7]) for i in range(0, len(response.content.split()), 7)]))"
   ]
  }
 ],
 "metadata": {
  "kernelspec": {
   "display_name": "torch",
   "language": "python",
   "name": "python3"
  },
  "language_info": {
   "codemirror_mode": {
    "name": "ipython",
    "version": 3
   },
   "file_extension": ".py",
   "mimetype": "text/x-python",
   "name": "python",
   "nbconvert_exporter": "python",
   "pygments_lexer": "ipython3",
   "version": "3.12.3"
  }
 },
 "nbformat": 4,
 "nbformat_minor": 5
}
