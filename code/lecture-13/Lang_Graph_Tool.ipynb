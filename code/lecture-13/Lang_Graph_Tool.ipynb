{
 "cells": [
  {
   "cell_type": "markdown",
   "id": "0aa213c2",
   "metadata": {},
   "source": [
    "# Ask Questions from Ramayan using LangGraph\n",
    "In this project, we aim to build an intelligent agent that can read the ancient Indian epic \"Ramayana - Childerens book\", understand its content, and answer user questions based on it. To do this, we use a powerful Retrieval-Augmented Generation (RAG) pipeline — where the AI first retrieves relevant parts of the document, then generates an answer using a Large Language Model (LLM).\n",
    "\n",
    "**The system not only help with the answers but at the end of the conversation, send the chat summary to your email**\n",
    "\n",
    "To manage the control flow and modular structure of the system, we use LangGraph — a library that enables building stateful, multi-step AI workflows using a graph-based abstraction.\n",
    "\n",
    "## Step-1: Data Ingestion\n",
    "✅ Task:\n",
    "1. Load the Ramayan.pdf\n"
   ]
  },
  {
   "cell_type": "code",
   "execution_count": 1,
   "id": "f1df63e9",
   "metadata": {},
   "outputs": [],
   "source": [
    "# !pip install langgraph\n",
    "# !pip install --upgrade langchain langchain-core langchain-openai\n",
    "# !pip install graphviz\n",
    "# !pip install 'langgraph[visualization]'\n",
    "\n"
   ]
  },
  {
   "cell_type": "code",
   "execution_count": 2,
   "id": "8ab7fc0c",
   "metadata": {},
   "outputs": [
    {
     "name": "stderr",
     "output_type": "stream",
     "text": [
      "/home/avinash/Desktop/dr_avinash/generative_ai/lecture-8/torch/lib/python3.12/site-packages/langchain_community/embeddings/sentence_transformer.py:3: LangChainDeprecationWarning: As of langchain-core 0.3.0, LangChain uses pydantic v2 internally. The langchain_core.pydantic_v1 module was a compatibility shim for pydantic v1, and should no longer be used. Please update the code to import from Pydantic directly.\n",
      "\n",
      "For example, replace imports like: `from langchain_core.pydantic_v1 import BaseModel`\n",
      "with: `from pydantic import BaseModel`\n",
      "or the v1 compatibility namespace if you are working in a code base that has not been fully upgraded to pydantic 2 yet. \tfrom pydantic.v1 import BaseModel\n",
      "\n",
      "  from langchain_community.embeddings.huggingface import HuggingFaceEmbeddings\n"
     ]
    }
   ],
   "source": [
    "from langchain.embeddings import SentenceTransformerEmbeddings\n",
    "from langchain.vectorstores import FAISS\n",
    "from langchain.text_splitter import RecursiveCharacterTextSplitter\n",
    "from langchain.document_loaders import TextLoader\n",
    "from langchain.document_loaders import PyMuPDFLoader\n",
    "from langchain.schema import Document\n",
    "import os\n"
   ]
  },
  {
   "cell_type": "code",
   "execution_count": 3,
   "id": "ccd649e1",
   "metadata": {},
   "outputs": [],
   "source": [
    "# Load the PDF\n",
    "loader = PyMuPDFLoader(\"data/RAMAYANA.pdf\")\n",
    "documents = loader.load()\n",
    "\n",
    "# Example: define chapters by page ranges (you can adjust this)\n",
    "chapter_map = {\n",
    "    \"Introduction\".upper(): range(0, 2),\n",
    "    \"THE BIRTH OF RAMA\".upper(): range(2, 3),\n",
    "    \"The Valiant Princes\".upper(): range(3, 6),\n",
    "    \"SITA'S SWAYAMVAR\".upper(): range(6, 8),\n",
    "    \"KAIKEYI AND HER WISHES\".upper(): range(7, 21),\n",
    "    \"The demons in the forests\".upper(): range(21, 24),\n",
    "    \"The Kidnapping of Sita\".upper(): range(24, 27),\n",
    "    \"Rama searches for Sita\".upper(): range(27, 29),\n",
    "    \"The land of the monkeys\".upper(): range(29, 33),\n",
    "    \"Hanuman meets Sita - Lanka is destroyed\".upper(): range(33, 37),\n",
    "    \"The War\".upper(): range(37, 46),  \n",
    "}\n",
    "\n",
    "# Assign chapter metadata\n",
    "tagged_documents = []\n",
    "for i, doc in enumerate(documents):\n",
    "    # print(f\"Processing page {i + 1} of {doc.page_content[0:50]}\")\n",
    "    for chapter, pages in chapter_map.items():\n",
    "        pages = list(pages)\n",
    "        # print(\"Pages:\",pages)\n",
    "        if i in pages:\n",
    "            chapter_name = chapter\n",
    "            break\n",
    "        else:\n",
    "            chapter_name = \"Unknown Chapter\"\n",
    "    \n",
    "    # print(f\"Chapter: {chapter_name} for page {i + 1}\")\n",
    "    new_doc = Document(page_content=doc.page_content, metadata={\"chapter\": chapter_name, **doc.metadata})\n",
    "    tagged_documents.append(new_doc)\n"
   ]
  },
  {
   "cell_type": "markdown",
   "id": "58c32931",
   "metadata": {},
   "source": [
    "## Step-2: Data Chunking (Paragraph Chunking)\n",
    "✅ Task:\n",
    "2. Chunk the text into manageable segments"
   ]
  },
  {
   "cell_type": "code",
   "execution_count": 4,
   "id": "ebf22c30",
   "metadata": {},
   "outputs": [],
   "source": [
    "# Paragraph-level splitting\n",
    "def split_into_paragraphs(text):\n",
    "    paragraphs = text.split(\"\\n\\n\")\n",
    "    return [Document(page_content=p.strip()) for p in paragraphs if p.strip()]\n",
    "\n",
    "documents = []\n",
    "for doc in tagged_documents:\n",
    "    paragraphs = split_into_paragraphs(doc.page_content)\n",
    "    documents.extend(paragraphs)"
   ]
  },
  {
   "cell_type": "markdown",
   "id": "e9cc1caa",
   "metadata": {},
   "source": [
    "## Step-3: Data Storage\n",
    "✅ Task:\n",
    "1. Generate embeddings from the chunks\n",
    "2. Store in a vector database (FAISS)"
   ]
  },
  {
   "cell_type": "code",
   "execution_count": 5,
   "id": "a4a3739c",
   "metadata": {},
   "outputs": [
    {
     "name": "stderr",
     "output_type": "stream",
     "text": [
      "/tmp/ipykernel_57020/2313260310.py:4: LangChainDeprecationWarning: The class `HuggingFaceEmbeddings` was deprecated in LangChain 0.2.2 and will be removed in 1.0. An updated version of the class exists in the :class:`~langchain-huggingface package and should be used instead. To use it run `pip install -U :class:`~langchain-huggingface` and import as `from :class:`~langchain_huggingface import HuggingFaceEmbeddings``.\n",
      "  embedding_model = HuggingFaceEmbeddings(model_name=\"all-MiniLM-L6-v2\",\n",
      "/home/avinash/Desktop/dr_avinash/generative_ai/lecture-8/torch/lib/python3.12/site-packages/tqdm/auto.py:21: TqdmWarning: IProgress not found. Please update jupyter and ipywidgets. See https://ipywidgets.readthedocs.io/en/stable/user_install.html\n",
      "  from .autonotebook import tqdm as notebook_tqdm\n"
     ]
    }
   ],
   "source": [
    "from langchain.embeddings import HuggingFaceEmbeddings\n",
    "\n",
    "# Embedder and vectorstore\n",
    "embedding_model = HuggingFaceEmbeddings(model_name=\"all-MiniLM-L6-v2\",\n",
    "                                        model_kwargs={\"device\": \"cpu\"})\n",
    "vectorstore = FAISS.from_documents(documents, embedding_model)\n"
   ]
  },
  {
   "cell_type": "markdown",
   "id": "c10342e6",
   "metadata": {},
   "source": [
    "## Step 4- Define LangGraph Nodes\n",
    "✅ Task:\n",
    "Create LangGraph nodes:\n",
    "1. retriever_node to fetch relevant chunks\n",
    "2. llm_node to answer based on those chunks"
   ]
  },
  {
   "cell_type": "code",
   "execution_count": 6,
   "id": "a2c70df6",
   "metadata": {},
   "outputs": [],
   "source": [
    "from langchain.prompts import PromptTemplate\n",
    "# Prompt template\n",
    "PROMPT_TEMPLATE = \"\"\"\n",
    "ou are a gentle storyteller who explains things in a simple, step-by-step way that even a child can understand.\n",
    "Whenever someone asks a question, you tell the answer as a short story around 100 words, using clear and easy words. Base your story only on the information provided in the context. When you refer to something from the book, kindly show the page number in square brackets like this: [Page 10].\n",
    "\n",
    "### Context Chunks:\n",
    "{context}\n",
    "\n",
    "### Question:\n",
    "{question}\n",
    "\n",
    "### Answer:\n",
    "\"\"\"\n",
    "\n",
    "# Prompt template\n",
    "prompt_template = PromptTemplate(\n",
    "input_variables=[\"context\", \"question\"],\n",
    "template=PROMPT_TEMPLATE )"
   ]
  },
  {
   "cell_type": "code",
   "execution_count": null,
   "id": "f2fa6bc9",
   "metadata": {},
   "outputs": [],
   "source": [
    "from langgraph.graph import StateGraph, END\n",
    "from langchain_openai import ChatOpenAI\n",
    "# Shared state type\n",
    "from typing import List, TypedDict, Optional\n",
    "import smtplib\n",
    "from email.mime.text import MIMEText\n",
    "\n",
    "\n",
    "# Load OpenAI API key from a file\n",
    "file = open('data/key.txt', 'r')\n",
    "# Read the API key from the file\n",
    "api_key = file.read().strip()\n",
    "# Close the file\n",
    "file.close()\n",
    "\n",
    "file = open('data/hello.txt', 'r')\n",
    "# Read the API key from the file\n",
    "password = file.read().strip()\n",
    "# Close the file\n",
    "file.close()\n",
    "\n",
    "# 🧠 Set your OpenAI API key\n",
    "os.environ[\"OPENAI_API_KEY\"] = api_key\n",
    "\n",
    "\n",
    "retriever = vectorstore.as_retriever()\n",
    "llm = ChatOpenAI(model_name=\"gpt-4\", temperature=0.2)  # Remove openai_api_key=api_key\n",
    "\n",
    "\n",
    "class RAGState(TypedDict):\n",
    "    question: str # field for the question\n",
    "    context_docs: List[str] # field for context documents\n",
    "    answer: str # field for the answer\n",
    "    chat_history: List[str]  # field for memory\n",
    "    critique_llm: Optional[str]  # Field for post-analysis\n",
    "    summary: Optional[str]      # Final summary\n",
    "\n",
    "\n",
    "# Retrieval node\n",
    "def retrieve_node(state: RAGState) -> RAGState:\n",
    "    query_vector = embedding_model.embed_query(state['question'])\n",
    "    docs = vectorstore.similarity_search_by_vector(query_vector, k=3)\n",
    "    return {**state, \"context_docs\": [doc.page_content for doc in docs]}\n",
    "\n",
    "# LLM node\n",
    "def generate_answer_node(state: RAGState) -> RAGState:\n",
    "    context = \"\\n\\n\".join(state[\"context_docs\"])\n",
    "    chat_history = \"\\n\".join(state.get(\"chat_history\", []))\n",
    "    prompt = (\n",
    "        f\"You are a helpful assistant answering questions based on the Ramayana.\\n\\n\"\n",
    "        f\"Previous conversation:\\n{chat_history}\\n\\n\"\n",
    "        f\"Context:\\n{context}\\n\\n\"\n",
    "        f\"Current Question: {state['question']}\\n\"\n",
    "        f\"Answer:\"\n",
    "    )\n",
    "    answer = llm.invoke(prompt)\n",
    "    updated_chat = state[\"chat_history\"] + [f\"Q: {state['question']}\", f\"A: {answer.content}\"]\n",
    "    return {**state, \"answer\": answer.content, \"chat_history\": updated_chat}\n",
    "\n",
    "# Critique node\n",
    "def critique_node(state: RAGState) -> RAGState:\n",
    "    prompt = (\n",
    "        f\"As a critique assistant, rate the clarity and relevance of the following answer.\\n\"\n",
    "        f\"Question: {state['question']}\\n\"\n",
    "        f\"Answer: {state['answer']}\\n\"\n",
    "        f\"Rate from 1 (poor) to 5 (excellent) with a short justification:\"\n",
    "    )\n",
    "    critique_response = llm.invoke(prompt)\n",
    "    return {**state, \"critique_llm\": critique_response.content}\n",
    "\n",
    "# Summary Node\n",
    "def summary_node(state: RAGState) -> RAGState:\n",
    "    full_chat = \"\\n\".join(state[\"chat_history\"])\n",
    "    prompt = f\"Summarize the following Q&A session about the Ramayana:\\n\\n{full_chat}\\n\\nSummary:\"\n",
    "    result = llm.invoke(prompt)\n",
    "    return {**state, \"summary\": result.content}\n",
    "\n",
    "\n",
    "# Email Agent Node\n",
    "def email_node(state: RAGState) -> RAGState:\n",
    "    summary = state[\"summary\"]\n",
    "    recipient = \"avinashkumarsingh1986@gmail.com\"  \n",
    "\n",
    "    msg = MIMEText(summary)\n",
    "    msg[\"Subject\"] = \"Your Ramayana Chat Summary\"\n",
    "    msg[\"From\"] = \"avinash@robaita.com\"\n",
    "    msg[\"To\"] = recipient\n",
    "\n",
    "    # Send email via Gmail SMTP\n",
    "    with smtplib.SMTP_SSL(\"smtp.gmail.com\", 465) as smtp:\n",
    "        smtp.login(\"avinash@robaita.com\", password)  \n",
    "        smtp.send_message(msg)\n",
    "\n",
    "    return state  # unchanged, email is a side effect\n",
    "\n",
    "\n",
    "\n"
   ]
  },
  {
   "cell_type": "markdown",
   "id": "5cedb7f8",
   "metadata": {},
   "source": [
    "## Step-5: Build LangGraph DAG\n",
    "✅ Task:\n",
    "1. Connect the nodes using StateGraph\n",
    "2. Set input/output schema"
   ]
  },
  {
   "cell_type": "code",
   "execution_count": 9,
   "id": "b9772eca",
   "metadata": {},
   "outputs": [],
   "source": [
    "graph = StateGraph(RAGState)\n",
    "graph.add_node(\"retrieve\", retrieve_node)\n",
    "graph.add_node(\"generate\", generate_answer_node)\n",
    "graph.add_node(\"critique\", critique_node)\n",
    "graph.add_node(\"SummaryAgent\", summary_node)\n",
    "graph.add_node(\"EmailAgent\", email_node)\n",
    "\n",
    "\n",
    "graph.set_entry_point(\"retrieve\")\n",
    "graph.add_edge(\"retrieve\", \"generate\")\n",
    "graph.add_edge(\"generate\", \"critique\")\n",
    "graph.add_edge(\"critique\", \"SummaryAgent\")\n",
    "graph.add_edge(\"SummaryAgent\", \"EmailAgent\")\n",
    "\n",
    "graph.set_finish_point(\"EmailAgent\")\n",
    "\n",
    "rag_chain = graph.compile()\n"
   ]
  },
  {
   "cell_type": "markdown",
   "id": "b26489fd",
   "metadata": {},
   "source": [
    "## Step 6: Ask Questions with LangGraph Agent\n",
    "✅ Task:\n",
    "1. Provide user questions\n",
    "2. Return LangGraph-generated answers"
   ]
  },
  {
   "cell_type": "code",
   "execution_count": null,
   "id": "3bc1f12d",
   "metadata": {},
   "outputs": [
    {
     "name": "stdout",
     "output_type": "stream",
     "text": [
      "Welcome! Ask questions about the Ramayana (type 'exit' to stop).\n",
      "\n"
     ]
    },
    {
     "ename": "SMTPAuthenticationError",
     "evalue": "(535, b'5.7.8 Username and Password not accepted. For more information, go to\\n5.7.8  https://support.google.com/mail/?p=BadCredentials d9443c01a7336-23603506d4dsm74324915ad.235 - gsmtp')",
     "output_type": "error",
     "traceback": [
      "\u001b[31m---------------------------------------------------------------------------\u001b[39m",
      "\u001b[31mSMTPAuthenticationError\u001b[39m                   Traceback (most recent call last)",
      "\u001b[36mCell\u001b[39m\u001b[36m \u001b[39m\u001b[32mIn[10]\u001b[39m\u001b[32m, line 24\u001b[39m\n\u001b[32m     15\u001b[39m input_state = {\n\u001b[32m     16\u001b[39m     \u001b[33m\"\u001b[39m\u001b[33mquestion\u001b[39m\u001b[33m\"\u001b[39m: user_question,\n\u001b[32m     17\u001b[39m     \u001b[33m\"\u001b[39m\u001b[33mchat_history\u001b[39m\u001b[33m\"\u001b[39m: chat_state[\u001b[33m\"\u001b[39m\u001b[33mchat_history\u001b[39m\u001b[33m\"\u001b[39m],\n\u001b[32m   (...)\u001b[39m\u001b[32m     20\u001b[39m     \u001b[33m\"\u001b[39m\u001b[33mcritique_llm\u001b[39m\u001b[33m\"\u001b[39m: \u001b[33m\"\u001b[39m\u001b[33m\"\u001b[39m,\n\u001b[32m     21\u001b[39m }\n\u001b[32m     23\u001b[39m \u001b[38;5;66;03m# Run the graph\u001b[39;00m\n\u001b[32m---> \u001b[39m\u001b[32m24\u001b[39m result = \u001b[43mrag_chain\u001b[49m\u001b[43m.\u001b[49m\u001b[43minvoke\u001b[49m\u001b[43m(\u001b[49m\u001b[43minput_state\u001b[49m\u001b[43m)\u001b[49m\n\u001b[32m     26\u001b[39m \u001b[38;5;66;03m# Update memory\u001b[39;00m\n\u001b[32m     27\u001b[39m chat_state[\u001b[33m\"\u001b[39m\u001b[33mchat_history\u001b[39m\u001b[33m\"\u001b[39m] = result[\u001b[33m\"\u001b[39m\u001b[33mchat_history\u001b[39m\u001b[33m\"\u001b[39m]\n",
      "\u001b[36mFile \u001b[39m\u001b[32m~/Desktop/dr_avinash/generative_ai/lecture-8/torch/lib/python3.12/site-packages/langgraph/pregel/__init__.py:2719\u001b[39m, in \u001b[36mPregel.invoke\u001b[39m\u001b[34m(self, input, config, stream_mode, output_keys, interrupt_before, interrupt_after, checkpoint_during, debug, **kwargs)\u001b[39m\n\u001b[32m   2716\u001b[39m chunks: \u001b[38;5;28mlist\u001b[39m[Union[\u001b[38;5;28mdict\u001b[39m[\u001b[38;5;28mstr\u001b[39m, Any], Any]] = []\n\u001b[32m   2717\u001b[39m interrupts: \u001b[38;5;28mlist\u001b[39m[Interrupt] = []\n\u001b[32m-> \u001b[39m\u001b[32m2719\u001b[39m \u001b[43m\u001b[49m\u001b[38;5;28;43;01mfor\u001b[39;49;00m\u001b[43m \u001b[49m\u001b[43mchunk\u001b[49m\u001b[43m \u001b[49m\u001b[38;5;129;43;01min\u001b[39;49;00m\u001b[43m \u001b[49m\u001b[38;5;28;43mself\u001b[39;49m\u001b[43m.\u001b[49m\u001b[43mstream\u001b[49m\u001b[43m(\u001b[49m\n\u001b[32m   2720\u001b[39m \u001b[43m    \u001b[49m\u001b[38;5;28;43minput\u001b[39;49m\u001b[43m,\u001b[49m\n\u001b[32m   2721\u001b[39m \u001b[43m    \u001b[49m\u001b[43mconfig\u001b[49m\u001b[43m,\u001b[49m\n\u001b[32m   2722\u001b[39m \u001b[43m    \u001b[49m\u001b[43mstream_mode\u001b[49m\u001b[43m=\u001b[49m\u001b[43mstream_mode\u001b[49m\u001b[43m,\u001b[49m\n\u001b[32m   2723\u001b[39m \u001b[43m    \u001b[49m\u001b[43moutput_keys\u001b[49m\u001b[43m=\u001b[49m\u001b[43moutput_keys\u001b[49m\u001b[43m,\u001b[49m\n\u001b[32m   2724\u001b[39m \u001b[43m    \u001b[49m\u001b[43minterrupt_before\u001b[49m\u001b[43m=\u001b[49m\u001b[43minterrupt_before\u001b[49m\u001b[43m,\u001b[49m\n\u001b[32m   2725\u001b[39m \u001b[43m    \u001b[49m\u001b[43minterrupt_after\u001b[49m\u001b[43m=\u001b[49m\u001b[43minterrupt_after\u001b[49m\u001b[43m,\u001b[49m\n\u001b[32m   2726\u001b[39m \u001b[43m    \u001b[49m\u001b[43mcheckpoint_during\u001b[49m\u001b[43m=\u001b[49m\u001b[43mcheckpoint_during\u001b[49m\u001b[43m,\u001b[49m\n\u001b[32m   2727\u001b[39m \u001b[43m    \u001b[49m\u001b[43mdebug\u001b[49m\u001b[43m=\u001b[49m\u001b[43mdebug\u001b[49m\u001b[43m,\u001b[49m\n\u001b[32m   2728\u001b[39m \u001b[43m    \u001b[49m\u001b[43m*\u001b[49m\u001b[43m*\u001b[49m\u001b[43mkwargs\u001b[49m\u001b[43m,\u001b[49m\n\u001b[32m   2729\u001b[39m \u001b[43m\u001b[49m\u001b[43m)\u001b[49m\u001b[43m:\u001b[49m\n\u001b[32m   2730\u001b[39m \u001b[43m    \u001b[49m\u001b[38;5;28;43;01mif\u001b[39;49;00m\u001b[43m \u001b[49m\u001b[43mstream_mode\u001b[49m\u001b[43m \u001b[49m\u001b[43m==\u001b[49m\u001b[43m \u001b[49m\u001b[33;43m\"\u001b[39;49m\u001b[33;43mvalues\u001b[39;49m\u001b[33;43m\"\u001b[39;49m\u001b[43m:\u001b[49m\n\u001b[32m   2731\u001b[39m \u001b[43m        \u001b[49m\u001b[38;5;28;43;01mif\u001b[39;49;00m\u001b[43m \u001b[49m\u001b[43m(\u001b[49m\n\u001b[32m   2732\u001b[39m \u001b[43m            \u001b[49m\u001b[38;5;28;43misinstance\u001b[39;49m\u001b[43m(\u001b[49m\u001b[43mchunk\u001b[49m\u001b[43m,\u001b[49m\u001b[43m \u001b[49m\u001b[38;5;28;43mdict\u001b[39;49m\u001b[43m)\u001b[49m\n\u001b[32m   2733\u001b[39m \u001b[43m            \u001b[49m\u001b[38;5;129;43;01mand\u001b[39;49;00m\u001b[43m \u001b[49m\u001b[43m(\u001b[49m\u001b[43mints\u001b[49m\u001b[43m \u001b[49m\u001b[43m:=\u001b[49m\u001b[43m \u001b[49m\u001b[43mchunk\u001b[49m\u001b[43m.\u001b[49m\u001b[43mget\u001b[49m\u001b[43m(\u001b[49m\u001b[43mINTERRUPT\u001b[49m\u001b[43m)\u001b[49m\u001b[43m)\u001b[49m\u001b[43m \u001b[49m\u001b[38;5;129;43;01mis\u001b[39;49;00m\u001b[43m \u001b[49m\u001b[38;5;129;43;01mnot\u001b[39;49;00m\u001b[43m \u001b[49m\u001b[38;5;28;43;01mNone\u001b[39;49;00m\n\u001b[32m   2734\u001b[39m \u001b[43m        \u001b[49m\u001b[43m)\u001b[49m\u001b[43m:\u001b[49m\n",
      "\u001b[36mFile \u001b[39m\u001b[32m~/Desktop/dr_avinash/generative_ai/lecture-8/torch/lib/python3.12/site-packages/langgraph/pregel/__init__.py:2436\u001b[39m, in \u001b[36mPregel.stream\u001b[39m\u001b[34m(self, input, config, stream_mode, output_keys, interrupt_before, interrupt_after, checkpoint_during, debug, subgraphs)\u001b[39m\n\u001b[32m   2434\u001b[39m         \u001b[38;5;28;01mfor\u001b[39;00m task \u001b[38;5;129;01min\u001b[39;00m loop.match_cached_writes():\n\u001b[32m   2435\u001b[39m             loop.output_writes(task.id, task.writes, cached=\u001b[38;5;28;01mTrue\u001b[39;00m)\n\u001b[32m-> \u001b[39m\u001b[32m2436\u001b[39m \u001b[43m        \u001b[49m\u001b[38;5;28;43;01mfor\u001b[39;49;00m\u001b[43m \u001b[49m\u001b[43m_\u001b[49m\u001b[43m \u001b[49m\u001b[38;5;129;43;01min\u001b[39;49;00m\u001b[43m \u001b[49m\u001b[43mrunner\u001b[49m\u001b[43m.\u001b[49m\u001b[43mtick\u001b[49m\u001b[43m(\u001b[49m\n\u001b[32m   2437\u001b[39m \u001b[43m            \u001b[49m\u001b[43m[\u001b[49m\u001b[43mt\u001b[49m\u001b[43m \u001b[49m\u001b[38;5;28;43;01mfor\u001b[39;49;00m\u001b[43m \u001b[49m\u001b[43mt\u001b[49m\u001b[43m \u001b[49m\u001b[38;5;129;43;01min\u001b[39;49;00m\u001b[43m \u001b[49m\u001b[43mloop\u001b[49m\u001b[43m.\u001b[49m\u001b[43mtasks\u001b[49m\u001b[43m.\u001b[49m\u001b[43mvalues\u001b[49m\u001b[43m(\u001b[49m\u001b[43m)\u001b[49m\u001b[43m \u001b[49m\u001b[38;5;28;43;01mif\u001b[39;49;00m\u001b[43m \u001b[49m\u001b[38;5;129;43;01mnot\u001b[39;49;00m\u001b[43m \u001b[49m\u001b[43mt\u001b[49m\u001b[43m.\u001b[49m\u001b[43mwrites\u001b[49m\u001b[43m]\u001b[49m\u001b[43m,\u001b[49m\n\u001b[32m   2438\u001b[39m \u001b[43m            \u001b[49m\u001b[43mtimeout\u001b[49m\u001b[43m=\u001b[49m\u001b[38;5;28;43mself\u001b[39;49m\u001b[43m.\u001b[49m\u001b[43mstep_timeout\u001b[49m\u001b[43m,\u001b[49m\n\u001b[32m   2439\u001b[39m \u001b[43m            \u001b[49m\u001b[43mget_waiter\u001b[49m\u001b[43m=\u001b[49m\u001b[43mget_waiter\u001b[49m\u001b[43m,\u001b[49m\n\u001b[32m   2440\u001b[39m \u001b[43m            \u001b[49m\u001b[43mschedule_task\u001b[49m\u001b[43m=\u001b[49m\u001b[43mloop\u001b[49m\u001b[43m.\u001b[49m\u001b[43maccept_push\u001b[49m\u001b[43m,\u001b[49m\n\u001b[32m   2441\u001b[39m \u001b[43m        \u001b[49m\u001b[43m)\u001b[49m\u001b[43m:\u001b[49m\n\u001b[32m   2442\u001b[39m \u001b[43m            \u001b[49m\u001b[38;5;66;43;03m# emit output\u001b[39;49;00m\n\u001b[32m   2443\u001b[39m \u001b[43m            \u001b[49m\u001b[38;5;28;43;01myield from\u001b[39;49;00m\u001b[43m \u001b[49m\u001b[43moutput\u001b[49m\u001b[43m(\u001b[49m\u001b[43m)\u001b[49m\n\u001b[32m   2444\u001b[39m \u001b[38;5;66;03m# emit output\u001b[39;00m\n",
      "\u001b[36mCell\u001b[39m\u001b[36m \u001b[39m\u001b[32mIn[7]\u001b[39m\u001b[32m, line 91\u001b[39m, in \u001b[36memail_node\u001b[39m\u001b[34m(state)\u001b[39m\n\u001b[32m     89\u001b[39m \u001b[38;5;66;03m# Send email via Gmail SMTP\u001b[39;00m\n\u001b[32m     90\u001b[39m \u001b[38;5;28;01mwith\u001b[39;00m smtplib.SMTP_SSL(\u001b[33m\"\u001b[39m\u001b[33msmtp.gmail.com\u001b[39m\u001b[33m\"\u001b[39m, \u001b[32m465\u001b[39m) \u001b[38;5;28;01mas\u001b[39;00m smtp:\n\u001b[32m---> \u001b[39m\u001b[32m91\u001b[39m     \u001b[43msmtp\u001b[49m\u001b[43m.\u001b[49m\u001b[43mlogin\u001b[49m\u001b[43m(\u001b[49m\u001b[33;43m\"\u001b[39;49m\u001b[33;43mavinash@robaita.com\u001b[39;49m\u001b[33;43m\"\u001b[39;49m\u001b[43m,\u001b[49m\u001b[43m \u001b[49m\u001b[43mpassword\u001b[49m\u001b[43m)\u001b[49m  \n\u001b[32m     92\u001b[39m     smtp.send_message(msg)\n\u001b[32m     94\u001b[39m \u001b[38;5;28;01mreturn\u001b[39;00m state\n",
      "\u001b[36mFile \u001b[39m\u001b[32m/usr/lib/python3.12/smtplib.py:750\u001b[39m, in \u001b[36mSMTP.login\u001b[39m\u001b[34m(self, user, password, initial_response_ok)\u001b[39m\n\u001b[32m    747\u001b[39m         last_exception = e\n\u001b[32m    749\u001b[39m \u001b[38;5;66;03m# We could not login successfully.  Return result of last attempt.\u001b[39;00m\n\u001b[32m--> \u001b[39m\u001b[32m750\u001b[39m \u001b[38;5;28;01mraise\u001b[39;00m last_exception\n",
      "\u001b[36mFile \u001b[39m\u001b[32m/usr/lib/python3.12/smtplib.py:739\u001b[39m, in \u001b[36mSMTP.login\u001b[39m\u001b[34m(self, user, password, initial_response_ok)\u001b[39m\n\u001b[32m    737\u001b[39m method_name = \u001b[33m'\u001b[39m\u001b[33mauth_\u001b[39m\u001b[33m'\u001b[39m + authmethod.lower().replace(\u001b[33m'\u001b[39m\u001b[33m-\u001b[39m\u001b[33m'\u001b[39m, \u001b[33m'\u001b[39m\u001b[33m_\u001b[39m\u001b[33m'\u001b[39m)\n\u001b[32m    738\u001b[39m \u001b[38;5;28;01mtry\u001b[39;00m:\n\u001b[32m--> \u001b[39m\u001b[32m739\u001b[39m     (code, resp) = \u001b[38;5;28;43mself\u001b[39;49m\u001b[43m.\u001b[49m\u001b[43mauth\u001b[49m\u001b[43m(\u001b[49m\n\u001b[32m    740\u001b[39m \u001b[43m        \u001b[49m\u001b[43mauthmethod\u001b[49m\u001b[43m,\u001b[49m\u001b[43m \u001b[49m\u001b[38;5;28;43mgetattr\u001b[39;49m\u001b[43m(\u001b[49m\u001b[38;5;28;43mself\u001b[39;49m\u001b[43m,\u001b[49m\u001b[43m \u001b[49m\u001b[43mmethod_name\u001b[49m\u001b[43m)\u001b[49m\u001b[43m,\u001b[49m\n\u001b[32m    741\u001b[39m \u001b[43m        \u001b[49m\u001b[43minitial_response_ok\u001b[49m\u001b[43m=\u001b[49m\u001b[43minitial_response_ok\u001b[49m\u001b[43m)\u001b[49m\n\u001b[32m    742\u001b[39m     \u001b[38;5;66;03m# 235 == 'Authentication successful'\u001b[39;00m\n\u001b[32m    743\u001b[39m     \u001b[38;5;66;03m# 503 == 'Error: already authenticated'\u001b[39;00m\n\u001b[32m    744\u001b[39m     \u001b[38;5;28;01mif\u001b[39;00m code \u001b[38;5;129;01min\u001b[39;00m (\u001b[32m235\u001b[39m, \u001b[32m503\u001b[39m):\n",
      "\u001b[36mFile \u001b[39m\u001b[32m/usr/lib/python3.12/smtplib.py:662\u001b[39m, in \u001b[36mSMTP.auth\u001b[39m\u001b[34m(self, mechanism, authobject, initial_response_ok)\u001b[39m\n\u001b[32m    660\u001b[39m \u001b[38;5;28;01mif\u001b[39;00m code \u001b[38;5;129;01min\u001b[39;00m (\u001b[32m235\u001b[39m, \u001b[32m503\u001b[39m):\n\u001b[32m    661\u001b[39m     \u001b[38;5;28;01mreturn\u001b[39;00m (code, resp)\n\u001b[32m--> \u001b[39m\u001b[32m662\u001b[39m \u001b[38;5;28;01mraise\u001b[39;00m SMTPAuthenticationError(code, resp)\n",
      "\u001b[31mSMTPAuthenticationError\u001b[39m: (535, b'5.7.8 Username and Password not accepted. For more information, go to\\n5.7.8  https://support.google.com/mail/?p=BadCredentials d9443c01a7336-23603506d4dsm74324915ad.235 - gsmtp')",
      "During task with name 'EmailAgent' and id 'ea3256bb-64f8-5c8d-ea22-80fcf091cfe7'"
     ]
    }
   ],
   "source": [
    "# Start with an empty memory\n",
    "chat_state = {\n",
    "    \"chat_history\": [],\n",
    "}\n",
    "\n",
    "print(\"Welcome! Ask questions about the Ramayana (type 'exit' to stop).\\n\")\n",
    "\n",
    "while True:\n",
    "    user_question = input(\"You: \")\n",
    "    if user_question.lower() in {\"exit\", \"quit\"}:\n",
    "        # Run the graph\n",
    "        result = rag_chain.invoke(input_state)\n",
    "        break\n",
    "\n",
    "    # Build state for this turn\n",
    "    input_state = {\n",
    "        \"question\": user_question,\n",
    "        \"chat_history\": chat_state[\"chat_history\"],\n",
    "        \"context_docs\": [],\n",
    "        \"answer\": \"\",\n",
    "        \"critique_llm\": \"\",\n",
    "    }\n",
    "\n",
    "    # Update memory\n",
    "    chat_state[\"chat_history\"] = result[\"chat_history\"]\n",
    "\n",
    "    # Print response\n",
    "    print(f\"Assistant: {result['answer']}\")\n",
    "    print(f\"Critique: {result['critique_llm']}\\n\")\n"
   ]
  },
  {
   "cell_type": "markdown",
   "id": "876489e9",
   "metadata": {},
   "source": [
    "# Visualize LangGraph"
   ]
  },
  {
   "cell_type": "code",
   "execution_count": 11,
   "id": "3d0690e9",
   "metadata": {},
   "outputs": [
    {
     "data": {
      "image/png": "[encoded data removed]",
      "text/plain": [
       "<IPython.core.display.Image object>"
      ]
     },
     "metadata": {},
     "output_type": "display_data"
    }
   ],
   "source": [
    "from IPython.display import Image, display\n",
    "\n",
    "graph_image_data = rag_chain.get_graph().draw_mermaid_png()\n",
    "display(Image(graph_image_data))"
   ]
  },
  {
   "cell_type": "code",
   "execution_count": null,
   "id": "9f141d7f",
   "metadata": {},
   "outputs": [
    {
     "name": "stdout",
     "output_type": "stream",
     "text": [
      "Attempting to connect to SMTP server avinashkumarsingh1986@gmail.com...\n",
      "Authentication Error: Failed to log in. Check your sender_email and App Password.\n",
      "Remember to use an App Password, not your regular Gmail password, if 2-Step Verification is on.\n"
     ]
    }
   ],
   "source": [
    "import smtplib\n",
    "from email.mime.text import MIMEText\n",
    "from email.mime.multipart import MIMEMultipart\n",
    "import ssl\n",
    "import os\n",
    "\n",
    "# --- Configuration ---\n",
    "# Your Gmail address\n",
    "sender_email = \"avinashkumarsingh1986@gmail.com\"\n",
    "# The App Password you generated (NOT your regular Gmail password)\n",
    "# It's best practice to store this in an environment variable, not directly in code.\n",
    "# Example: export GMAIL_APP_PASSWORD=\"your_16_char_app_password\"\n",
    "app_password = password\n",
    "\n",
    "# Recipient email address\n",
    "receiver_email = \"avinash@robaita.com\"\n",
    "# Subject of the email\n",
    "subject = \"Test Email from Python\"\n",
    "# Body of the email\n",
    "body = \"Hello from Python!\\n\\nThis is a test email sent using smtplib and Gmail.\"\n",
    "\n",
    "# --- Check for App Password ---\n",
    "if app_password is None:\n",
    "    print(\"Error: GMAIL_APP_PASSWORD environment variable not set.\")\n",
    "    print(\"Please set it like: export GMAIL_APP_PASSWORD=\\\"your_16_char_app_password\\\"\")\n",
    "    print(\"You can generate an App Password in your Google Account security settings.\")\n",
    "    exit()\n",
    "\n",
    "# --- Create the email message ---\n",
    "# For plain text\n",
    "msg = MIMEText(body, 'plain')\n",
    "msg['Subject'] = subject\n",
    "msg['From'] = sender_email\n",
    "msg['To'] = receiver_email\n",
    "\n",
    "# If you want to send HTML or attachments, use MIMEMultipart\n",
    "# msg = MIMEMultipart()\n",
    "# msg['Subject'] = subject\n",
    "# msg['From'] = sender_email\n",
    "# msg['To'] = receiver_email\n",
    "# msg.attach(MIMEText(body, 'html')) # For HTML content\n",
    "# # For attachments:\n",
    "# # with open(\"path/to/your/file.pdf\", \"rb\") as attachment:\n",
    "# #     part = MIMEBase(\"application\", \"octet-stream\")\n",
    "# #     part.set_payload(attachment.read())\n",
    "# # encoders.encode_base64(part)\n",
    "# # part.add_header(\n",
    "# #     \"Content-Disposition\",\n",
    "# #     f\"attachment; filename= {os.path.basename('path/to/your/file.pdf')}\",\n",
    "# # )\n",
    "# # msg.attach(part)\n",
    "\n",
    "\n",
    "# --- Connect to Gmail's SMTP server and send the email ---\n",
    "try:\n",
    "    # Create a secure SSL context\n",
    "    context = ssl.create_default_context()\n",
    "\n",
    "    print(f\"Attempting to connect to SMTP server {sender_email}...\")\n",
    "    # Use port 587 for STARTTLS\n",
    "    with smtplib.SMTP(\"smtp.gmail.com\", 587) as server:\n",
    "        # Start TLS encryption\n",
    "        server.starttls(context=context)\n",
    "        # Login to your Gmail account\n",
    "        server.login(sender_email, app_password)\n",
    "        print(\"Logged in successfully. Sending email...\")\n",
    "        # Send the email\n",
    "        server.send_message(msg)\n",
    "        print(f\"Email sent successfully to {receiver_email}!\")\n",
    "\n",
    "except smtplib.SMTPAuthenticationError:\n",
    "    print(\"Authentication Error: Failed to log in. Check your sender_email and App Password.\")\n",
    "    print(\"Remember to use an App Password, not your regular Gmail password, if 2-Step Verification is on.\")\n",
    "except smtplib.SMTPConnectError as e:\n",
    "    print(f\"Connection Error: Could not connect to the SMTP server. {e}\")\n",
    "    print(\"Check your internet connection or try again later.\")\n",
    "except Exception as e:\n",
    "    print(f\"An unexpected error occurred: {e}\")"
   ]
  }
 ],
 "metadata": {
  "kernelspec": {
   "display_name": "torch",
   "language": "python",
   "name": "python3"
  },
  "language_info": {
   "codemirror_mode": {
    "name": "ipython",
    "version": 3
   },
   "file_extension": ".py",
   "mimetype": "text/x-python",
   "name": "python",
   "nbconvert_exporter": "python",
   "pygments_lexer": "ipython3",
   "version": "3.12.3"
  }
 },
 "nbformat": 4,
 "nbformat_minor": 5
}
