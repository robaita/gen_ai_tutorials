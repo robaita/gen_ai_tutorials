{
 "cells": [
  {
   "cell_type": "markdown",
   "id": "6d75f034",
   "metadata": {},
   "source": [
    "# Crew AI"
   ]
  },
  {
   "cell_type": "code",
   "execution_count": 1,
   "id": "df2ee8e2",
   "metadata": {},
   "outputs": [],
   "source": [
    "# !pip install crewai\n",
    "# !pip install duckduckgo-search\n",
    "# !pip install tavily-python\n",
    "# !pip install wikipedia\n"
   ]
  },
  {
   "cell_type": "code",
   "execution_count": 2,
   "id": "a2ef3ab1",
   "metadata": {},
   "outputs": [
    {
     "name": "stderr",
     "output_type": "stream",
     "text": [
      "/tmp/ipykernel_79468/774773414.py:5: LangChainDeprecationWarning: The class `ChatOpenAI` was deprecated in LangChain 0.0.10 and will be removed in 1.0. An updated version of the class exists in the :class:`~langchain-openai package and should be used instead. To use it run `pip install -U :class:`~langchain-openai` and import as `from :class:`~langchain_openai import ChatOpenAI``.\n",
      "  llm = ChatOpenAI(model=\"gpt-4\", temperature=0.7)\n"
     ]
    },
    {
     "name": "stdout",
     "output_type": "stream",
     "text": [
      "\n",
      "✅ Final Output from Summarizer Agent:\n",
      "\n",
      "Sita, a central character in the Ramayana, is introduced in the Bala Kanda as the adopted daughter of King Janaka and Queen Sunaina of Mithila. Sita marries Rama in a self-choice ceremony called Swayamvara, after Rama successfully lifts the bow of Shiva. In the Ayodhya Kanda, Sita insists on accompanying Rama on his 14-year exile, demonstrating her unwavering devotion. The Aranya Kanda narrates Sita's abduction by the demon king, Ravana, using a golden deer as a distraction. While held captive in Lanka, as described in the Sundara Kanda, Sita remains devoted to Rama and rejects Ravana. Rama, with the help of an army of monkeys, rescues Sita in the Yuddha Kanda. To validate her chastity, Sita undergoes a trial by fire, emerging unscathed. The Uttara Kanda describes Sita's second exile due to rumors about her stay in Lanka. In exile, she gives birth to Lava and Kusha, Rama's twin sons. Unable to bear further accusations, Sita prays to Mother Earth, who takes her back, marking the end of her earthly life.\n"
     ]
    }
   ],
   "source": [
    "from crewai import Agent, Task, Crew\n",
    "from langchain.chat_models import ChatOpenAI\n",
    "\n",
    "# Setup LLM\n",
    "llm = ChatOpenAI(model=\"gpt-4\", temperature=0.7)\n",
    "\n",
    "# Define Agents\n",
    "researcher = Agent(\n",
    "    role=\"Research Analyst\",\n",
    "    goal=\"Find references to Sita in Ramayana\",\n",
    "    backstory=\"Expert in mythology, skilled in extracting key facts\",\n",
    "    llm=llm\n",
    ")\n",
    "\n",
    "summarizer = Agent(\n",
    "    role=\"Content Summarizer\",\n",
    "    goal=\"Summarize information clearly for educational use\",\n",
    "    backstory=\"Writes clear and concise summaries for students\",\n",
    "    llm=llm\n",
    ")\n",
    "\n",
    "# Define Tasks\n",
    "task1 = Task(\n",
    "    description=\"Research all references to Sita across the Ramayana.\",\n",
    "    expected_output=\"A detailed list of instances with chapter references.\",\n",
    "    agent=researcher\n",
    ")\n",
    "\n",
    "task2 = Task(\n",
    "    description=\"Summarize the references to Sita in under 300 words.\",\n",
    "    expected_output=\"A well-structured educational summary.\",\n",
    "    agent=summarizer\n",
    ")\n",
    "\n",
    "# Assemble Crew\n",
    "crew = Crew(\n",
    "    agents=[researcher, summarizer],\n",
    "    tasks=[task1, task2],\n",
    "    verbose=False\n",
    ")\n",
    "\n",
    "# Run Crew\n",
    "results = crew.kickoff()\n",
    "\n",
    "# Print output\n",
    "print(\"\\n✅ Final Output from Summarizer Agent:\\n\")\n",
    "print(results)\n"
   ]
  },
  {
   "cell_type": "markdown",
   "id": "29fd80ee",
   "metadata": {},
   "source": [
    "# Crew AI - Multi Agent"
   ]
  },
  {
   "cell_type": "code",
   "execution_count": 3,
   "id": "d2bc02a4",
   "metadata": {},
   "outputs": [
    {
     "name": "stdout",
     "output_type": "stream",
     "text": [
      "\u001b[1m\u001b[95m# Agent:\u001b[00m \u001b[1m\u001b[92mRAG Retriever\u001b[00m\n",
      "\u001b[95m## Task:\u001b[00m \u001b[92mSearch Ramayana and provide a detailed answer to the question: 'Who is Kaikeyi?'\u001b[00m\n",
      "\n",
      "\n",
      "\u001b[1m\u001b[95m# Agent:\u001b[00m \u001b[1m\u001b[92mRAG Retriever\u001b[00m\n",
      "\u001b[95m## Final Answer:\u001b[00m \u001b[92m\n",
      "Kaikeyi was the second among the three wives of King Dasharatha of Ayodhya, the other two being Kausalya and Sumitra. She was the mother of Bharata. Kaikeyi was the daughter of the King of Kekeya, and her marriage to Dasharatha was a political alliance that helped Dasharatha win a war. She was known for her beauty and skills in warfare. Kaikeyi had a pivotal role in the Ramayana. She was the one who demanded that Lord Rama, Dasharatha's eldest son and heir, be exiled to the forest for 14 years so that her son, Bharata, could become king. Although seen as a villain for her actions, Kaikeyi was initially very fond of Rama and her demand for his exile was manipulated by her maid Manthara who played on Kaikeyi's fears for her son's future.\u001b[00m\n",
      "\n",
      "\n",
      "\u001b[1m\u001b[95m# Agent:\u001b[00m \u001b[1m\u001b[92mSummarizer\u001b[00m\n",
      "\u001b[95m## Task:\u001b[00m \u001b[92mSummarize the answer from the RAG agent\u001b[00m\n",
      "\n",
      "\n",
      "\u001b[1m\u001b[95m# Agent:\u001b[00m \u001b[1m\u001b[92mSummarizer\u001b[00m\n",
      "\u001b[95m## Final Answer:\u001b[00m \u001b[92m\n",
      "Kaikeyi, King Dasharatha's second wife and Bharata's mother, played a crucial role in the Ramayana. She demanded the exile of Rama, Dasharatha's heir, to ensure her son Bharata's ascension to the throne. Despite being seen as a villain, her actions were influenced by her maid Manthara who exploited Kaikeyi's concerns for her son's future.\u001b[00m\n",
      "\n",
      "\n",
      "\u001b[1m\u001b[95m# Agent:\u001b[00m \u001b[1m\u001b[92mFact Checker\u001b[00m\n",
      "\u001b[95m## Task:\u001b[00m \u001b[92mVerify if the summary and the answer are factual and consistent with Ramayana\u001b[00m\n",
      "\n",
      "\n",
      "\u001b[1m\u001b[95m# Agent:\u001b[00m \u001b[1m\u001b[92mFact Checker\u001b[00m\n",
      "\u001b[95m## Final Answer:\u001b[00m \u001b[92m\n",
      "The summary provided is accurate and consistent with the Ramayana. All the characters and events are correctly represented as per the original text. No inaccuracies were found.\u001b[00m\n",
      "\n",
      "\n",
      "✅ Final Output:\n",
      " The summary provided is accurate and consistent with the Ramayana. All the characters and events are correctly represented as per the original text. No inaccuracies were found.\n"
     ]
    }
   ],
   "source": [
    "from crewai import Agent, Task, Crew\n",
    "from langchain.chat_models import ChatOpenAI\n",
    "\n",
    "# Use OpenAI or Ollama here\n",
    "llm = ChatOpenAI(model=\"gpt-4\")\n",
    "\n",
    "# Define Agents\n",
    "rag_agent = Agent(\n",
    "    role=\"RAG Retriever\",\n",
    "    goal=\"Find relevant information from the document\",\n",
    "    backstory=\"You are a specialist in semantic search over ancient texts like Ramayana.\",\n",
    "    tools=[],\n",
    "    llm=llm,\n",
    "    verbose=True\n",
    ")\n",
    "\n",
    "summarizer_agent = Agent(\n",
    "    role=\"Summarizer\",\n",
    "    goal=\"Summarize the context and answer\",\n",
    "    backstory=\"You are a summarization expert who rewrites answers in a concise way.\",\n",
    "    tools=[],\n",
    "    llm=llm,\n",
    "    verbose=True\n",
    ")\n",
    "\n",
    "fact_checker_agent = Agent(\n",
    "    role=\"Fact Checker\",\n",
    "    goal=\"Ensure the response is faithful to the source\",\n",
    "    backstory=\"You verify every statement against the original document.\",\n",
    "    tools=[],\n",
    "    llm=llm,\n",
    "    verbose=True\n",
    ")\n",
    "\n",
    "# Define Tasks\n",
    "task_rag = Task(\n",
    "    description=\"Search Ramayana and provide a detailed answer to the question: 'Who is Kaikeyi?'\",\n",
    "    expected_output=\"A paragraph based on Ramayana about Kaikeyi\",\n",
    "    agent=rag_agent\n",
    ")\n",
    "\n",
    "task_summary = Task(\n",
    "    description=\"Summarize the answer from the RAG agent\",\n",
    "    expected_output=\"A 2-3 line concise summary\",\n",
    "    agent=summarizer_agent\n",
    ")\n",
    "\n",
    "task_fact_check = Task(\n",
    "    description=\"Verify if the summary and the answer are factual and consistent with Ramayana\",\n",
    "    expected_output=\"Fact-checked version with notes if any inaccuracies exist\",\n",
    "    agent=fact_checker_agent\n",
    ")\n",
    "\n",
    "# Create the Crew\n",
    "crew = Crew(\n",
    "    agents=[rag_agent, summarizer_agent, fact_checker_agent],\n",
    "    tasks=[task_rag, task_summary, task_fact_check],\n",
    "    verbose=False\n",
    ")\n",
    "\n",
    "# Execute\n",
    "result = crew.kickoff()\n",
    "print(\"✅ Final Output:\\n\", result)\n"
   ]
  },
  {
   "cell_type": "markdown",
   "id": "10e53394",
   "metadata": {},
   "source": [
    "## Search Engine"
   ]
  },
  {
   "cell_type": "code",
   "execution_count": 4,
   "id": "0d5d3b93",
   "metadata": {},
   "outputs": [
    {
     "name": "stdout",
     "output_type": "stream",
     "text": [
      "Testing duck_search for 'modern interpretations of Sita':\n",
      "Modern Interpretations: Feminist readings of the Ramayana highlight Sita's agency and strength, presenting her as a complex character. Legacy: Sita's story encourages discussions about women's roles in society and the importance of agency and empowerment. In a modern interpretation, the general tone of the narrative has changed, giving more details to the characters' characters and revealing them in many ways. Sita has become more independent and responsible, which gives her the opportunity to make important decisions. Discover Sita, the goddess of devotion and purity in Hinduism. Explore her mythology, worship practices, and modern relevance in fostering resilience and dharma FAQs Why is Sita considered an ideal woman? Sita embodies qualities like devotion, patience, and resilience, making her a role model for many women. How does Sita's story relate to modern women? Sita represents empowerment, showing that women can overcome challenges while maintaining their values. What role does Sita play in the Ramayana? Contemporary Interpretations: Modern narratives often reinterpret Sita's strength and trials in the context of women's empowerment and resilience. Fire as Hope and Strength: Today, fire symbolizes hope and the strength to overcome challenges, reflecting Sita's journey through adversity.\n"
     ]
    }
   ],
   "source": [
    "from langchain_community.utilities.duckduckgo_search import DuckDuckGoSearchAPIWrapper\n",
    "\n",
    "search = DuckDuckGoSearchAPIWrapper()\n",
    "\n",
    "def duck_search(query: str) -> str:\n",
    "    try:\n",
    "        return search.run(query)\n",
    "    except Exception as e:\n",
    "        return f\"Error during search: {e}\"\n",
    "\n",
    "# Test the function directly\n",
    "test_query = \"modern interpretations of Sita\"\n",
    "print(f\"Testing duck_search for '{test_query}':\")\n",
    "print(duck_search(test_query))"
   ]
  },
  {
   "cell_type": "markdown",
   "id": "754b5379",
   "metadata": {},
   "source": [
    "# Integrating CrewAI with LangChain, LlamaIndex, LangGraph"
   ]
  },
  {
   "cell_type": "code",
   "execution_count": 7,
   "id": "340f1147",
   "metadata": {},
   "outputs": [],
   "source": [
    "from llama_index.core import SimpleDirectoryReader, VectorStoreIndex\n",
    "\n",
    "documents = SimpleDirectoryReader(input_files=[\"data/RAMAYANA.pdf\"]).load_data()\n",
    "index = VectorStoreIndex.from_documents(documents)\n",
    "query_engine = index.as_query_engine()\n"
   ]
  },
  {
   "cell_type": "markdown",
   "id": "bc808168",
   "metadata": {},
   "source": [
    "# Define LangChain Tool"
   ]
  },
  {
   "cell_type": "code",
   "execution_count": 10,
   "id": "65189425",
   "metadata": {},
   "outputs": [],
   "source": [
    "from langchain.tools import Tool\n",
    "\n",
    "def ask_ramayan(question: str):\n",
    "    return query_engine.query(question).response\n",
    "\n",
    "# Just use a plain dict\n",
    "ramayan_tool = {\n",
    "    \"name\": \"AskRamayan\",\n",
    "    \"description\": \"Answer questions from Ramayan knowledge base\",\n",
    "    \"function\": ask_ramayan  # <- this is your callable\n",
    "}\n",
    "\n"
   ]
  },
  {
   "cell_type": "markdown",
   "id": "8bf959bc",
   "metadata": {},
   "source": [
    "## Create CrewAI Agents"
   ]
  },
  {
   "cell_type": "code",
   "execution_count": null,
   "id": "a6e85fae",
   "metadata": {},
   "outputs": [],
   "source": [
    "from crewai import Agent\n",
    "from langchain.chat_models import ChatOpenAI\n",
    "\n",
    "llm = ChatOpenAI(model=\"gpt-4\")\n",
    "\n",
    "research_agent = Agent(\n",
    "    role=\"Ramayan Researcher\",\n",
    "    goal=\"Find accurate information from the Ramayan\",\n",
    "    backstory=\"Knows Ramayan inside out via vector search\",\n",
    "    tools=[ramayan_tool],\n",
    "    llm=llm\n",
    ")\n",
    "\n",
    "summarizer_agent = Agent(\n",
    "    role=\"Story Summarizer\",\n",
    "    goal=\"Summarize events and characters of the Ramayan\",\n",
    "    backstory=\"Great at concise storytelling\",\n",
    "    tools=[],\n",
    "    llm=llm\n",
    ")\n",
    "\n",
    "critic_agent = Agent(\n",
    "    role=\"Philosophical Critic\",\n",
    "    goal=\"Reflect critically on Ramayan’s messages\",\n",
    "    backstory=\"Understands cultural context and dharmic philosophy\",\n",
    "    tools=[],\n",
    "    llm=llm\n",
    ")\n"
   ]
  },
  {
   "cell_type": "markdown",
   "id": "17cb6327",
   "metadata": {},
   "source": [
    "## Create Task and Crew"
   ]
  },
  {
   "cell_type": "code",
   "execution_count": null,
   "id": "4204bda7",
   "metadata": {},
   "outputs": [],
   "source": [
    "from crewai import Task, Crew\n",
    "\n",
    "task1 = Task(\n",
    "    description=\"What are the major events in Rama’s life?\",\n",
    "    agent=research_agent\n",
    ")\n",
    "\n",
    "task2 = Task(\n",
    "    description=\"Summarize Rama’s journey in 5 lines.\",\n",
    "    agent=summarizer_agent\n",
    ")\n",
    "\n",
    "task3 = Task(\n",
    "    description=\"Provide a philosophical critique of Rama’s decisions during exile.\",\n",
    "    agent=critic_agent\n",
    ")\n",
    "\n",
    "crew = Crew(\n",
    "    agents=[research_agent, summarizer_agent, critic_agent],\n",
    "    tasks=[task1, task2, task3],\n",
    "    verbose=True\n",
    ")\n"
   ]
  },
  {
   "cell_type": "code",
   "execution_count": null,
   "id": "f32e66e4",
   "metadata": {},
   "outputs": [],
   "source": [
    "result = crew.kickoff()\n",
    "print(result)\n"
   ]
  }
 ],
 "metadata": {
  "kernelspec": {
   "display_name": "torch",
   "language": "python",
   "name": "python3"
  },
  "language_info": {
   "codemirror_mode": {
    "name": "ipython",
    "version": 3
   },
   "file_extension": ".py",
   "mimetype": "text/x-python",
   "name": "python",
   "nbconvert_exporter": "python",
   "pygments_lexer": "ipython3",
   "version": "3.12.3"
  }
 },
 "nbformat": 4,
 "nbformat_minor": 5
}
