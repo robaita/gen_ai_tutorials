{
 "cells": [
  {
   "cell_type": "markdown",
   "id": "e881430a",
   "metadata": {},
   "source": [
    "# Auto Gen"
   ]
  },
  {
   "cell_type": "code",
   "execution_count": 2,
   "id": "6bd796ff",
   "metadata": {},
   "outputs": [],
   "source": [
    "# !pip install autogen"
   ]
  },
  {
   "cell_type": "code",
   "execution_count": null,
   "id": "79e81a01",
   "metadata": {},
   "outputs": [],
   "source": [
    "import os\n",
    "os.environ[\"AUTOGEN_USE_DOCKER\"] = \"False\"\n",
    "\n",
    "from autogen import AssistantAgent\n",
    "\n",
    "code_executor = AssistantAgent(\n",
    "    name=\"code_agent\",\n",
    "    code_execution_config={\"work_dir\": \"coding\", \"use_docker\": False}\n",
    ")\n",
    "\n",
    "from autogen import UserProxyAgent\n",
    "\n",
    "user_proxy = UserProxyAgent(name=\"user\", human_input_mode=\"NEVER\")\n"
   ]
  },
  {
   "cell_type": "code",
   "execution_count": 13,
   "id": "29661243",
   "metadata": {},
   "outputs": [
    {
     "name": "stdout",
     "output_type": "stream",
     "text": [
      "\u001b[33muser\u001b[0m (to manager):\n",
      "\n",
      "who was RAM?\n",
      "\n",
      "--------------------------------------------------------------------------------\n",
      "\u001b[32m\n",
      "Next speaker: planner\n",
      "\u001b[0m\n",
      "\u001b[33mplanner\u001b[0m (to manager):\n",
      "\n",
      "I can provide information about RAM (Random Access Memory). It is a type of computer memory that can be accessed randomly, meaning any byte of memory can be accessed without affecting the access time of other bytes. RAM is volatile memory, which means it requires power to maintain the stored information. It is used by computers to store data and program instructions that are currently being used or processed. \n",
      "\n",
      "If you need more specific information or details about a person named RAM, please provide additional context.\n",
      "\n",
      "Let me know if you would like to know more about computer RAM or if you have any other questions related to this.\n",
      "\n",
      "Would you like to know more about computer RAM?\n",
      "\n",
      "\n",
      "\n",
      "--------------------------------------------------------------------------------\n",
      "\u001b[32m\n",
      "Next speaker: code_agent\n",
      "\u001b[0m\n",
      "\u001b[33mcode_agent\u001b[0m (to manager):\n",
      "\n",
      "Yes, I'm interested in learning more about computer RAM. Thank you for the explanation.\n",
      "\n",
      "--------------------------------------------------------------------------------\n",
      "\u001b[32m\n",
      "Next speaker: user\n",
      "\u001b[0m\n",
      "\u001b[33muser\u001b[0m (to manager):\n",
      "\n",
      "\n",
      "\n",
      "--------------------------------------------------------------------------------\n",
      "\u001b[32m\n",
      "Next speaker: code_agent\n",
      "\u001b[0m\n",
      "\u001b[33mcode_agent\u001b[0m (to manager):\n",
      "\n",
      "I will provide a brief overview of computer RAM and its types:\n",
      "\n",
      "1. **Types of Computer RAM:**\n",
      "   - **DRAM (Dynamic RAM):** The most common type of RAM used in computers. It needs to be refreshed thousands of times per second.\n",
      "   - **SRAM (Static RAM):** Faster and more expensive than DRAM. It does not need to be refreshed as it uses a flip-flop design.\n",
      "   - **SDRAM (Synchronous DRAM):** SDRAM synchronizes itself with the CPU's bus speed, allowing for faster data transfer rates.\n",
      "   - **DDR SDRAM (Double Data Rate SDRAM):** An improved version of SDRAM that can send data on both the rising and falling edges of the clock cycle, effectively doubling the data rate.\n",
      "   - **DDR2, DDR3, DDR4, DDR5:** Successive generations of DDR SDRAM, with each offering increased data transfer rates and improved efficiency.\n",
      "\n",
      "2. **RAM Usage:**\n",
      "   - RAM is used by the operating system and applications to store data for quick access during processing.\n",
      "   - More RAM allows for smoother multitasking, faster loading times, and improved overall system performance.\n",
      "\n",
      "Feel free to ask if you have any specific questions or if you would like to explore any particular aspect of computer RAM.\n",
      "\n",
      "Do you have any specific questions or topics you would like to discuss regarding computer RAM?\n",
      "\n",
      "\n",
      "\n",
      "--------------------------------------------------------------------------------\n",
      "\u001b[31m\n",
      ">>>>>>>> TERMINATING RUN (dfa7921d-7200-4935-ac4f-2fe3dd23e561): Maximum rounds (5) reached\u001b[0m\n"
     ]
    },
    {
     "data": {
      "text/plain": [
       "ChatResult(chat_id=None, chat_history=[{'content': 'who was RAM?', 'role': 'assistant', 'name': 'user'}, {'content': 'I can provide information about RAM (Random Access Memory). It is a type of computer memory that can be accessed randomly, meaning any byte of memory can be accessed without affecting the access time of other bytes. RAM is volatile memory, which means it requires power to maintain the stored information. It is used by computers to store data and program instructions that are currently being used or processed. \\n\\nIf you need more specific information or details about a person named RAM, please provide additional context.\\n\\nLet me know if you would like to know more about computer RAM or if you have any other questions related to this.\\n\\nWould you like to know more about computer RAM?\\n\\n', 'name': 'planner', 'role': 'user'}, {'content': \"Yes, I'm interested in learning more about computer RAM. Thank you for the explanation.\", 'name': 'code_agent', 'role': 'user'}, {'content': '', 'role': 'assistant', 'name': 'user'}, {'content': \"I will provide a brief overview of computer RAM and its types:\\n\\n1. **Types of Computer RAM:**\\n   - **DRAM (Dynamic RAM):** The most common type of RAM used in computers. It needs to be refreshed thousands of times per second.\\n   - **SRAM (Static RAM):** Faster and more expensive than DRAM. It does not need to be refreshed as it uses a flip-flop design.\\n   - **SDRAM (Synchronous DRAM):** SDRAM synchronizes itself with the CPU's bus speed, allowing for faster data transfer rates.\\n   - **DDR SDRAM (Double Data Rate SDRAM):** An improved version of SDRAM that can send data on both the rising and falling edges of the clock cycle, effectively doubling the data rate.\\n   - **DDR2, DDR3, DDR4, DDR5:** Successive generations of DDR SDRAM, with each offering increased data transfer rates and improved efficiency.\\n\\n2. **RAM Usage:**\\n   - RAM is used by the operating system and applications to store data for quick access during processing.\\n   - More RAM allows for smoother multitasking, faster loading times, and improved overall system performance.\\n\\nFeel free to ask if you have any specific questions or if you would like to explore any particular aspect of computer RAM.\\n\\nDo you have any specific questions or topics you would like to discuss regarding computer RAM?\\n\\n\", 'name': 'code_agent', 'role': 'user'}], summary=\"I will provide a brief overview of computer RAM and its types:\\n\\n1. **Types of Computer RAM:**\\n   - **DRAM (Dynamic RAM):** The most common type of RAM used in computers. It needs to be refreshed thousands of times per second.\\n   - **SRAM (Static RAM):** Faster and more expensive than DRAM. It does not need to be refreshed as it uses a flip-flop design.\\n   - **SDRAM (Synchronous DRAM):** SDRAM synchronizes itself with the CPU's bus speed, allowing for faster data transfer rates.\\n   - **DDR SDRAM (Double Data Rate SDRAM):** An improved version of SDRAM that can send data on both the rising and falling edges of the clock cycle, effectively doubling the data rate.\\n   - **DDR2, DDR3, DDR4, DDR5:** Successive generations of DDR SDRAM, with each offering increased data transfer rates and improved efficiency.\\n\\n2. **RAM Usage:**\\n   - RAM is used by the operating system and applications to store data for quick access during processing.\\n   - More RAM allows for smoother multitasking, faster loading times, and improved overall system performance.\\n\\nFeel free to ask if you have any specific questions or if you would like to explore any particular aspect of computer RAM.\\n\\nDo you have any specific questions or topics you would like to discuss regarding computer RAM?\\n\\n\", cost={'usage_including_cached_inference': {'total_cost': 0}, 'usage_excluding_cached_inference': {'total_cost': 0}}, human_input=['who was RAM?'])"
      ]
     },
     "execution_count": 13,
     "metadata": {},
     "output_type": "execute_result"
    }
   ],
   "source": [
    "import os\n",
    "\n",
    "from autogen import UserProxyAgent, AssistantAgent, GroupChat, GroupChatManager\n",
    "\n",
    "# Disable Docker\n",
    "os.environ[\"AUTOGEN_USE_DOCKER\"] = \"False\"\n",
    "\n",
    "# Setup LLM config (for GPT-3.5)\n",
    "llm_config = {\n",
    "    \"config_list\": [\n",
    "        {\n",
    "            \"model\": \"gpt-3.5-turbo\",\n",
    "            \"api_key\": os.getenv(\"OPENAI_API_KEY\"),  # Set your key in env\n",
    "        }\n",
    "    ],\n",
    "    \"cache_seed\": 42,  # Optional: for reproducibility\n",
    "}\n",
    "\n",
    "# Load Ramayan context\n",
    "ramayan_text = \"\"\"\n",
    "Rama, the prince of Ayodhya, is born to King Dasharatha and Queen Kaushalya. \n",
    "He is sent into exile for 14 years, during which his wife Sita is abducted by the demon king Ravana. \n",
    "Rama, with help from Hanuman and the monkey army, wages war against Ravana, defeats him, and returns to Ayodhya.\n",
    "\"\"\"\n",
    "\n",
    "# Agents\n",
    "user = UserProxyAgent(name=\"user\", human_input_mode=\"NEVER\")\n",
    "\n",
    "planner = AssistantAgent(name=\"planner\", llm_config=llm_config)\n",
    "\n",
    "code_agent = AssistantAgent(\n",
    "    name=\"code_agent\",\n",
    "    llm_config=llm_config,\n",
    "    code_execution_config={\"work_dir\": \"workspace\", \"use_docker\": False}\n",
    ")\n",
    "\n",
    "# GroupChat and Manager\n",
    "groupchat = GroupChat(\n",
    "    agents=[user, planner, code_agent],\n",
    "    messages=[],\n",
    "    max_round=5\n",
    ")\n",
    "\n",
    "group_manager = GroupChatManager(\n",
    "    groupchat=groupchat,\n",
    "    name=\"manager\",\n",
    "    llm_config=llm_config  # 👈 REQUIRED to resolve your error\n",
    ")\n",
    "\n",
    "# Start Interaction\n",
    "user.initiate_chat(group_manager)\n"
   ]
  },
  {
   "cell_type": "markdown",
   "id": "97c68c81",
   "metadata": {},
   "source": []
  }
 ],
 "metadata": {
  "kernelspec": {
   "display_name": "torch",
   "language": "python",
   "name": "python3"
  },
  "language_info": {
   "codemirror_mode": {
    "name": "ipython",
    "version": 3
   },
   "file_extension": ".py",
   "mimetype": "text/x-python",
   "name": "python",
   "nbconvert_exporter": "python",
   "pygments_lexer": "ipython3",
   "version": "3.12.3"
  }
 },
 "nbformat": 4,
 "nbformat_minor": 5
}
