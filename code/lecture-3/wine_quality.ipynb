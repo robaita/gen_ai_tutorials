{
  "nbformat": 4,
  "nbformat_minor": 0,
  "metadata": {
    "colab": {
      "provenance": [],
      "gpuType": "T4"
    },
    "kernelspec": {
      "name": "python3",
      "display_name": "Python 3"
    },
    "language_info": {
      "name": "python"
    },
    "accelerator": "GPU"
  },
  "cells": [
    {
      "cell_type": "code",
      "execution_count": 12,
      "metadata": {
        "id": "zHAWka-Y5_qb"
      },
      "outputs": [],
      "source": [
        "import pandas as pd\n",
        "import tensorflow as tf\n",
        "from tensorflow.keras import layers, models\n",
        "from sklearn.model_selection import train_test_split\n",
        "from sklearn.preprocessing import StandardScaler\n",
        "import numpy as np\n",
        "\n",
        "Input variables (based on physicochemical tests):\n",
        "   1 - fixed acidity\n",
        "   2 - volatile acidity\n",
        "   3 - citric acid\n",
        "   4 - residual sugar\n",
        "   5 - chlorides\n",
        "   6 - free sulfur dioxide\n",
        "   7 - total sulfur dioxide\n",
        "   8 - density\n",
        "   9 - pH\n",
        "   10 - sulphates\n",
        "   11 - alcohol\n",
        "   Output variable (based on sensory data):\n",
        "   12 - quality (score between 0 and 10)\n",
        "\n"
      ]
    },
    {
      "cell_type": "code",
      "source": [
        "data = pd.read_csv('/content/winequality-red.csv', sep=';')\n",
        "X = data.drop('quality', axis=1)\n",
        "y = data['quality']\n",
        "\n"
      ],
      "metadata": {
        "id": "Tt_gepke6H4Z"
      },
      "execution_count": 6,
      "outputs": []
    },
    {
      "cell_type": "code",
      "source": [
        "X = StandardScaler().fit_transform(X)\n",
        "X_train, X_test, y_train, y_test = train_test_split(X, y, test_size=0.2)\n",
        "\n"
      ],
      "metadata": {
        "id": "hmYTuWCz6JVU"
      },
      "execution_count": 7,
      "outputs": []
    },
    {
      "cell_type": "code",
      "source": [
        "model = tf.keras.Sequential([\n",
        "    layers.Dense(64, activation='relu', input_shape=(X.shape[1],)),\n",
        "    layers.Dense(32, activation='relu'),\n",
        "    layers.Dense(1)\n",
        "])\n",
        "\n"
      ],
      "metadata": {
        "colab": {
          "base_uri": "https://localhost:8080/"
        },
        "id": "muFNCabT6LqI",
        "outputId": "fc673f41-dbed-4871-dda4-b9255befb4ce"
      },
      "execution_count": 8,
      "outputs": [
        {
          "output_type": "stream",
          "name": "stderr",
          "text": [
            "/usr/local/lib/python3.11/dist-packages/keras/src/layers/core/dense.py:87: UserWarning: Do not pass an `input_shape`/`input_dim` argument to a layer. When using Sequential models, prefer using an `Input(shape)` object as the first layer in the model instead.\n",
            "  super().__init__(activity_regularizer=activity_regularizer, **kwargs)\n"
          ]
        }
      ]
    },
    {
      "cell_type": "code",
      "source": [
        "model.compile(optimizer='sgd', loss='mse', metrics=['mae'])\n",
        "model.fit(X_train, y_train, epochs=10, validation_data=(X_test, y_test))"
      ],
      "metadata": {
        "colab": {
          "base_uri": "https://localhost:8080/"
        },
        "id": "O4S7oWFv6NcF",
        "outputId": "2d9e4764-8b62-4e2a-a275-9f533efe0ed1"
      },
      "execution_count": 19,
      "outputs": [
        {
          "output_type": "stream",
          "name": "stdout",
          "text": [
            "Epoch 1/10\n",
            "\u001b[1m40/40\u001b[0m \u001b[32m━━━━━━━━━━━━━━━━━━━━\u001b[0m\u001b[37m\u001b[0m \u001b[1m1s\u001b[0m 17ms/step - loss: 1.0411 - mae: 0.8151 - val_loss: 0.9905 - val_mae: 0.7966\n",
            "Epoch 2/10\n",
            "\u001b[1m40/40\u001b[0m \u001b[32m━━━━━━━━━━━━━━━━━━━━\u001b[0m\u001b[37m\u001b[0m \u001b[1m0s\u001b[0m 5ms/step - loss: 0.9110 - mae: 0.7348 - val_loss: 0.8984 - val_mae: 0.7504\n",
            "Epoch 3/10\n",
            "\u001b[1m40/40\u001b[0m \u001b[32m━━━━━━━━━━━━━━━━━━━━\u001b[0m\u001b[37m\u001b[0m \u001b[1m0s\u001b[0m 5ms/step - loss: 0.7198 - mae: 0.6681 - val_loss: 0.7822 - val_mae: 0.6929\n",
            "Epoch 4/10\n",
            "\u001b[1m40/40\u001b[0m \u001b[32m━━━━━━━━━━━━━━━━━━━━\u001b[0m\u001b[37m\u001b[0m \u001b[1m0s\u001b[0m 4ms/step - loss: 0.6938 - mae: 0.6532 - val_loss: 0.7289 - val_mae: 0.6709\n",
            "Epoch 5/10\n",
            "\u001b[1m40/40\u001b[0m \u001b[32m━━━━━━━━━━━━━━━━━━━━\u001b[0m\u001b[37m\u001b[0m \u001b[1m0s\u001b[0m 4ms/step - loss: 0.6224 - mae: 0.6158 - val_loss: 0.8405 - val_mae: 0.7287\n",
            "Epoch 6/10\n",
            "\u001b[1m40/40\u001b[0m \u001b[32m━━━━━━━━━━━━━━━━━━━━\u001b[0m\u001b[37m\u001b[0m \u001b[1m0s\u001b[0m 4ms/step - loss: 0.5434 - mae: 0.5696 - val_loss: 0.7262 - val_mae: 0.6747\n",
            "Epoch 7/10\n",
            "\u001b[1m40/40\u001b[0m \u001b[32m━━━━━━━━━━━━━━━━━━━━\u001b[0m\u001b[37m\u001b[0m \u001b[1m0s\u001b[0m 4ms/step - loss: 0.5379 - mae: 0.5639 - val_loss: 0.6414 - val_mae: 0.6277\n",
            "Epoch 8/10\n",
            "\u001b[1m40/40\u001b[0m \u001b[32m━━━━━━━━━━━━━━━━━━━━\u001b[0m\u001b[37m\u001b[0m \u001b[1m0s\u001b[0m 4ms/step - loss: 0.5036 - mae: 0.5570 - val_loss: 0.6523 - val_mae: 0.6260\n",
            "Epoch 9/10\n",
            "\u001b[1m40/40\u001b[0m \u001b[32m━━━━━━━━━━━━━━━━━━━━\u001b[0m\u001b[37m\u001b[0m \u001b[1m0s\u001b[0m 4ms/step - loss: 0.4692 - mae: 0.5350 - val_loss: 0.6173 - val_mae: 0.6248\n",
            "Epoch 10/10\n",
            "\u001b[1m40/40\u001b[0m \u001b[32m━━━━━━━━━━━━━━━━━━━━\u001b[0m\u001b[37m\u001b[0m \u001b[1m0s\u001b[0m 4ms/step - loss: 0.4386 - mae: 0.5278 - val_loss: 0.6414 - val_mae: 0.6400\n"
          ]
        },
        {
          "output_type": "execute_result",
          "data": {
            "text/plain": [
              "<keras.src.callbacks.history.History at 0x7d6fe07ca8d0>"
            ]
          },
          "metadata": {},
          "execution_count": 19
        }
      ]
    },
    {
      "cell_type": "code",
      "source": [
        "# Evaluate the model\n",
        "test_loss, test_acc = model.evaluate(X_test, y_test, verbose=0)\n",
        "print(f\"Test accuracy: {test_acc * 100:.2f}%\")"
      ],
      "metadata": {
        "colab": {
          "base_uri": "https://localhost:8080/"
        },
        "id": "umIEcgEr69XM",
        "outputId": "1a15954d-717e-4599-aad7-8ee89c350840"
      },
      "execution_count": 20,
      "outputs": [
        {
          "output_type": "stream",
          "name": "stdout",
          "text": [
            "Test accuracy: 64.00%\n"
          ]
        }
      ]
    },
    {
      "cell_type": "code",
      "source": [
        "import random\n",
        "\n",
        "# Pick a random test sample\n",
        "index = random.randint(0, X_test.shape[0] - 1)\n",
        "\n",
        "sample_image = X_test[index]\n",
        "\n",
        "# Access ground truth using integer location (iloc)\n",
        "ground_truth = y_test.iloc[index]\n",
        "\n",
        "# Predict the label\n",
        "logits = model.predict(sample_image.reshape(1, -1))\n",
        "predicted_value = logits[0][0] # Get the single predicted value\n",
        "\n",
        "print(f\"Ground truth value: {ground_truth}\")\n",
        "print(f\"Predicted value: {predicted_value:.2f}\")\n"
      ],
      "metadata": {
        "colab": {
          "base_uri": "https://localhost:8080/"
        },
        "id": "bihTgWyN7Hlf",
        "outputId": "0e1ebae6-4d38-4234-97bd-9c09f465fa14"
      },
      "execution_count": 21,
      "outputs": [
        {
          "output_type": "stream",
          "name": "stdout",
          "text": [
            "\u001b[1m1/1\u001b[0m \u001b[32m━━━━━━━━━━━━━━━━━━━━\u001b[0m\u001b[37m\u001b[0m \u001b[1m0s\u001b[0m 159ms/step\n",
            "Ground truth value: 7\n",
            "Predicted value: 6.66\n"
          ]
        }
      ]
    }
  ]
}