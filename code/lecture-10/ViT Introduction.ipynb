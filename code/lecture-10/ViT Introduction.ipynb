{
 "cells": [
  {
   "cell_type": "code",
   "execution_count": 4,
   "id": "b6fc0075",
   "metadata": {},
   "outputs": [],
   "source": [
    "import torch\n",
    "import torch.nn as nn\n",
    "\n",
    "class PatchEmbedding(nn.Module):\n",
    "    def __init__(self, in_channels=3, patch_size=16, emb_size=768, img_size=224):\n",
    "        super().__init__()\n",
    "        self.patch_size = patch_size\n",
    "        self.projection = nn.Conv2d(\n",
    "            in_channels, out_channels=emb_size, kernel_size=patch_size, stride=patch_size\n",
    "        )\n",
    "        print(\"Weight matrix shape:\", self.projection.weight.shape)\n",
    "        # print(\"Weight matrix:\", self.projection.weight)\n",
    "        print(\"Bias:\", self.projection.bias.shape)\n",
    "        # print(\"Requires Grad:\", conv.weight.requires_grad)\n",
    "    def forward(self, x):\n",
    "        x = self.projection(x)  # shape: [B, D, H/P, W/P]\n",
    "        print(\"X:\",x.shape)\n",
    "        x = x.flatten(2)        # shape: [B, D, N]\n",
    "        print(\"X:\",x.shape)\n",
    "        x = x.transpose(1, 2)   # shape: [B, N, D]\n",
    "        print(\"X:\",x.shape)\n",
    "        return x\n"
   ]
  },
  {
   "cell_type": "code",
   "execution_count": 11,
   "id": "ba0b1bca",
   "metadata": {},
   "outputs": [
    {
     "name": "stdout",
     "output_type": "stream",
     "text": [
      "Weight matrix shape: torch.Size([768, 3, 16, 16])\n",
      "Bias: torch.Size([768])\n",
      "X: torch.Size([1, 768, 14, 14])\n",
      "X: torch.Size([1, 768, 196])\n",
      "X: torch.Size([1, 196, 768])\n",
      "Output shape: torch.Size([1, 196, 768])\n"
     ]
    }
   ],
   "source": [
    "in_channels=3; patch_size=16; emb_size=768; img_size=224\n",
    "patches = PatchEmbedding(in_channels, patch_size, emb_size, img_size)\n",
    "# Example input tensor with shape [B, C, H, W]\n",
    "input_tensor = torch.randn(1, 3, 224, 224)  # Batch size of 1\n",
    "x = patches(input_tensor)\n",
    "print(\"Output shape:\", x.shape)  # Should be [1, 196, 768] for a 224x224 image with 14x14 patches\n"
   ]
  },
  {
   "cell_type": "code",
   "execution_count": 12,
   "id": "2785dfe7",
   "metadata": {},
   "outputs": [
    {
     "name": "stdout",
     "output_type": "stream",
     "text": [
      "LayerNorm output shape: torch.Size([1, 196, 768])\n"
     ]
    }
   ],
   "source": [
    "layer_norm = nn.LayerNorm(emb_size)\n",
    "x_norm = layer_norm(x) # B x N x D\n",
    "\n",
    "print(\"LayerNorm output shape:\", x_norm.shape)  # Should be [1, 196, 768]\n"
   ]
  },
  {
   "cell_type": "code",
   "execution_count": null,
   "id": "16c46d5a",
   "metadata": {},
   "outputs": [
    {
     "name": "stdout",
     "output_type": "stream",
     "text": [
      "torch.Size([1, 196, 768])\n"
     ]
    }
   ],
   "source": [
    "attn = nn.MultiheadAttention(embed_dim=emb_size, num_heads=8, batch_first=True)\n",
    "x_attn, _ = attn(x_norm, x_norm, x_norm)\n",
    "x = x + x_attn  # Residual connection # [1, 196, 768]\n",
    "\n",
    "print(x.shape)"
   ]
  },
  {
   "cell_type": "code",
   "execution_count": null,
   "id": "dc9a5451",
   "metadata": {},
   "outputs": [
    {
     "name": "stdout",
     "output_type": "stream",
     "text": [
      "torch.Size([1, 196, 768])\n"
     ]
    }
   ],
   "source": [
    "x = layer_norm(x) # norm before feedforward # [1, 196, 768]\n",
    "\n",
    "mlp = nn.Sequential(\n",
    "    nn.Linear(emb_size, emb_size * 4),\n",
    "    nn.ReLU(),\n",
    "    nn.Linear(emb_size * 4, emb_size)\n",
    ")\n",
    "x_mlp = mlp(x)  # Feed forward network\n",
    "x = x + x_mlp  # Residual connection # [1, 196, 768]\n",
    "\n",
    "print(x.shape)"
   ]
  },
  {
   "cell_type": "code",
   "execution_count": null,
   "id": "246d5cc9",
   "metadata": {},
   "outputs": [],
   "source": [
    "n_classes =  1000  # Number of classes for ImageNet\n",
    "# Output head for ImageNet\n",
    "output_layer = nn.Sequential(\n",
    "    nn.Linear(emb_size, n_classes),      # from last hidden size to 1000 classes\n",
    "    nn.Softmax(dim=1)          # softmax over class dimension\n",
    ")\n",
    "\n",
    "# print(output_layer.shape)"
   ]
  }
 ],
 "metadata": {
  "kernelspec": {
   "display_name": "torch",
   "language": "python",
   "name": "python3"
  },
  "language_info": {
   "codemirror_mode": {
    "name": "ipython",
    "version": 3
   },
   "file_extension": ".py",
   "mimetype": "text/x-python",
   "name": "python",
   "nbconvert_exporter": "python",
   "pygments_lexer": "ipython3",
   "version": "3.12.3"
  }
 },
 "nbformat": 4,
 "nbformat_minor": 5
}
